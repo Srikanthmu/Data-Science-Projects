{
 "cells": [
  {
   "cell_type": "markdown",
   "id": "659d623a",
   "metadata": {
    "id": "659d623a"
   },
   "source": [
    "## Table of Contents\n",
    "\n",
    "1. **[Import Libraries](#import_lib)**\n",
    "2. **[Functions](#set_options)**\n",
    "3. **[Read Data](#Read_Data)**\n",
    "4. **[Exploratory Data Analysis](#data_preparation)**\n",
    "    - 4.1 - [Preparing the Dataset](#Data_Preparing)\n",
    "        - 4.1.1 - [Data Dimension](#Data_Shape)\n",
    "        - 4.1.2 - [Data Types](#Data_Types)\n",
    "        - 4.1.3 - [Missing Values](#Missing_Values)\n",
    "        - 4.1.4 - [Duplicate Data](#duplicate)\n",
    "5. **[Target variable](#Data_Shape)**\n",
    "6. **[Feature Engineering](#fea_sca)**\n",
    "    - 6.1 - [Encoding](#cat_enc)\n",
    "    - 6.2 - [Applying PCA](#fea_sca)\n",
    "    - 6.3 - [Selecting Principal components](#split)\n",
    "7. **[splitting data](#split)**\n",
    "    - 7.1 - [Distribution of event in test and train](#split)\n",
    "    - 7.2 - [Transforming data to PCA](#split)\n",
    "8. **[Model building](#dec_tre)**\n",
    "   - 8.1 - [Logistic Regression](#log_reg)   \n",
    "   - 8.2 - [Random Forest Classifier](#log_reg)\n",
    "        - 8.2.1 - [Base model](#log_reg)\n",
    "        - 8.2.2 - [Feature importance](#dec_tre)\n",
    "        - 8.2.3 - [Hyper parameter](#dec_tre)\n",
    "        - 8.2.4 - [final light gbm model](#dec_tre)\n",
    "   - 8.3 - [Adaboost Classifier](#log_reg)\n",
    "        - 8.3.1 - [Base model](#log_reg)\n",
    "        - 8.3.2 - [Hyper parameter](#dec_tre)\n",
    "        - 8.3.3 - [final light gbm model](#dec_tre)\n",
    "  - 8.4 - [GradientBoosting Classifier](#log_reg)\n",
    "        - 8.4.1 - [Base model](#log_reg)\n",
    "        - 8.4.2 - [Feature importance](#dec_tre)\n",
    "        - 8.4.3 - [Hyper parameter](#dec_tre)\n",
    "        - 8.4.4 - [final light gbm model](#dec_tre)\n",
    "  - 8.5 - [XGBOOST Classifier](#dec_tre)\n",
    "        - 8.5.1 - [base model](#dec_tre)\n",
    "        - 8.5.2 - [Feature importance](#dec_tre)\n",
    "        - 8.5.3 - [Hyper parameter](#dec_tre)\n",
    "        - 8.5.4 - [final light gbm model](#dec_tre)\n",
    "   - 8.6 - [Light GBM model](#dec_tre)\n",
    "        - 8.6.1 - [base model](#dec_tre)\n",
    "        - 8.6.2 - [Feature importance](#dec_tre)\n",
    "        - 8.6.3 - [correlation](#correlation)\n",
    "        - 8.6.4 - [vif](#dec_tre)\n",
    "        - 8.6.5 - [Hyper parameter](#dec_tre)\n",
    "        - 8.6.6 - [final light gbm model](#dec_tre)\n",
    "9. **[Understanding industrial approach](#dec_tre)**  \n",
    "   - 9.1 - [Metrics](#log_reg)\n",
    "        - 9.1.1 - [Fill rate ](#log_reg)\n",
    "        - 9.1.2 - [WOE and IV](#dec_tre)\n",
    "   - 9.2 - [conversion raw to woe values](#log_reg)\n",
    "   - 9.3 - [Correlation and VIF](#log_reg)\n",
    "   - 9.4 - [Model evaluation](#log_reg)\n",
    "        - 9.4.1 - [Scorecard](#log_reg)\n",
    "        - 9.4.2 - [Ks table](#dec_tre)   \n",
    "10. **[Conclusion](#conclu)**\n",
    "11. **[Deployment](#deploy)**\n",
    "12. **[References](#Refer)**"
   ]
  },
  {
   "cell_type": "markdown",
   "id": "16c472bb",
   "metadata": {
    "id": "16c472bb"
   },
   "source": [
    "# 1. Import libraries"
   ]
  },
  {
   "cell_type": "code",
   "execution_count": 1,
   "id": "02750b42",
   "metadata": {
    "colab": {
     "base_uri": "https://localhost:8080/"
    },
    "executionInfo": {
     "elapsed": 1626,
     "status": "ok",
     "timestamp": 1647321728993,
     "user": {
      "displayName": "Srikanth M Srikanth M",
      "photoUrl": "https://lh3.googleusercontent.com/a-/AOh14GharHiNxh1XG74YPXeNYjJSbcgfWzjyfo6t2d8NR94=s64",
      "userId": "07608372324138559378"
     },
     "user_tz": -330
    },
    "id": "02750b42",
    "outputId": "68923cc1-0aa0-4052-e42e-9f5b538144b4"
   },
   "outputs": [
    {
     "name": "stdout",
     "output_type": "stream",
     "text": [
      "Requirement already satisfied: xgboost in /usr/local/lib/python3.7/dist-packages (0.90)\n",
      "Requirement already satisfied: scipy in /usr/local/lib/python3.7/dist-packages (from xgboost) (1.4.1)\n",
      "Requirement already satisfied: numpy in /usr/local/lib/python3.7/dist-packages (from xgboost) (1.21.5)\n"
     ]
    }
   ],
   "source": [
    "pip install xgboost"
   ]
  },
  {
   "cell_type": "code",
   "execution_count": 2,
   "id": "726607be",
   "metadata": {
    "colab": {
     "base_uri": "https://localhost:8080/"
    },
    "executionInfo": {
     "elapsed": 3314,
     "status": "ok",
     "timestamp": 1647321732295,
     "user": {
      "displayName": "Srikanth M Srikanth M",
      "photoUrl": "https://lh3.googleusercontent.com/a-/AOh14GharHiNxh1XG74YPXeNYjJSbcgfWzjyfo6t2d8NR94=s64",
      "userId": "07608372324138559378"
     },
     "user_tz": -330
    },
    "id": "726607be",
    "outputId": "3771a71d-86a0-41de-f346-5f67fd2cd005"
   },
   "outputs": [
    {
     "name": "stdout",
     "output_type": "stream",
     "text": [
      "Requirement already satisfied: imblearn in /usr/local/lib/python3.7/dist-packages (0.0)\n",
      "Requirement already satisfied: imbalanced-learn in /usr/local/lib/python3.7/dist-packages (from imblearn) (0.8.1)\n",
      "Requirement already satisfied: joblib>=0.11 in /usr/local/lib/python3.7/dist-packages (from imbalanced-learn->imblearn) (1.1.0)\n",
      "Requirement already satisfied: scikit-learn>=0.24 in /usr/local/lib/python3.7/dist-packages (from imbalanced-learn->imblearn) (1.0.2)\n",
      "Requirement already satisfied: scipy>=0.19.1 in /usr/local/lib/python3.7/dist-packages (from imbalanced-learn->imblearn) (1.4.1)\n",
      "Requirement already satisfied: numpy>=1.13.3 in /usr/local/lib/python3.7/dist-packages (from imbalanced-learn->imblearn) (1.21.5)\n",
      "Requirement already satisfied: threadpoolctl>=2.0.0 in /usr/local/lib/python3.7/dist-packages (from scikit-learn>=0.24->imbalanced-learn->imblearn) (3.1.0)\n"
     ]
    }
   ],
   "source": [
    "pip install imblearn"
   ]
  },
  {
   "cell_type": "code",
   "execution_count": 1,
   "id": "83210817",
   "metadata": {
    "colab": {
     "base_uri": "https://localhost:8080/"
    },
    "executionInfo": {
     "elapsed": 2192,
     "status": "ok",
     "timestamp": 1647321817101,
     "user": {
      "displayName": "Srikanth M Srikanth M",
      "photoUrl": "https://lh3.googleusercontent.com/a-/AOh14GharHiNxh1XG74YPXeNYjJSbcgfWzjyfo6t2d8NR94=s64",
      "userId": "07608372324138559378"
     },
     "user_tz": -330
    },
    "id": "83210817",
    "outputId": "472ec66b-c38f-42f2-cdc9-8f722603b51c"
   },
   "outputs": [],
   "source": [
    "import numpy as np\n",
    "import pandas as pd\n",
    "import matplotlib.pyplot as plt\n",
    "import seaborn as sns\n",
    "from sklearn.preprocessing import StandardScaler,LabelEncoder\n",
    "from sklearn.model_selection import train_test_split\n",
    "from sklearn.ensemble import RandomForestClassifier\n",
    "from sklearn.metrics import confusion_matrix,classification_report,accuracy_score,roc_curve,roc_auc_score\n",
    "from sklearn.model_selection import cross_val_score \n",
    "from lightgbm import LGBMClassifier,plot_importance,plot_metric\n",
    "from statsmodels.stats.outliers_influence import variance_inflation_factor\n",
    "from sklearn.model_selection import GridSearchCV\n",
    "from sklearn.linear_model import LogisticRegression\n",
    "from sklearn.decomposition import PCA\n",
    "from sklearn.ensemble import RandomForestClassifier\n",
    "from sklearn.ensemble import AdaBoostClassifier\n",
    "from sklearn.ensemble import GradientBoostingClassifier\n",
    "from sklearn.ensemble import StackingClassifier\n",
    "from sklearn import metrics\n",
    "from xgboost import XGBClassifier"
   ]
  },
  {
   "cell_type": "markdown",
   "id": "1247d29a",
   "metadata": {
    "id": "1247d29a"
   },
   "source": [
    "# 2.Defining Functions"
   ]
  },
  {
   "cell_type": "code",
   "execution_count": 2,
   "id": "d06db0a3",
   "metadata": {
    "executionInfo": {
     "elapsed": 401,
     "status": "ok",
     "timestamp": 1647335612009,
     "user": {
      "displayName": "Srikanth M Srikanth M",
      "photoUrl": "https://lh3.googleusercontent.com/a-/AOh14GharHiNxh1XG74YPXeNYjJSbcgfWzjyfo6t2d8NR94=s64",
      "userId": "07608372324138559378"
     },
     "user_tz": -330
    },
    "id": "d06db0a3"
   },
   "outputs": [],
   "source": [
    "def scorecard(model,X_train,X_test):\n",
    "    y_pred=model.predict(X_test)\n",
    "    y_prob=model.predict_proba(X_test)[:,1]\n",
    "    cc=confusion_matrix(y_test,y_pred)\n",
    "    TN=cc[0,0]\n",
    "    TP=cc[1,1]\n",
    "    FP=cc[0,1]\n",
    "    FN=cc[1,0]\n",
    "    accuracy=(TP+TN)/(TP+TN+FP+FN)\n",
    "    precision=TP/(TP+FP)\n",
    "    recall=TP/(TP+FN)\n",
    "    Tpr=TP/(TP+FN)\n",
    "    Fpr=FP/(FP+TN)\n",
    "    f1_ratio=2*((recall*precision)/(precision+recall))\n",
    "    auc_test=roc_auc_score(y_test,y_pred)\n",
    "    y_pred_tr=model.predict(X_train)\n",
    "    y_prob_tr=model.predict_proba(X_train)[:,1]\n",
    "    cctrain=confusion_matrix(y_train,y_pred_tr)\n",
    "    TN=cctrain[0,0]\n",
    "    TP=cctrain[1,1]\n",
    "    FP=cctrain[0,1]\n",
    "    FN=cctrain[1,0]\n",
    "    accuracy_tr=(TP+TN)/(TP+TN+FP+FN)\n",
    "    precision_tr=TP/(TP+FP)\n",
    "    recall_tr=TP/(TP+FN)\n",
    "    Tpr_tr=TP/(TP+FN)\n",
    "    Fpr_tr=FP/(FP+TN)\n",
    "    f1_ratio_tr=2*((recall_tr*precision_tr)/(precision_tr+recall_tr))\n",
    "    auc_tr=roc_auc_score(y_train,y_pred_tr)\n",
    "    df=pd.DataFrame({'metrics':['accuracy','precision','recall','TPR','FPR','f1_ratio','auc_score'],\n",
    "                     'train':[accuracy_tr,precision_tr,recall_tr,Tpr_tr,Fpr_tr,f1_ratio_tr,auc_tr],\n",
    "                      'test':[accuracy,precision,recall,Tpr,Fpr,f1_ratio,auc_test]})\n",
    "    df=df.set_index('metrics')\n",
    "    return df        \n",
    "        \n",
    "    return df\n",
    "def correlation(d,poscutoff,negcutoff):\n",
    "    v1=[]\n",
    "    v2=[]\n",
    "    corr=[]\n",
    "    for a in d.columns:\n",
    "        for b in d.drop(labels=a,axis=1).columns:\n",
    "            if d[a].corr(d[b])>poscutoff:\n",
    "                v1.append(a)\n",
    "                v2.append(b)\n",
    "                corr.append(d[a].corr(d[b]))\n",
    "            elif d[a].corr(d[b])<negcutoff:\n",
    "                v1.append(a)\n",
    "                v2.append(b)\n",
    "                corr.append(d[a].corr(d[b]))\n",
    "    df=pd.DataFrame({'v1':v1,'v2':v2,'corr':corr})\n",
    "    \n",
    "    return df\n",
    "def plot_confusion_matrix(model):\n",
    "    pred=model.predict(X_test_pca)\n",
    "    cc=confusion_matrix(y_test,pred)\n",
    "    plt.rcParams['figure.figsize']=(8,4)\n",
    "    conf_matrix = pd.DataFrame(data = cc,columns = ['Predicted:0','Predicted:1'], index = ['Actual:0','Actual:1'])\n",
    "    sns.heatmap(conf_matrix, annot= True, fmt = 'd', cmap ='Reds', cbar = False, linewidths = 0.1, annot_kws = {'size':25})\n",
    "    plt.xticks(fontsize = 20)\n",
    "    plt.yticks(fontsize = 20)\n",
    "    plt.show()\n",
    "\n"
   ]
  },
  {
   "cell_type": "markdown",
   "id": "e471d05a",
   "metadata": {
    "id": "e471d05a"
   },
   "source": [
    "# 3. Read data"
   ]
  },
  {
   "cell_type": "code",
   "execution_count": 3,
   "id": "fab28c7b",
   "metadata": {
    "colab": {
     "base_uri": "https://localhost:8080/",
     "height": 300
    },
    "executionInfo": {
     "elapsed": 4619,
     "status": "ok",
     "timestamp": 1647321900536,
     "user": {
      "displayName": "Srikanth M Srikanth M",
      "photoUrl": "https://lh3.googleusercontent.com/a-/AOh14GharHiNxh1XG74YPXeNYjJSbcgfWzjyfo6t2d8NR94=s64",
      "userId": "07608372324138559378"
     },
     "user_tz": -330
    },
    "id": "fab28c7b",
    "outputId": "e2ddfe01-f0f9-4d8a-81e7-b08bb62a787c"
   },
   "outputs": [
    {
     "data": {
      "text/html": [
       "<div>\n",
       "<style scoped>\n",
       "    .dataframe tbody tr th:only-of-type {\n",
       "        vertical-align: middle;\n",
       "    }\n",
       "\n",
       "    .dataframe tbody tr th {\n",
       "        vertical-align: top;\n",
       "    }\n",
       "\n",
       "    .dataframe thead th {\n",
       "        text-align: right;\n",
       "    }\n",
       "</style>\n",
       "<table border=\"1\" class=\"dataframe\">\n",
       "  <thead>\n",
       "    <tr style=\"text-align: right;\">\n",
       "      <th></th>\n",
       "      <th>var_1</th>\n",
       "      <th>var_2</th>\n",
       "      <th>var_3</th>\n",
       "      <th>var_4</th>\n",
       "      <th>var_5</th>\n",
       "      <th>var_6</th>\n",
       "      <th>var_7</th>\n",
       "      <th>var_8</th>\n",
       "      <th>var_9</th>\n",
       "      <th>var_10</th>\n",
       "      <th>...</th>\n",
       "      <th>var_3014</th>\n",
       "      <th>var_3015</th>\n",
       "      <th>var_3016</th>\n",
       "      <th>var_3017</th>\n",
       "      <th>var_3018</th>\n",
       "      <th>var_3019</th>\n",
       "      <th>var_3020</th>\n",
       "      <th>var_3021</th>\n",
       "      <th>var_3022</th>\n",
       "      <th>Delay</th>\n",
       "    </tr>\n",
       "  </thead>\n",
       "  <tbody>\n",
       "    <tr>\n",
       "      <th>0</th>\n",
       "      <td>-2.0</td>\n",
       "      <td>0.000000</td>\n",
       "      <td>-2.0</td>\n",
       "      <td>0.000000</td>\n",
       "      <td>0.0</td>\n",
       "      <td>0.0</td>\n",
       "      <td>0.0</td>\n",
       "      <td>0.0</td>\n",
       "      <td>0.0</td>\n",
       "      <td>0.0</td>\n",
       "      <td>...</td>\n",
       "      <td>29.0</td>\n",
       "      <td>10.0</td>\n",
       "      <td>8.0</td>\n",
       "      <td>6641.580000</td>\n",
       "      <td>8948.17</td>\n",
       "      <td>10106.0</td>\n",
       "      <td>10075.200</td>\n",
       "      <td>13919.200</td>\n",
       "      <td>14014.500</td>\n",
       "      <td>-24</td>\n",
       "    </tr>\n",
       "    <tr>\n",
       "      <th>1</th>\n",
       "      <td>-1.0</td>\n",
       "      <td>0.000000</td>\n",
       "      <td>0.0</td>\n",
       "      <td>0.000000</td>\n",
       "      <td>0.0</td>\n",
       "      <td>0.0</td>\n",
       "      <td>0.0</td>\n",
       "      <td>0.0</td>\n",
       "      <td>0.0</td>\n",
       "      <td>0.0</td>\n",
       "      <td>...</td>\n",
       "      <td>1.0</td>\n",
       "      <td>1.0</td>\n",
       "      <td>1.0</td>\n",
       "      <td>10647.000000</td>\n",
       "      <td>10647.00</td>\n",
       "      <td>10647.0</td>\n",
       "      <td>31019.000</td>\n",
       "      <td>31019.000</td>\n",
       "      <td>31019.000</td>\n",
       "      <td>8</td>\n",
       "    </tr>\n",
       "    <tr>\n",
       "      <th>2</th>\n",
       "      <td>-1.0</td>\n",
       "      <td>0.000000</td>\n",
       "      <td>1.0</td>\n",
       "      <td>0.880797</td>\n",
       "      <td>0.0</td>\n",
       "      <td>0.0</td>\n",
       "      <td>0.0</td>\n",
       "      <td>0.0</td>\n",
       "      <td>0.0</td>\n",
       "      <td>0.0</td>\n",
       "      <td>...</td>\n",
       "      <td>49.0</td>\n",
       "      <td>49.0</td>\n",
       "      <td>28.0</td>\n",
       "      <td>0.000000</td>\n",
       "      <td>0.00</td>\n",
       "      <td>0.0</td>\n",
       "      <td>0.000</td>\n",
       "      <td>0.000</td>\n",
       "      <td>0.000</td>\n",
       "      <td>0</td>\n",
       "    </tr>\n",
       "    <tr>\n",
       "      <th>3</th>\n",
       "      <td>1.0</td>\n",
       "      <td>0.982014</td>\n",
       "      <td>-2.0</td>\n",
       "      <td>0.000000</td>\n",
       "      <td>0.0</td>\n",
       "      <td>0.0</td>\n",
       "      <td>0.0</td>\n",
       "      <td>0.0</td>\n",
       "      <td>0.0</td>\n",
       "      <td>0.0</td>\n",
       "      <td>...</td>\n",
       "      <td>3.0</td>\n",
       "      <td>1.0</td>\n",
       "      <td>0.0</td>\n",
       "      <td>0.083333</td>\n",
       "      <td>0.00</td>\n",
       "      <td>0.0</td>\n",
       "      <td>155.287</td>\n",
       "      <td>144.188</td>\n",
       "      <td>240.313</td>\n",
       "      <td>0</td>\n",
       "    </tr>\n",
       "    <tr>\n",
       "      <th>4</th>\n",
       "      <td>-2.0</td>\n",
       "      <td>0.000000</td>\n",
       "      <td>-2.0</td>\n",
       "      <td>0.000000</td>\n",
       "      <td>0.0</td>\n",
       "      <td>0.0</td>\n",
       "      <td>0.0</td>\n",
       "      <td>0.0</td>\n",
       "      <td>0.0</td>\n",
       "      <td>0.0</td>\n",
       "      <td>...</td>\n",
       "      <td>NaN</td>\n",
       "      <td>NaN</td>\n",
       "      <td>NaN</td>\n",
       "      <td>NaN</td>\n",
       "      <td>NaN</td>\n",
       "      <td>NaN</td>\n",
       "      <td>NaN</td>\n",
       "      <td>NaN</td>\n",
       "      <td>NaN</td>\n",
       "      <td>-5</td>\n",
       "    </tr>\n",
       "  </tbody>\n",
       "</table>\n",
       "<p>5 rows × 3023 columns</p>\n",
       "</div>"
      ],
      "text/plain": [
       "   var_1     var_2  var_3     var_4  var_5  var_6  var_7  var_8  var_9  \\\n",
       "0   -2.0  0.000000   -2.0  0.000000    0.0    0.0    0.0    0.0    0.0   \n",
       "1   -1.0  0.000000    0.0  0.000000    0.0    0.0    0.0    0.0    0.0   \n",
       "2   -1.0  0.000000    1.0  0.880797    0.0    0.0    0.0    0.0    0.0   \n",
       "3    1.0  0.982014   -2.0  0.000000    0.0    0.0    0.0    0.0    0.0   \n",
       "4   -2.0  0.000000   -2.0  0.000000    0.0    0.0    0.0    0.0    0.0   \n",
       "\n",
       "   var_10  ...  var_3014  var_3015  var_3016      var_3017  var_3018  \\\n",
       "0     0.0  ...      29.0      10.0       8.0   6641.580000   8948.17   \n",
       "1     0.0  ...       1.0       1.0       1.0  10647.000000  10647.00   \n",
       "2     0.0  ...      49.0      49.0      28.0      0.000000      0.00   \n",
       "3     0.0  ...       3.0       1.0       0.0      0.083333      0.00   \n",
       "4     0.0  ...       NaN       NaN       NaN           NaN       NaN   \n",
       "\n",
       "   var_3019   var_3020   var_3021   var_3022  Delay  \n",
       "0   10106.0  10075.200  13919.200  14014.500    -24  \n",
       "1   10647.0  31019.000  31019.000  31019.000      8  \n",
       "2       0.0      0.000      0.000      0.000      0  \n",
       "3       0.0    155.287    144.188    240.313      0  \n",
       "4       NaN        NaN        NaN        NaN     -5  \n",
       "\n",
       "[5 rows x 3023 columns]"
      ]
     },
     "execution_count": 3,
     "metadata": {},
     "output_type": "execute_result"
    }
   ],
   "source": [
    "data=pd.read_parquet('Project_data.parquet')\n",
    "data.head()"
   ]
  },
  {
   "cell_type": "markdown",
   "id": "9e2f7d84",
   "metadata": {
    "id": "9e2f7d84"
   },
   "source": [
    "# 4. Exploratory Data Analysis"
   ]
  },
  {
   "cell_type": "markdown",
   "id": "fc8468de",
   "metadata": {
    "id": "fc8468de"
   },
   "source": [
    "# 4.1. Preparing data"
   ]
  },
  {
   "cell_type": "markdown",
   "id": "c54eb74a",
   "metadata": {
    "id": "c54eb74a"
   },
   "source": [
    "# 4.1.1. data dimensions"
   ]
  },
  {
   "cell_type": "code",
   "execution_count": 4,
   "id": "5bdd0f0e",
   "metadata": {
    "colab": {
     "base_uri": "https://localhost:8080/"
    },
    "executionInfo": {
     "elapsed": 384,
     "status": "ok",
     "timestamp": 1647321909971,
     "user": {
      "displayName": "Srikanth M Srikanth M",
      "photoUrl": "https://lh3.googleusercontent.com/a-/AOh14GharHiNxh1XG74YPXeNYjJSbcgfWzjyfo6t2d8NR94=s64",
      "userId": "07608372324138559378"
     },
     "user_tz": -330
    },
    "id": "5bdd0f0e",
    "outputId": "53a82302-d058-4836-8750-6c90a1004dec"
   },
   "outputs": [
    {
     "name": "stdout",
     "output_type": "stream",
     "text": [
      " there are 11563  rows and  3023  variables in the dataset\n"
     ]
    }
   ],
   "source": [
    "print(' there are',data.shape[0],' rows and ',data.shape[1],' variables in the dataset')\n"
   ]
  },
  {
   "cell_type": "markdown",
   "id": "32046146",
   "metadata": {
    "id": "32046146"
   },
   "source": [
    "# 4.1.2. data types"
   ]
  },
  {
   "cell_type": "code",
   "execution_count": 5,
   "id": "59e414d5",
   "metadata": {
    "colab": {
     "base_uri": "https://localhost:8080/"
    },
    "executionInfo": {
     "elapsed": 392,
     "status": "ok",
     "timestamp": 1647321913312,
     "user": {
      "displayName": "Srikanth M Srikanth M",
      "photoUrl": "https://lh3.googleusercontent.com/a-/AOh14GharHiNxh1XG74YPXeNYjJSbcgfWzjyfo6t2d8NR94=s64",
      "userId": "07608372324138559378"
     },
     "user_tz": -330
    },
    "id": "59e414d5",
    "outputId": "330d55c6-8955-4469-d701-7485a0beed95"
   },
   "outputs": [
    {
     "data": {
      "text/plain": [
       "float64    3004\n",
       "int64        16\n",
       "object        3\n",
       "dtype: int64"
      ]
     },
     "execution_count": 5,
     "metadata": {},
     "output_type": "execute_result"
    }
   ],
   "source": [
    "data.dtypes.value_counts()"
   ]
  },
  {
   "cell_type": "markdown",
   "id": "0d68afc8",
   "metadata": {
    "id": "0d68afc8"
   },
   "source": [
    "there are 3004 float variables, 16 int variables and 4 categorical variables"
   ]
  },
  {
   "cell_type": "markdown",
   "id": "3284e51c",
   "metadata": {
    "id": "3284e51c"
   },
   "source": [
    "# 4.1.3. Missing values"
   ]
  },
  {
   "cell_type": "code",
   "execution_count": 6,
   "id": "af368969",
   "metadata": {
    "colab": {
     "base_uri": "https://localhost:8080/"
    },
    "executionInfo": {
     "elapsed": 424,
     "status": "ok",
     "timestamp": 1647321926258,
     "user": {
      "displayName": "Srikanth M Srikanth M",
      "photoUrl": "https://lh3.googleusercontent.com/a-/AOh14GharHiNxh1XG74YPXeNYjJSbcgfWzjyfo6t2d8NR94=s64",
      "userId": "07608372324138559378"
     },
     "user_tz": -330
    },
    "id": "af368969",
    "outputId": "51cbba40-4b49-4c4d-fee1-730d2d06fcf6"
   },
   "outputs": [
    {
     "data": {
      "text/plain": [
       "var_2268    100.0\n",
       "var_2650    100.0\n",
       "var_2649    100.0\n",
       "var_2648    100.0\n",
       "var_2647    100.0\n",
       "            ...  \n",
       "var_1562      0.0\n",
       "var_1563      0.0\n",
       "var_1564      0.0\n",
       "var_1565      0.0\n",
       "Delay         0.0\n",
       "Length: 3023, dtype: float64"
      ]
     },
     "execution_count": 6,
     "metadata": {},
     "output_type": "execute_result"
    }
   ],
   "source": [
    "null=pd.Series(data.isnull().sum()/data.shape[0]*100)\n",
    "var=null[null>=60].index\n",
    "null.sort_values(ascending=False)"
   ]
  },
  {
   "cell_type": "markdown",
   "id": "898b124e",
   "metadata": {
    "id": "898b124e"
   },
   "source": [
    "Dropping variables less than or equal  cutoff (i,e 60%)"
   ]
  },
  {
   "cell_type": "code",
   "execution_count": 7,
   "id": "f7d1b576",
   "metadata": {
    "colab": {
     "base_uri": "https://localhost:8080/"
    },
    "executionInfo": {
     "elapsed": 367,
     "status": "ok",
     "timestamp": 1647321929322,
     "user": {
      "displayName": "Srikanth M Srikanth M",
      "photoUrl": "https://lh3.googleusercontent.com/a-/AOh14GharHiNxh1XG74YPXeNYjJSbcgfWzjyfo6t2d8NR94=s64",
      "userId": "07608372324138559378"
     },
     "user_tz": -330
    },
    "id": "f7d1b576",
    "outputId": "8fa62be0-7887-4afe-9307-6155934fea93"
   },
   "outputs": [
    {
     "name": "stdout",
     "output_type": "stream",
     "text": [
      "before drop (11563, 3023)\n",
      "after drop (11563, 3015)\n"
     ]
    }
   ],
   "source": [
    "data1=data.drop(labels=var,axis=1)\n",
    "print('before drop',data.shape)\n",
    "print('after drop', data1.shape)"
   ]
  },
  {
   "cell_type": "code",
   "execution_count": 15,
   "id": "144043b7",
   "metadata": {},
   "outputs": [],
   "source": [
    "# replacing all null values in variales with its median values\n",
    "for var in data1.columns:\n",
    "    if data1[var].dtype in ('int64','float64'):\n",
    "        data1[var]=data1[var].fillna(data1[var].median())"
   ]
  },
  {
   "cell_type": "code",
   "execution_count": 16,
   "id": "adb24ccb",
   "metadata": {},
   "outputs": [
    {
     "data": {
      "text/plain": [
       "var_1       0\n",
       "var_2       0\n",
       "var_3       0\n",
       "var_4       0\n",
       "var_5       0\n",
       "           ..\n",
       "var_3019    0\n",
       "var_3020    0\n",
       "var_3021    0\n",
       "var_3022    0\n",
       "Delay       0\n",
       "Length: 3015, dtype: int64"
      ]
     },
     "execution_count": 16,
     "metadata": {},
     "output_type": "execute_result"
    }
   ],
   "source": [
    "data1.isnull().sum()"
   ]
  },
  {
   "cell_type": "code",
   "execution_count": null,
   "id": "8f96253b",
   "metadata": {},
   "outputs": [],
   "source": []
  },
  {
   "cell_type": "markdown",
   "id": "4354369b",
   "metadata": {
    "id": "4354369b"
   },
   "source": [
    "# 4.1.4. Duplicate records "
   ]
  },
  {
   "cell_type": "code",
   "execution_count": 17,
   "id": "8a0376e4",
   "metadata": {
    "executionInfo": {
     "elapsed": 2447,
     "status": "ok",
     "timestamp": 1647321934048,
     "user": {
      "displayName": "Srikanth M Srikanth M",
      "photoUrl": "https://lh3.googleusercontent.com/a-/AOh14GharHiNxh1XG74YPXeNYjJSbcgfWzjyfo6t2d8NR94=s64",
      "userId": "07608372324138559378"
     },
     "user_tz": -330
    },
    "id": "8a0376e4"
   },
   "outputs": [],
   "source": [
    "data2=data1.drop_duplicates()"
   ]
  },
  {
   "cell_type": "code",
   "execution_count": 18,
   "id": "2adfc085",
   "metadata": {
    "colab": {
     "base_uri": "https://localhost:8080/"
    },
    "executionInfo": {
     "elapsed": 70,
     "status": "ok",
     "timestamp": 1647321934052,
     "user": {
      "displayName": "Srikanth M Srikanth M",
      "photoUrl": "https://lh3.googleusercontent.com/a-/AOh14GharHiNxh1XG74YPXeNYjJSbcgfWzjyfo6t2d8NR94=s64",
      "userId": "07608372324138559378"
     },
     "user_tz": -330
    },
    "id": "2adfc085",
    "outputId": "3a987b94-967d-4d1f-c06e-bd39041bd5b2"
   },
   "outputs": [
    {
     "name": "stdout",
     "output_type": "stream",
     "text": [
      "before drop (11563, 3015)\n",
      "after drop (11563, 3015)\n"
     ]
    }
   ],
   "source": [
    "print('before drop',data1.shape)\n",
    "print('after drop', data2.shape)"
   ]
  },
  {
   "cell_type": "markdown",
   "id": "77742a4b",
   "metadata": {
    "id": "77742a4b"
   },
   "source": [
    "as we can see there is no duplicate records in the dataset"
   ]
  },
  {
   "cell_type": "markdown",
   "id": "e59bd3c1",
   "metadata": {
    "id": "e59bd3c1"
   },
   "source": [
    "# 5. Deciding target variable based on Delay "
   ]
  },
  {
   "cell_type": "markdown",
   "id": "b6b9b9a1",
   "metadata": {
    "id": "b6b9b9a1"
   },
   "source": [
    "target variable\n",
    "\n",
    "Max_delay_all<=2 is non_event (good customer)\n",
    "\n",
    "max_dela_all>=15 is event (bad customer)\n",
    "\n",
    "rest are grey"
   ]
  },
  {
   "cell_type": "code",
   "execution_count": 19,
   "id": "e77fd36d",
   "metadata": {
    "executionInfo": {
     "elapsed": 625,
     "status": "ok",
     "timestamp": 1647321936988,
     "user": {
      "displayName": "Srikanth M Srikanth M",
      "photoUrl": "https://lh3.googleusercontent.com/a-/AOh14GharHiNxh1XG74YPXeNYjJSbcgfWzjyfo6t2d8NR94=s64",
      "userId": "07608372324138559378"
     },
     "user_tz": -330
    },
    "id": "e77fd36d"
   },
   "outputs": [],
   "source": [
    "target=[]\n",
    "for i in range(len(data2)):\n",
    "    if data2['Delay'].iloc[i]<=2:\n",
    "        target.append('non event')\n",
    "    elif data2['Delay'].iloc[i]>=15:\n",
    "        target.append('event')\n",
    "    else:\n",
    "        target.append('grey')\n",
    "        \n",
    "data2['Event']=target"
   ]
  },
  {
   "cell_type": "code",
   "execution_count": 20,
   "id": "c5ae5151",
   "metadata": {
    "colab": {
     "base_uri": "https://localhost:8080/"
    },
    "executionInfo": {
     "elapsed": 14,
     "status": "ok",
     "timestamp": 1647321937348,
     "user": {
      "displayName": "Srikanth M Srikanth M",
      "photoUrl": "https://lh3.googleusercontent.com/a-/AOh14GharHiNxh1XG74YPXeNYjJSbcgfWzjyfo6t2d8NR94=s64",
      "userId": "07608372324138559378"
     },
     "user_tz": -330
    },
    "id": "c5ae5151",
    "outputId": "bb54ad44-f3f2-41ba-85f3-d089c63622f5"
   },
   "outputs": [
    {
     "data": {
      "text/plain": [
       "non event    77.609617\n",
       "event        16.189570\n",
       "grey          6.200813\n",
       "Name: Event, dtype: float64"
      ]
     },
     "execution_count": 20,
     "metadata": {},
     "output_type": "execute_result"
    }
   ],
   "source": [
    "data2.Event.value_counts(normalize=True)*100"
   ]
  },
  {
   "cell_type": "code",
   "execution_count": 21,
   "id": "cf86f54b",
   "metadata": {
    "colab": {
     "base_uri": "https://localhost:8080/",
     "height": 351
    },
    "executionInfo": {
     "elapsed": 24,
     "status": "ok",
     "timestamp": 1647321938300,
     "user": {
      "displayName": "Srikanth M Srikanth M",
      "photoUrl": "https://lh3.googleusercontent.com/a-/AOh14GharHiNxh1XG74YPXeNYjJSbcgfWzjyfo6t2d8NR94=s64",
      "userId": "07608372324138559378"
     },
     "user_tz": -330
    },
    "id": "cf86f54b",
    "outputId": "d295cbc7-01b7-44d1-fce2-fbb74dd73189"
   },
   "outputs": [
    {
     "name": "stderr",
     "output_type": "stream",
     "text": [
      "C:\\ProgramData\\Anaconda3\\lib\\site-packages\\seaborn\\_decorators.py:36: FutureWarning: Pass the following variable as a keyword arg: x. From version 0.12, the only valid positional argument will be `data`, and passing other arguments without an explicit keyword will result in an error or misinterpretation.\n",
      "  warnings.warn(\n"
     ]
    },
    {
     "data": {
      "text/plain": [
       "<AxesSubplot:xlabel='Event', ylabel='count'>"
      ]
     },
     "execution_count": 21,
     "metadata": {},
     "output_type": "execute_result"
    },
    {
     "data": {
      "image/png": "[encoded data removed]",
      "text/plain": [
       "<Figure size 432x288 with 1 Axes>"
      ]
     },
     "metadata": {
      "needs_background": "light"
     },
     "output_type": "display_data"
    }
   ],
   "source": [
    "sns.countplot(data2.Event)"
   ]
  },
  {
   "cell_type": "markdown",
   "id": "9085af9a",
   "metadata": {
    "id": "9085af9a"
   },
   "source": [
    "The above Event rate shows that there are only 6.2% of grey customers in the data so it does not help in classification of customers so dropping all grey customers"
   ]
  },
  {
   "cell_type": "code",
   "execution_count": 22,
   "id": "d789e222",
   "metadata": {
    "colab": {
     "base_uri": "https://localhost:8080/"
    },
    "executionInfo": {
     "elapsed": 1073,
     "status": "ok",
     "timestamp": 1647321948852,
     "user": {
      "displayName": "Srikanth M Srikanth M",
      "photoUrl": "https://lh3.googleusercontent.com/a-/AOh14GharHiNxh1XG74YPXeNYjJSbcgfWzjyfo6t2d8NR94=s64",
      "userId": "07608372324138559378"
     },
     "user_tz": -330
    },
    "id": "d789e222",
    "outputId": "d8ab52ac-65ab-47cd-da7e-40a1820e5b0f"
   },
   "outputs": [
    {
     "name": "stdout",
     "output_type": "stream",
     "text": [
      "before droping grey customer (11563, 3016)\n",
      "after droping grey customer (10846, 3016)\n"
     ]
    }
   ],
   "source": [
    "index_to_drop=data[data2.Event=='grey'].index\n",
    "data3=data2.drop(index_to_drop)\n",
    "print('before droping grey customer',data2.shape)\n",
    "print('after droping grey customer',data3.shape)"
   ]
  },
  {
   "cell_type": "code",
   "execution_count": 23,
   "id": "5beb1b3f",
   "metadata": {
    "executionInfo": {
     "elapsed": 495,
     "status": "ok",
     "timestamp": 1647321951120,
     "user": {
      "displayName": "Srikanth M Srikanth M",
      "photoUrl": "https://lh3.googleusercontent.com/a-/AOh14GharHiNxh1XG74YPXeNYjJSbcgfWzjyfo6t2d8NR94=s64",
      "userId": "07608372324138559378"
     },
     "user_tz": -330
    },
    "id": "5beb1b3f"
   },
   "outputs": [],
   "source": [
    "data3=data3.drop(labels='Delay',axis=1)"
   ]
  },
  {
   "cell_type": "markdown",
   "id": "74326ee0",
   "metadata": {
    "id": "74326ee0"
   },
   "source": [
    "# 6. Feature Engineering"
   ]
  },
  {
   "cell_type": "markdown",
   "id": "a05b5ae8",
   "metadata": {
    "id": "a05b5ae8"
   },
   "source": [
    "# 6.1. Scaling Data and Encoding"
   ]
  },
  {
   "cell_type": "code",
   "execution_count": 24,
   "id": "193c969f",
   "metadata": {
    "executionInfo": {
     "elapsed": 7,
     "status": "ok",
     "timestamp": 1647321952928,
     "user": {
      "displayName": "Srikanth M Srikanth M",
      "photoUrl": "https://lh3.googleusercontent.com/a-/AOh14GharHiNxh1XG74YPXeNYjJSbcgfWzjyfo6t2d8NR94=s64",
      "userId": "07608372324138559378"
     },
     "user_tz": -330
    },
    "id": "193c969f"
   },
   "outputs": [],
   "source": [
    "dic={'non event':0,'event':1}\n",
    "data3['Event']=data3['Event'].map(dic)"
   ]
  },
  {
   "cell_type": "code",
   "execution_count": 33,
   "id": "cb286f19",
   "metadata": {},
   "outputs": [
    {
     "data": {
      "text/html": [
       "<div>\n",
       "<style scoped>\n",
       "    .dataframe tbody tr th:only-of-type {\n",
       "        vertical-align: middle;\n",
       "    }\n",
       "\n",
       "    .dataframe tbody tr th {\n",
       "        vertical-align: top;\n",
       "    }\n",
       "\n",
       "    .dataframe thead th {\n",
       "        text-align: right;\n",
       "    }\n",
       "</style>\n",
       "<table border=\"1\" class=\"dataframe\">\n",
       "  <thead>\n",
       "    <tr style=\"text-align: right;\">\n",
       "      <th></th>\n",
       "      <th>var_1</th>\n",
       "      <th>var_2</th>\n",
       "      <th>var_3</th>\n",
       "      <th>var_4</th>\n",
       "      <th>var_5</th>\n",
       "      <th>var_6</th>\n",
       "      <th>var_7</th>\n",
       "      <th>var_8</th>\n",
       "      <th>var_9</th>\n",
       "      <th>var_10</th>\n",
       "      <th>...</th>\n",
       "      <th>var_3015</th>\n",
       "      <th>var_3016</th>\n",
       "      <th>var_3017</th>\n",
       "      <th>var_3018</th>\n",
       "      <th>var_3019</th>\n",
       "      <th>var_3020</th>\n",
       "      <th>var_3021</th>\n",
       "      <th>var_3022</th>\n",
       "      <th>Event</th>\n",
       "      <th>var_2763</th>\n",
       "    </tr>\n",
       "  </thead>\n",
       "  <tbody>\n",
       "    <tr>\n",
       "      <th>0</th>\n",
       "      <td>-1.334012</td>\n",
       "      <td>-1.015578</td>\n",
       "      <td>-1.195201</td>\n",
       "      <td>-0.448439</td>\n",
       "      <td>0.0</td>\n",
       "      <td>0.0</td>\n",
       "      <td>0.0</td>\n",
       "      <td>0.0</td>\n",
       "      <td>0.0</td>\n",
       "      <td>0.0</td>\n",
       "      <td>...</td>\n",
       "      <td>0.801373</td>\n",
       "      <td>1.660318</td>\n",
       "      <td>0.132189</td>\n",
       "      <td>0.178771</td>\n",
       "      <td>0.218508</td>\n",
       "      <td>0.223909</td>\n",
       "      <td>0.331410</td>\n",
       "      <td>0.318739</td>\n",
       "      <td>-0.45673</td>\n",
       "      <td>0</td>\n",
       "    </tr>\n",
       "    <tr>\n",
       "      <th>1</th>\n",
       "      <td>-0.524484</td>\n",
       "      <td>-1.015578</td>\n",
       "      <td>1.605019</td>\n",
       "      <td>2.760783</td>\n",
       "      <td>0.0</td>\n",
       "      <td>0.0</td>\n",
       "      <td>0.0</td>\n",
       "      <td>0.0</td>\n",
       "      <td>0.0</td>\n",
       "      <td>0.0</td>\n",
       "      <td>...</td>\n",
       "      <td>4.880897</td>\n",
       "      <td>6.364736</td>\n",
       "      <td>-0.074264</td>\n",
       "      <td>-0.070416</td>\n",
       "      <td>-0.071278</td>\n",
       "      <td>-0.134300</td>\n",
       "      <td>-0.143682</td>\n",
       "      <td>-0.146351</td>\n",
       "      <td>-0.45673</td>\n",
       "      <td>5</td>\n",
       "    </tr>\n",
       "    <tr>\n",
       "      <th>2</th>\n",
       "      <td>1.094572</td>\n",
       "      <td>1.341312</td>\n",
       "      <td>-1.195201</td>\n",
       "      <td>-0.448439</td>\n",
       "      <td>0.0</td>\n",
       "      <td>0.0</td>\n",
       "      <td>0.0</td>\n",
       "      <td>0.0</td>\n",
       "      <td>0.0</td>\n",
       "      <td>0.0</td>\n",
       "      <td>...</td>\n",
       "      <td>-0.140056</td>\n",
       "      <td>-0.221449</td>\n",
       "      <td>-0.074261</td>\n",
       "      <td>-0.070416</td>\n",
       "      <td>-0.071278</td>\n",
       "      <td>-0.128779</td>\n",
       "      <td>-0.138761</td>\n",
       "      <td>-0.138376</td>\n",
       "      <td>-0.45673</td>\n",
       "      <td>5</td>\n",
       "    </tr>\n",
       "    <tr>\n",
       "      <th>3</th>\n",
       "      <td>-1.334012</td>\n",
       "      <td>-1.015578</td>\n",
       "      <td>-1.195201</td>\n",
       "      <td>-0.448439</td>\n",
       "      <td>0.0</td>\n",
       "      <td>0.0</td>\n",
       "      <td>0.0</td>\n",
       "      <td>0.0</td>\n",
       "      <td>0.0</td>\n",
       "      <td>0.0</td>\n",
       "      <td>...</td>\n",
       "      <td>-0.244659</td>\n",
       "      <td>-0.221449</td>\n",
       "      <td>-0.074264</td>\n",
       "      <td>-0.070416</td>\n",
       "      <td>-0.071278</td>\n",
       "      <td>-0.131035</td>\n",
       "      <td>-0.140739</td>\n",
       "      <td>-0.144210</td>\n",
       "      <td>-0.45673</td>\n",
       "      <td>5</td>\n",
       "    </tr>\n",
       "    <tr>\n",
       "      <th>4</th>\n",
       "      <td>1.094572</td>\n",
       "      <td>1.098386</td>\n",
       "      <td>0.671612</td>\n",
       "      <td>1.373332</td>\n",
       "      <td>0.0</td>\n",
       "      <td>0.0</td>\n",
       "      <td>0.0</td>\n",
       "      <td>0.0</td>\n",
       "      <td>0.0</td>\n",
       "      <td>0.0</td>\n",
       "      <td>...</td>\n",
       "      <td>-0.244659</td>\n",
       "      <td>-0.221449</td>\n",
       "      <td>-0.074264</td>\n",
       "      <td>-0.070416</td>\n",
       "      <td>-0.071278</td>\n",
       "      <td>-0.131603</td>\n",
       "      <td>-0.141093</td>\n",
       "      <td>-0.143834</td>\n",
       "      <td>-0.45673</td>\n",
       "      <td>5</td>\n",
       "    </tr>\n",
       "  </tbody>\n",
       "</table>\n",
       "<p>5 rows × 3015 columns</p>\n",
       "</div>"
      ],
      "text/plain": [
       "      var_1     var_2     var_3     var_4  var_5  var_6  var_7  var_8  var_9  \\\n",
       "0 -1.334012 -1.015578 -1.195201 -0.448439    0.0    0.0    0.0    0.0    0.0   \n",
       "1 -0.524484 -1.015578  1.605019  2.760783    0.0    0.0    0.0    0.0    0.0   \n",
       "2  1.094572  1.341312 -1.195201 -0.448439    0.0    0.0    0.0    0.0    0.0   \n",
       "3 -1.334012 -1.015578 -1.195201 -0.448439    0.0    0.0    0.0    0.0    0.0   \n",
       "4  1.094572  1.098386  0.671612  1.373332    0.0    0.0    0.0    0.0    0.0   \n",
       "\n",
       "   var_10  ...  var_3015  var_3016  var_3017  var_3018  var_3019  var_3020  \\\n",
       "0     0.0  ...  0.801373  1.660318  0.132189  0.178771  0.218508  0.223909   \n",
       "1     0.0  ...  4.880897  6.364736 -0.074264 -0.070416 -0.071278 -0.134300   \n",
       "2     0.0  ... -0.140056 -0.221449 -0.074261 -0.070416 -0.071278 -0.128779   \n",
       "3     0.0  ... -0.244659 -0.221449 -0.074264 -0.070416 -0.071278 -0.131035   \n",
       "4     0.0  ... -0.244659 -0.221449 -0.074264 -0.070416 -0.071278 -0.131603   \n",
       "\n",
       "   var_3021  var_3022    Event  var_2763  \n",
       "0  0.331410  0.318739 -0.45673         0  \n",
       "1 -0.143682 -0.146351 -0.45673         5  \n",
       "2 -0.138761 -0.138376 -0.45673         5  \n",
       "3 -0.140739 -0.144210 -0.45673         5  \n",
       "4 -0.141093 -0.143834 -0.45673         5  \n",
       "\n",
       "[5 rows x 3015 columns]"
      ]
     },
     "execution_count": 33,
     "metadata": {},
     "output_type": "execute_result"
    }
   ],
   "source": [
    "#scaling using standardscaler\n",
    "data_cat=data3.select_dtypes(include=object)\n",
    "data_num=data3.select_dtypes(include=np.number)\n",
    "std=StandardScaler()\n",
    "data_num_scaled=pd.DataFrame(std.fit_transform(data_num),columns=data_num.columns)\n",
    "#encoding categorical variable\n",
    "a=data_cat.columns\n",
    "lb=LabelEncoder()\n",
    "data_num_scaled[a[0]]=lb.fit_transform(data_cat[a[0]])\n",
    "data_num_scaled.head()\n"
   ]
  },
  {
   "cell_type": "markdown",
   "id": "9165db26",
   "metadata": {
    "id": "9165db26"
   },
   "source": [
    "# 6.2 Applying PCA to reduce number of features"
   ]
  },
  {
   "cell_type": "code",
   "execution_count": 53,
   "id": "f3be27c1",
   "metadata": {
    "colab": {
     "base_uri": "https://localhost:8080/"
    },
    "executionInfo": {
     "elapsed": 39250,
     "status": "ok",
     "timestamp": 1647321996006,
     "user": {
      "displayName": "Srikanth M Srikanth M",
      "photoUrl": "https://lh3.googleusercontent.com/a-/AOh14GharHiNxh1XG74YPXeNYjJSbcgfWzjyfo6t2d8NR94=s64",
      "userId": "07608372324138559378"
     },
     "user_tz": -330
    },
    "id": "f3be27c1",
    "outputId": "1b898dfe-f99a-4091-bc13-3583caf3e60c"
   },
   "outputs": [
    {
     "data": {
      "text/plain": [
       "PCA(n_components=3014)"
      ]
     },
     "execution_count": 53,
     "metadata": {},
     "output_type": "execute_result"
    }
   ],
   "source": [
    "pca=PCA(n_components=3014)\n",
    "pca.fit(data_num_scaled)"
   ]
  },
  {
   "cell_type": "code",
   "execution_count": 43,
   "id": "56edaf71",
   "metadata": {
    "colab": {
     "base_uri": "https://localhost:8080/",
     "height": 511
    },
    "executionInfo": {
     "elapsed": 51,
     "status": "ok",
     "timestamp": 1647321996021,
     "user": {
      "displayName": "Srikanth M Srikanth M",
      "photoUrl": "https://lh3.googleusercontent.com/a-/AOh14GharHiNxh1XG74YPXeNYjJSbcgfWzjyfo6t2d8NR94=s64",
      "userId": "07608372324138559378"
     },
     "user_tz": -330
    },
    "id": "56edaf71",
    "outputId": "c6e3a4ec-477d-49ee-b8dc-218420f1acb7"
   },
   "outputs": [
    {
     "data": {
      "text/plain": [
       "[<matplotlib.lines.Line2D at 0x1d143a5c880>]"
      ]
     },
     "execution_count": 43,
     "metadata": {},
     "output_type": "execute_result"
    },
    {
     "data": {
      "image/png": "[encoded data removed]",
      "text/plain": [
       "<Figure size 1080x576 with 1 Axes>"
      ]
     },
     "metadata": {
      "needs_background": "light"
     },
     "output_type": "display_data"
    }
   ],
   "source": [
    "var=['Pc'+str(i) for i in range(1,3015)]\n",
    "plt.rcParams['figure.figsize']=(15,8)\n",
    "plt.plot(range(1,3015),np.cumsum(pca.explained_variance_ratio_))"
   ]
  },
  {
   "cell_type": "code",
   "execution_count": 54,
   "id": "7e68fade",
   "metadata": {
    "colab": {
     "base_uri": "https://localhost:8080/"
    },
    "executionInfo": {
     "elapsed": 22,
     "status": "ok",
     "timestamp": 1647321996657,
     "user": {
      "displayName": "Srikanth M Srikanth M",
      "photoUrl": "https://lh3.googleusercontent.com/a-/AOh14GharHiNxh1XG74YPXeNYjJSbcgfWzjyfo6t2d8NR94=s64",
      "userId": "07608372324138559378"
     },
     "user_tz": -330
    },
    "id": "7e68fade",
    "outputId": "5a6ea15f-170e-4d58-aea5-9401e61e0a2e"
   },
   "outputs": [
    {
     "data": {
      "text/plain": [
       "array([0.98875685, 0.98880587, 0.98885454, 0.98890313, 0.98895153,\n",
       "       0.98899957, 0.98904752, 0.98909529, 0.98914284, 0.98919031,\n",
       "       0.98923733, 0.9892842 , 0.98933099, 0.9893777 , 0.9894242 ,\n",
       "       0.98947039, 0.98951655, 0.98956244, 0.9896082 , 0.98965364,\n",
       "       0.98969891, 0.98974402, 0.98978893, 0.98983371, 0.98987845,\n",
       "       0.98992299, 0.98996735, 0.99001141, 0.99005543, 0.99009922,\n",
       "       0.99014271, 0.99018613, 0.99022937, 0.99027245, 0.99031545,\n",
       "       0.99035837, 0.99040093, 0.99044339, 0.99048559, 0.9905277 ])"
      ]
     },
     "execution_count": 54,
     "metadata": {},
     "output_type": "execute_result"
    }
   ],
   "source": [
    "np.cumsum(pca.explained_variance_ratio_)[1000:1040]"
   ]
  },
  {
   "cell_type": "markdown",
   "id": "3f55d2b5",
   "metadata": {
    "id": "3f55d2b5"
   },
   "source": [
    "the above values shows that 99% of variation is covered by 1028 pcs "
   ]
  },
  {
   "cell_type": "markdown",
   "id": "8d54a478",
   "metadata": {
    "id": "8d54a478"
   },
   "source": [
    "# 6.3. Selecting Principal components"
   ]
  },
  {
   "cell_type": "markdown",
   "id": "8392d9c1",
   "metadata": {},
   "source": [
    "selecting 1028 principle components"
   ]
  },
  {
   "cell_type": "code",
   "execution_count": 55,
   "id": "00845c0c",
   "metadata": {
    "colab": {
     "base_uri": "https://localhost:8080/"
    },
    "executionInfo": {
     "elapsed": 5216,
     "status": "ok",
     "timestamp": 1647322007005,
     "user": {
      "displayName": "Srikanth M Srikanth M",
      "photoUrl": "https://lh3.googleusercontent.com/a-/AOh14GharHiNxh1XG74YPXeNYjJSbcgfWzjyfo6t2d8NR94=s64",
      "userId": "07608372324138559378"
     },
     "user_tz": -330
    },
    "id": "00845c0c",
    "outputId": "448247b9-74bb-4da0-e30e-bc5ce1bc57ad"
   },
   "outputs": [
    {
     "data": {
      "text/plain": [
       "PCA(n_components=1028)"
      ]
     },
     "execution_count": 55,
     "metadata": {},
     "output_type": "execute_result"
    }
   ],
   "source": [
    "pca=PCA(n_components=1028)\n",
    "pca.fit(data_num_scaled)"
   ]
  },
  {
   "cell_type": "markdown",
   "id": "3e3fc194",
   "metadata": {
    "id": "3e3fc194"
   },
   "source": [
    "# 7. Splitting data into train(80%) and test(20%)"
   ]
  },
  {
   "cell_type": "code",
   "execution_count": 56,
   "id": "5bc3cdd3",
   "metadata": {
    "executionInfo": {
     "elapsed": 395,
     "status": "ok",
     "timestamp": 1647327148196,
     "user": {
      "displayName": "Srikanth M Srikanth M",
      "photoUrl": "https://lh3.googleusercontent.com/a-/AOh14GharHiNxh1XG74YPXeNYjJSbcgfWzjyfo6t2d8NR94=s64",
      "userId": "07608372324138559378"
     },
     "user_tz": -330
    },
    "id": "5bc3cdd3"
   },
   "outputs": [],
   "source": [
    "X=data_num_scaled.drop(labels=['Event'],axis=1)\n",
    "y=data3['Event']\n",
    "X_train, X_test, y_train, y_test = train_test_split(X, y, test_size=0.2, random_state=42,stratify=y)"
   ]
  },
  {
   "cell_type": "markdown",
   "id": "b07561d2",
   "metadata": {
    "id": "b07561d2"
   },
   "source": [
    "# 7.1 Checking for distribution of event rate i train and test"
   ]
  },
  {
   "cell_type": "code",
   "execution_count": 57,
   "id": "e1222621",
   "metadata": {
    "colab": {
     "base_uri": "https://localhost:8080/"
    },
    "executionInfo": {
     "elapsed": 20,
     "status": "ok",
     "timestamp": 1647322007008,
     "user": {
      "displayName": "Srikanth M Srikanth M",
      "photoUrl": "https://lh3.googleusercontent.com/a-/AOh14GharHiNxh1XG74YPXeNYjJSbcgfWzjyfo6t2d8NR94=s64",
      "userId": "07608372324138559378"
     },
     "user_tz": -330
    },
    "id": "e1222621",
    "outputId": "79312070-6f88-476e-c124-321f97f21a65"
   },
   "outputs": [
    {
     "name": "stdout",
     "output_type": "stream",
     "text": [
      "Y_train \n",
      " 0    82.745505\n",
      "1    17.254495\n",
      "Name: Event, dtype: float64\n",
      "Y_test \n",
      " 0    82.718894\n",
      "1    17.281106\n",
      "Name: Event, dtype: float64\n"
     ]
    }
   ],
   "source": [
    "print('Y_train','\\n',y_train.value_counts(normalize=True)*100)\n",
    "print('Y_test','\\n', y_test.value_counts(normalize=True)*100)"
   ]
  },
  {
   "cell_type": "markdown",
   "id": "d9e8cc54",
   "metadata": {
    "id": "d9e8cc54"
   },
   "source": [
    "# 7.2 Transforming data to pca components"
   ]
  },
  {
   "cell_type": "code",
   "execution_count": 59,
   "id": "d884e11d",
   "metadata": {
    "executionInfo": {
     "elapsed": 5410,
     "status": "ok",
     "timestamp": 1647327100633,
     "user": {
      "displayName": "Srikanth M Srikanth M",
      "photoUrl": "https://lh3.googleusercontent.com/a-/AOh14GharHiNxh1XG74YPXeNYjJSbcgfWzjyfo6t2d8NR94=s64",
      "userId": "07608372324138559378"
     },
     "user_tz": -330
    },
    "id": "d884e11d"
   },
   "outputs": [],
   "source": [
    "var=['Pc'+str(i) for i in range(1,1029)]\n",
    "X_train_pca=pd.DataFrame(pca.fit_transform(X_train),columns=var)\n",
    "X_test_pca=pd.DataFrame(pca.transform(X_test),columns=var)"
   ]
  },
  {
   "cell_type": "markdown",
   "id": "351e4abf",
   "metadata": {
    "id": "351e4abf"
   },
   "source": [
    "# 8 MODEL BUILDING "
   ]
  },
  {
   "cell_type": "code",
   "execution_count": 60,
   "id": "74f6c1b6",
   "metadata": {
    "executionInfo": {
     "elapsed": 8,
     "status": "ok",
     "timestamp": 1647329333734,
     "user": {
      "displayName": "Srikanth M Srikanth M",
      "photoUrl": "https://lh3.googleusercontent.com/a-/AOh14GharHiNxh1XG74YPXeNYjJSbcgfWzjyfo6t2d8NR94=s64",
      "userId": "07608372324138559378"
     },
     "user_tz": -330
    },
    "id": "74f6c1b6"
   },
   "outputs": [],
   "source": [
    "#defining a score card\n",
    "score_card=pd.DataFrame(columns=['Model_Name','Accuracy(Train)','Accuracy(Test)','Diff_b/w_train&test(Acc)','AUC_Score'])\n",
    "def update_score_card(model_name,model):\n",
    "    global score_card\n",
    "    train_pred = model.predict(X_train_pca)\n",
    "    test_pred=model.predict(X_test_pca)\n",
    "    y_pred_prob = model.predict_proba(X_test_pca)[:,1]\n",
    "    score_card=score_card.append({'Model_Name': model_name,\n",
    "                             'Accuracy(Train)': metrics.accuracy_score(y_train, train_pred),\n",
    "                             'Accuracy(Test)':metrics.accuracy_score(y_test, test_pred),\n",
    "                             'Diff_b/w_train&test(Acc)': abs(metrics.accuracy_score(y_train, train_pred)-metrics.accuracy_score(y_test, test_pred)),\n",
    "                             'AUC_Score':metrics.roc_auc_score(y_test, y_pred_prob)},ignore_index=True)\n",
    "    return score_card"
   ]
  },
  {
   "cell_type": "markdown",
   "id": "9d204871",
   "metadata": {},
   "source": [
    "# 8.1 Logistic Regression"
   ]
  },
  {
   "cell_type": "code",
   "execution_count": 61,
   "id": "bdf2d7e8",
   "metadata": {},
   "outputs": [
    {
     "data": {
      "text/html": [
       "<div>\n",
       "<style scoped>\n",
       "    .dataframe tbody tr th:only-of-type {\n",
       "        vertical-align: middle;\n",
       "    }\n",
       "\n",
       "    .dataframe tbody tr th {\n",
       "        vertical-align: top;\n",
       "    }\n",
       "\n",
       "    .dataframe thead th {\n",
       "        text-align: right;\n",
       "    }\n",
       "</style>\n",
       "<table border=\"1\" class=\"dataframe\">\n",
       "  <thead>\n",
       "    <tr style=\"text-align: right;\">\n",
       "      <th></th>\n",
       "      <th>train</th>\n",
       "      <th>test</th>\n",
       "    </tr>\n",
       "    <tr>\n",
       "      <th>metrics</th>\n",
       "      <th></th>\n",
       "      <th></th>\n",
       "    </tr>\n",
       "  </thead>\n",
       "  <tbody>\n",
       "    <tr>\n",
       "      <th>accuracy</th>\n",
       "      <td>0.878976</td>\n",
       "      <td>0.825806</td>\n",
       "    </tr>\n",
       "    <tr>\n",
       "      <th>precision</th>\n",
       "      <td>0.734523</td>\n",
       "      <td>0.493976</td>\n",
       "    </tr>\n",
       "    <tr>\n",
       "      <th>recall</th>\n",
       "      <td>0.467602</td>\n",
       "      <td>0.328000</td>\n",
       "    </tr>\n",
       "    <tr>\n",
       "      <th>TPR</th>\n",
       "      <td>0.467602</td>\n",
       "      <td>0.328000</td>\n",
       "    </tr>\n",
       "    <tr>\n",
       "      <th>FPR</th>\n",
       "      <td>0.035242</td>\n",
       "      <td>0.070195</td>\n",
       "    </tr>\n",
       "    <tr>\n",
       "      <th>f1_ratio</th>\n",
       "      <td>0.571429</td>\n",
       "      <td>0.394231</td>\n",
       "    </tr>\n",
       "    <tr>\n",
       "      <th>auc_score</th>\n",
       "      <td>0.716180</td>\n",
       "      <td>0.628903</td>\n",
       "    </tr>\n",
       "  </tbody>\n",
       "</table>\n",
       "</div>"
      ],
      "text/plain": [
       "              train      test\n",
       "metrics                      \n",
       "accuracy   0.878976  0.825806\n",
       "precision  0.734523  0.493976\n",
       "recall     0.467602  0.328000\n",
       "TPR        0.467602  0.328000\n",
       "FPR        0.035242  0.070195\n",
       "f1_ratio   0.571429  0.394231\n",
       "auc_score  0.716180  0.628903"
      ]
     },
     "execution_count": 61,
     "metadata": {},
     "output_type": "execute_result"
    }
   ],
   "source": [
    "Lr=LogisticRegression(C=10,solver='liblinear')\n",
    "Lr.fit(X_train_pca,y_train)\n",
    "lr_score=scorecard(Lr,X_train_pca,X_test_pca)\n",
    "lr_score"
   ]
  },
  {
   "cell_type": "code",
   "execution_count": 62,
   "id": "b28c3eec",
   "metadata": {},
   "outputs": [
    {
     "name": "stdout",
     "output_type": "stream",
     "text": [
      "1 : bad customer\n",
      "0 : good customer\n"
     ]
    },
    {
     "data": {
      "image/png": "[encoded data removed]",
      "text/plain": [
       "<Figure size 576x288 with 1 Axes>"
      ]
     },
     "metadata": {
      "needs_background": "light"
     },
     "output_type": "display_data"
    }
   ],
   "source": [
    "print(1,': bad customer')\n",
    "print(0,': good customer')\n",
    "plot_confusion_matrix(Lr)"
   ]
  },
  {
   "cell_type": "markdown",
   "id": "7ed1170f",
   "metadata": {},
   "source": [
    "Lr model is able to classify bad and good customer but we can see overfit is happening"
   ]
  },
  {
   "cell_type": "code",
   "execution_count": 63,
   "id": "4db339b8",
   "metadata": {},
   "outputs": [
    {
     "data": {
      "text/html": [
       "<div>\n",
       "<style scoped>\n",
       "    .dataframe tbody tr th:only-of-type {\n",
       "        vertical-align: middle;\n",
       "    }\n",
       "\n",
       "    .dataframe tbody tr th {\n",
       "        vertical-align: top;\n",
       "    }\n",
       "\n",
       "    .dataframe thead th {\n",
       "        text-align: right;\n",
       "    }\n",
       "</style>\n",
       "<table border=\"1\" class=\"dataframe\">\n",
       "  <thead>\n",
       "    <tr style=\"text-align: right;\">\n",
       "      <th></th>\n",
       "      <th>Model_Name</th>\n",
       "      <th>Accuracy(Train)</th>\n",
       "      <th>Accuracy(Test)</th>\n",
       "      <th>Diff_b/w_train&amp;test(Acc)</th>\n",
       "      <th>AUC_Score</th>\n",
       "    </tr>\n",
       "  </thead>\n",
       "  <tbody>\n",
       "    <tr>\n",
       "      <th>0</th>\n",
       "      <td>Logistic Regression</td>\n",
       "      <td>0.878976</td>\n",
       "      <td>0.825806</td>\n",
       "      <td>0.05317</td>\n",
       "      <td>0.756023</td>\n",
       "    </tr>\n",
       "  </tbody>\n",
       "</table>\n",
       "</div>"
      ],
      "text/plain": [
       "            Model_Name  Accuracy(Train)  Accuracy(Test)  \\\n",
       "0  Logistic Regression         0.878976        0.825806   \n",
       "\n",
       "   Diff_b/w_train&test(Acc)  AUC_Score  \n",
       "0                   0.05317   0.756023  "
      ]
     },
     "execution_count": 63,
     "metadata": {},
     "output_type": "execute_result"
    }
   ],
   "source": [
    "score_card=update_score_card('Logistic Regression',Lr)\n",
    "score_card"
   ]
  },
  {
   "cell_type": "markdown",
   "id": "3955cff7",
   "metadata": {
    "id": "3955cff7"
   },
   "source": [
    "# 8.2. Random Forest Classifier"
   ]
  },
  {
   "cell_type": "markdown",
   "id": "9a74fe63",
   "metadata": {
    "id": "9a74fe63"
   },
   "source": [
    "# 8.2.1 Base Model"
   ]
  },
  {
   "cell_type": "code",
   "execution_count": 64,
   "id": "ddffe4ac",
   "metadata": {
    "colab": {
     "base_uri": "https://localhost:8080/",
     "height": 300
    },
    "executionInfo": {
     "elapsed": 6538,
     "status": "ok",
     "timestamp": 1647327167035,
     "user": {
      "displayName": "Srikanth M Srikanth M",
      "photoUrl": "https://lh3.googleusercontent.com/a-/AOh14GharHiNxh1XG74YPXeNYjJSbcgfWzjyfo6t2d8NR94=s64",
      "userId": "07608372324138559378"
     },
     "user_tz": -330
    },
    "id": "ddffe4ac",
    "outputId": "c9cc5d75-a6b0-4911-eaa0-0fb35a537a61"
   },
   "outputs": [
    {
     "data": {
      "text/html": [
       "<div>\n",
       "<style scoped>\n",
       "    .dataframe tbody tr th:only-of-type {\n",
       "        vertical-align: middle;\n",
       "    }\n",
       "\n",
       "    .dataframe tbody tr th {\n",
       "        vertical-align: top;\n",
       "    }\n",
       "\n",
       "    .dataframe thead th {\n",
       "        text-align: right;\n",
       "    }\n",
       "</style>\n",
       "<table border=\"1\" class=\"dataframe\">\n",
       "  <thead>\n",
       "    <tr style=\"text-align: right;\">\n",
       "      <th></th>\n",
       "      <th>train</th>\n",
       "      <th>test</th>\n",
       "    </tr>\n",
       "    <tr>\n",
       "      <th>metrics</th>\n",
       "      <th></th>\n",
       "      <th></th>\n",
       "    </tr>\n",
       "  </thead>\n",
       "  <tbody>\n",
       "    <tr>\n",
       "      <th>accuracy</th>\n",
       "      <td>0.999769</td>\n",
       "      <td>0.810138</td>\n",
       "    </tr>\n",
       "    <tr>\n",
       "      <th>precision</th>\n",
       "      <td>1.000000</td>\n",
       "      <td>0.088889</td>\n",
       "    </tr>\n",
       "    <tr>\n",
       "      <th>recall</th>\n",
       "      <td>0.998664</td>\n",
       "      <td>0.010667</td>\n",
       "    </tr>\n",
       "    <tr>\n",
       "      <th>TPR</th>\n",
       "      <td>0.998664</td>\n",
       "      <td>0.010667</td>\n",
       "    </tr>\n",
       "    <tr>\n",
       "      <th>FPR</th>\n",
       "      <td>0.000000</td>\n",
       "      <td>0.022841</td>\n",
       "    </tr>\n",
       "    <tr>\n",
       "      <th>f1_ratio</th>\n",
       "      <td>0.999332</td>\n",
       "      <td>0.019048</td>\n",
       "    </tr>\n",
       "    <tr>\n",
       "      <th>auc_score</th>\n",
       "      <td>0.999332</td>\n",
       "      <td>0.493913</td>\n",
       "    </tr>\n",
       "  </tbody>\n",
       "</table>\n",
       "</div>"
      ],
      "text/plain": [
       "              train      test\n",
       "metrics                      \n",
       "accuracy   0.999769  0.810138\n",
       "precision  1.000000  0.088889\n",
       "recall     0.998664  0.010667\n",
       "TPR        0.998664  0.010667\n",
       "FPR        0.000000  0.022841\n",
       "f1_ratio   0.999332  0.019048\n",
       "auc_score  0.999332  0.493913"
      ]
     },
     "execution_count": 64,
     "metadata": {},
     "output_type": "execute_result"
    }
   ],
   "source": [
    "rfc_base=RandomForestClassifier()\n",
    "rfc_base.fit(X_train_pca,y_train)\n",
    "rfc_base_score=scorecard(rfc_base,X_train_pca,X_test_pca)\n",
    "rfc_base_score"
   ]
  },
  {
   "cell_type": "markdown",
   "id": "b5e1f860",
   "metadata": {
    "id": "b5e1f860"
   },
   "source": [
    "The above model metrics shows that there is a large difference between train and test hence model is overfitting so trying hyper parameter tuning to reduce overfit"
   ]
  },
  {
   "cell_type": "markdown",
   "id": "a44c918f",
   "metadata": {
    "id": "a44c918f"
   },
   "source": [
    "# 8.2.2 RFC feature importance"
   ]
  },
  {
   "cell_type": "code",
   "execution_count": 65,
   "id": "98378533",
   "metadata": {
    "colab": {
     "base_uri": "https://localhost:8080/",
     "height": 640
    },
    "executionInfo": {
     "elapsed": 1649,
     "status": "ok",
     "timestamp": 1647322512392,
     "user": {
      "displayName": "Srikanth M Srikanth M",
      "photoUrl": "https://lh3.googleusercontent.com/a-/AOh14GharHiNxh1XG74YPXeNYjJSbcgfWzjyfo6t2d8NR94=s64",
      "userId": "07608372324138559378"
     },
     "user_tz": -330
    },
    "id": "98378533",
    "outputId": "2b549fdd-7ae2-4748-e5b7-16118892f4db"
   },
   "outputs": [
    {
     "name": "stderr",
     "output_type": "stream",
     "text": [
      "C:\\ProgramData\\Anaconda3\\lib\\site-packages\\seaborn\\_decorators.py:36: FutureWarning: Pass the following variables as keyword args: x, y. From version 0.12, the only valid positional argument will be `data`, and passing other arguments without an explicit keyword will result in an error or misinterpretation.\n",
      "  warnings.warn(\n"
     ]
    },
    {
     "data": {
      "image/png": "[encoded data removed]",
      "text/plain": [
       "<Figure size 576x288 with 1 Axes>"
      ]
     },
     "metadata": {
      "needs_background": "light"
     },
     "output_type": "display_data"
    }
   ],
   "source": [
    "sns.barplot(X_test_pca.columns,rfc_base.feature_importances_)\n",
    "plt.xticks(rotation=90);"
   ]
  },
  {
   "cell_type": "code",
   "execution_count": 68,
   "id": "5ebae95f",
   "metadata": {},
   "outputs": [
    {
     "data": {
      "text/html": [
       "<div>\n",
       "<style scoped>\n",
       "    .dataframe tbody tr th:only-of-type {\n",
       "        vertical-align: middle;\n",
       "    }\n",
       "\n",
       "    .dataframe tbody tr th {\n",
       "        vertical-align: top;\n",
       "    }\n",
       "\n",
       "    .dataframe thead th {\n",
       "        text-align: right;\n",
       "    }\n",
       "</style>\n",
       "<table border=\"1\" class=\"dataframe\">\n",
       "  <thead>\n",
       "    <tr style=\"text-align: right;\">\n",
       "      <th></th>\n",
       "      <th>variables</th>\n",
       "      <th>feature_imp</th>\n",
       "    </tr>\n",
       "  </thead>\n",
       "  <tbody>\n",
       "    <tr>\n",
       "      <th>0</th>\n",
       "      <td>Pc1</td>\n",
       "      <td>0.004622</td>\n",
       "    </tr>\n",
       "    <tr>\n",
       "      <th>1</th>\n",
       "      <td>Pc2</td>\n",
       "      <td>0.002507</td>\n",
       "    </tr>\n",
       "    <tr>\n",
       "      <th>2</th>\n",
       "      <td>Pc3</td>\n",
       "      <td>0.001009</td>\n",
       "    </tr>\n",
       "    <tr>\n",
       "      <th>3</th>\n",
       "      <td>Pc4</td>\n",
       "      <td>0.001268</td>\n",
       "    </tr>\n",
       "    <tr>\n",
       "      <th>4</th>\n",
       "      <td>Pc5</td>\n",
       "      <td>0.000860</td>\n",
       "    </tr>\n",
       "  </tbody>\n",
       "</table>\n",
       "</div>"
      ],
      "text/plain": [
       "  variables  feature_imp\n",
       "0       Pc1     0.004622\n",
       "1       Pc2     0.002507\n",
       "2       Pc3     0.001009\n",
       "3       Pc4     0.001268\n",
       "4       Pc5     0.000860"
      ]
     },
     "execution_count": 68,
     "metadata": {},
     "output_type": "execute_result"
    }
   ],
   "source": [
    "imp=pd.DataFrame({'variables':X_test_pca.columns,'feature_imp':rfc_base.feature_importances_})\n",
    "imp.head()"
   ]
  },
  {
   "cell_type": "markdown",
   "id": "e820712d",
   "metadata": {
    "id": "e820712d"
   },
   "source": [
    "Here all the features has importance more than zero"
   ]
  },
  {
   "cell_type": "code",
   "execution_count": 77,
   "id": "d7389da4",
   "metadata": {},
   "outputs": [
    {
     "name": "stdout",
     "output_type": "stream",
     "text": [
      "1 : bad customer\n",
      "0 : good customer\n"
     ]
    },
    {
     "data": {
      "image/png": "[encoded data removed]",
      "text/plain": [
       "<Figure size 576x288 with 1 Axes>"
      ]
     },
     "metadata": {
      "needs_background": "light"
     },
     "output_type": "display_data"
    }
   ],
   "source": [
    "print(1,': bad customer')\n",
    "print(0,': good customer')\n",
    "plot_confusion_matrix(rfc_base)"
   ]
  },
  {
   "cell_type": "markdown",
   "id": "2667f304",
   "metadata": {
    "id": "2667f304"
   },
   "source": [
    "# 8.1.3 Hyper parameter"
   ]
  },
  {
   "cell_type": "code",
   "execution_count": 79,
   "id": "954e17a9",
   "metadata": {
    "colab": {
     "base_uri": "https://localhost:8080/"
    },
    "executionInfo": {
     "elapsed": 498446,
     "status": "ok",
     "timestamp": 1647326028985,
     "user": {
      "displayName": "Srikanth M Srikanth M",
      "photoUrl": "https://lh3.googleusercontent.com/a-/AOh14GharHiNxh1XG74YPXeNYjJSbcgfWzjyfo6t2d8NR94=s64",
      "userId": "07608372324138559378"
     },
     "user_tz": -330
    },
    "id": "954e17a9",
    "outputId": "815088b9-0fc4-4de0-8675-18f15895d65e"
   },
   "outputs": [
    {
     "data": {
      "text/plain": [
       "GridSearchCV(estimator=RandomForestClassifier(),\n",
       "             param_grid={'criterion': ['gini', 'entropy'],\n",
       "                         'max_depth': [4, 8, 12, 16],\n",
       "                         'min_samples_split': [10, 50, 100],\n",
       "                         'n_estimators': [100, 150, 200]},\n",
       "             scoring='f1')"
      ]
     },
     "execution_count": 79,
     "metadata": {},
     "output_type": "execute_result"
    }
   ],
   "source": [
    "param_test ={'min_samples_split':[10,50,100],\n",
    "             'criterion' : [\"gini\", \"entropy\"],\n",
    "       'max_depth':[4,8,12,16],'n_estimators':[100,150,200]\n",
    "        }\n",
    "grid=GridSearchCV(estimator=RandomForestClassifier(),param_grid=param_test,scoring='f1')\n",
    "grid.fit(X_test_pca,y_test)"
   ]
  },
  {
   "cell_type": "code",
   "execution_count": 80,
   "id": "a6de9645",
   "metadata": {
    "colab": {
     "base_uri": "https://localhost:8080/"
    },
    "executionInfo": {
     "elapsed": 449,
     "status": "ok",
     "timestamp": 1647326919912,
     "user": {
      "displayName": "Srikanth M Srikanth M",
      "photoUrl": "https://lh3.googleusercontent.com/a-/AOh14GharHiNxh1XG74YPXeNYjJSbcgfWzjyfo6t2d8NR94=s64",
      "userId": "07608372324138559378"
     },
     "user_tz": -330
    },
    "id": "a6de9645",
    "outputId": "409e3a18-c02a-45be-c42c-5403e4fac3e0"
   },
   "outputs": [
    {
     "data": {
      "text/plain": [
       "{'criterion': 'gini',\n",
       " 'max_depth': 16,\n",
       " 'min_samples_split': 10,\n",
       " 'n_estimators': 200}"
      ]
     },
     "execution_count": 80,
     "metadata": {},
     "output_type": "execute_result"
    }
   ],
   "source": [
    "grid.best_params_"
   ]
  },
  {
   "cell_type": "markdown",
   "id": "51e3ae68",
   "metadata": {
    "id": "51e3ae68"
   },
   "source": [
    "# 8.2.4 Final RFC model"
   ]
  },
  {
   "cell_type": "code",
   "execution_count": 81,
   "id": "5b27f444",
   "metadata": {
    "colab": {
     "base_uri": "https://localhost:8080/",
     "height": 300
    },
    "executionInfo": {
     "elapsed": 8731,
     "status": "ok",
     "timestamp": 1647329244463,
     "user": {
      "displayName": "Srikanth M Srikanth M",
      "photoUrl": "https://lh3.googleusercontent.com/a-/AOh14GharHiNxh1XG74YPXeNYjJSbcgfWzjyfo6t2d8NR94=s64",
      "userId": "07608372324138559378"
     },
     "user_tz": -330
    },
    "id": "5b27f444",
    "outputId": "5df9cfb5-e615-4910-be52-ba13f427e3bd"
   },
   "outputs": [
    {
     "data": {
      "text/html": [
       "<div>\n",
       "<style scoped>\n",
       "    .dataframe tbody tr th:only-of-type {\n",
       "        vertical-align: middle;\n",
       "    }\n",
       "\n",
       "    .dataframe tbody tr th {\n",
       "        vertical-align: top;\n",
       "    }\n",
       "\n",
       "    .dataframe thead th {\n",
       "        text-align: right;\n",
       "    }\n",
       "</style>\n",
       "<table border=\"1\" class=\"dataframe\">\n",
       "  <thead>\n",
       "    <tr style=\"text-align: right;\">\n",
       "      <th></th>\n",
       "      <th>train</th>\n",
       "      <th>test</th>\n",
       "    </tr>\n",
       "    <tr>\n",
       "      <th>metrics</th>\n",
       "      <th></th>\n",
       "      <th></th>\n",
       "    </tr>\n",
       "  </thead>\n",
       "  <tbody>\n",
       "    <tr>\n",
       "      <th>accuracy</th>\n",
       "      <td>0.947211</td>\n",
       "      <td>0.812903</td>\n",
       "    </tr>\n",
       "    <tr>\n",
       "      <th>precision</th>\n",
       "      <td>1.000000</td>\n",
       "      <td>0.121951</td>\n",
       "    </tr>\n",
       "    <tr>\n",
       "      <th>recall</th>\n",
       "      <td>0.694055</td>\n",
       "      <td>0.013333</td>\n",
       "    </tr>\n",
       "    <tr>\n",
       "      <th>TPR</th>\n",
       "      <td>0.694055</td>\n",
       "      <td>0.013333</td>\n",
       "    </tr>\n",
       "    <tr>\n",
       "      <th>FPR</th>\n",
       "      <td>0.000000</td>\n",
       "      <td>0.020056</td>\n",
       "    </tr>\n",
       "    <tr>\n",
       "      <th>f1_ratio</th>\n",
       "      <td>0.819401</td>\n",
       "      <td>0.024038</td>\n",
       "    </tr>\n",
       "    <tr>\n",
       "      <th>auc_score</th>\n",
       "      <td>0.847027</td>\n",
       "      <td>0.496639</td>\n",
       "    </tr>\n",
       "  </tbody>\n",
       "</table>\n",
       "</div>"
      ],
      "text/plain": [
       "              train      test\n",
       "metrics                      \n",
       "accuracy   0.947211  0.812903\n",
       "precision  1.000000  0.121951\n",
       "recall     0.694055  0.013333\n",
       "TPR        0.694055  0.013333\n",
       "FPR        0.000000  0.020056\n",
       "f1_ratio   0.819401  0.024038\n",
       "auc_score  0.847027  0.496639"
      ]
     },
     "execution_count": 81,
     "metadata": {},
     "output_type": "execute_result"
    }
   ],
   "source": [
    "rfc_final=RandomForestClassifier(criterion='gini',max_depth=16,min_samples_split=10,n_estimators=200)\n",
    "rfc_final.fit(X_train_pca,y_train)\n",
    "rfc_final_score=scorecard(rfc_final,X_train_pca,X_test_pca)\n",
    "rfc_final_score"
   ]
  },
  {
   "cell_type": "code",
   "execution_count": 82,
   "id": "2X5gQTS1dkYy",
   "metadata": {
    "colab": {
     "base_uri": "https://localhost:8080/",
     "height": 297
    },
    "executionInfo": {
     "elapsed": 749,
     "status": "ok",
     "timestamp": 1647335682749,
     "user": {
      "displayName": "Srikanth M Srikanth M",
      "photoUrl": "https://lh3.googleusercontent.com/a-/AOh14GharHiNxh1XG74YPXeNYjJSbcgfWzjyfo6t2d8NR94=s64",
      "userId": "07608372324138559378"
     },
     "user_tz": -330
    },
    "id": "2X5gQTS1dkYy",
    "outputId": "da6cd141-34f3-4577-da7e-f68a3ee8df14"
   },
   "outputs": [
    {
     "name": "stdout",
     "output_type": "stream",
     "text": [
      "1 : bad customer\n",
      "0 : good customer\n"
     ]
    },
    {
     "data": {
      "image/png": "[encoded data removed]",
      "text/plain": [
       "<Figure size 576x288 with 1 Axes>"
      ]
     },
     "metadata": {
      "needs_background": "light"
     },
     "output_type": "display_data"
    }
   ],
   "source": [
    "print(1,': bad customer')\n",
    "print(0,': good customer')\n",
    "plot_confusion_matrix(rfc_final)"
   ]
  },
  {
   "cell_type": "markdown",
   "id": "FtJI82mqZD9j",
   "metadata": {
    "id": "FtJI82mqZD9j"
   },
   "source": [
    "The RFC model has good accuracy and it is not able to classify bad customers its predicting all customer as good customer so next trying boosting algorithm"
   ]
  },
  {
   "cell_type": "code",
   "execution_count": 83,
   "id": "21690250",
   "metadata": {
    "colab": {
     "base_uri": "https://localhost:8080/",
     "height": 81
    },
    "executionInfo": {
     "elapsed": 1188,
     "status": "ok",
     "timestamp": 1647329367220,
     "user": {
      "displayName": "Srikanth M Srikanth M",
      "photoUrl": "https://lh3.googleusercontent.com/a-/AOh14GharHiNxh1XG74YPXeNYjJSbcgfWzjyfo6t2d8NR94=s64",
      "userId": "07608372324138559378"
     },
     "user_tz": -330
    },
    "id": "21690250",
    "outputId": "3c9803ec-3258-4a33-b518-009e4cccb925"
   },
   "outputs": [
    {
     "data": {
      "text/html": [
       "<div>\n",
       "<style scoped>\n",
       "    .dataframe tbody tr th:only-of-type {\n",
       "        vertical-align: middle;\n",
       "    }\n",
       "\n",
       "    .dataframe tbody tr th {\n",
       "        vertical-align: top;\n",
       "    }\n",
       "\n",
       "    .dataframe thead th {\n",
       "        text-align: right;\n",
       "    }\n",
       "</style>\n",
       "<table border=\"1\" class=\"dataframe\">\n",
       "  <thead>\n",
       "    <tr style=\"text-align: right;\">\n",
       "      <th></th>\n",
       "      <th>Model_Name</th>\n",
       "      <th>Accuracy(Train)</th>\n",
       "      <th>Accuracy(Test)</th>\n",
       "      <th>Diff_b/w_train&amp;test(Acc)</th>\n",
       "      <th>AUC_Score</th>\n",
       "    </tr>\n",
       "  </thead>\n",
       "  <tbody>\n",
       "    <tr>\n",
       "      <th>0</th>\n",
       "      <td>Logistic Regression</td>\n",
       "      <td>0.878976</td>\n",
       "      <td>0.825806</td>\n",
       "      <td>0.053170</td>\n",
       "      <td>0.756023</td>\n",
       "    </tr>\n",
       "    <tr>\n",
       "      <th>1</th>\n",
       "      <td>RFC model</td>\n",
       "      <td>0.947211</td>\n",
       "      <td>0.812903</td>\n",
       "      <td>0.134307</td>\n",
       "      <td>0.620071</td>\n",
       "    </tr>\n",
       "  </tbody>\n",
       "</table>\n",
       "</div>"
      ],
      "text/plain": [
       "            Model_Name  Accuracy(Train)  Accuracy(Test)  \\\n",
       "0  Logistic Regression         0.878976        0.825806   \n",
       "1            RFC model         0.947211        0.812903   \n",
       "\n",
       "   Diff_b/w_train&test(Acc)  AUC_Score  \n",
       "0                  0.053170   0.756023  \n",
       "1                  0.134307   0.620071  "
      ]
     },
     "execution_count": 83,
     "metadata": {},
     "output_type": "execute_result"
    }
   ],
   "source": [
    "score_card=update_score_card('RFC model',rfc_final)\n",
    "score_card"
   ]
  },
  {
   "cell_type": "markdown",
   "id": "d3f213aa",
   "metadata": {
    "id": "d3f213aa"
   },
   "source": [
    "# 8.3. Adaboost Classifier"
   ]
  },
  {
   "cell_type": "markdown",
   "id": "73f74477",
   "metadata": {
    "id": "73f74477"
   },
   "source": [
    "# 8.3.1 Base Model"
   ]
  },
  {
   "cell_type": "code",
   "execution_count": 84,
   "id": "65b5a807",
   "metadata": {
    "colab": {
     "base_uri": "https://localhost:8080/",
     "height": 300
    },
    "executionInfo": {
     "elapsed": 3673,
     "status": "ok",
     "timestamp": 1647327289910,
     "user": {
      "displayName": "Srikanth M Srikanth M",
      "photoUrl": "https://lh3.googleusercontent.com/a-/AOh14GharHiNxh1XG74YPXeNYjJSbcgfWzjyfo6t2d8NR94=s64",
      "userId": "07608372324138559378"
     },
     "user_tz": -330
    },
    "id": "65b5a807",
    "outputId": "62041549-c9b4-4ef6-f5b1-51e88852e43b"
   },
   "outputs": [
    {
     "data": {
      "text/html": [
       "<div>\n",
       "<style scoped>\n",
       "    .dataframe tbody tr th:only-of-type {\n",
       "        vertical-align: middle;\n",
       "    }\n",
       "\n",
       "    .dataframe tbody tr th {\n",
       "        vertical-align: top;\n",
       "    }\n",
       "\n",
       "    .dataframe thead th {\n",
       "        text-align: right;\n",
       "    }\n",
       "</style>\n",
       "<table border=\"1\" class=\"dataframe\">\n",
       "  <thead>\n",
       "    <tr style=\"text-align: right;\">\n",
       "      <th></th>\n",
       "      <th>train</th>\n",
       "      <th>test</th>\n",
       "    </tr>\n",
       "    <tr>\n",
       "      <th>metrics</th>\n",
       "      <th></th>\n",
       "      <th></th>\n",
       "    </tr>\n",
       "  </thead>\n",
       "  <tbody>\n",
       "    <tr>\n",
       "      <th>accuracy</th>\n",
       "      <td>0.838866</td>\n",
       "      <td>0.821198</td>\n",
       "    </tr>\n",
       "    <tr>\n",
       "      <th>precision</th>\n",
       "      <td>0.602484</td>\n",
       "      <td>0.442478</td>\n",
       "    </tr>\n",
       "    <tr>\n",
       "      <th>recall</th>\n",
       "      <td>0.194389</td>\n",
       "      <td>0.133333</td>\n",
       "    </tr>\n",
       "    <tr>\n",
       "      <th>TPR</th>\n",
       "      <td>0.194389</td>\n",
       "      <td>0.133333</td>\n",
       "    </tr>\n",
       "    <tr>\n",
       "      <th>FPR</th>\n",
       "      <td>0.026745</td>\n",
       "      <td>0.035097</td>\n",
       "    </tr>\n",
       "    <tr>\n",
       "      <th>f1_ratio</th>\n",
       "      <td>0.293939</td>\n",
       "      <td>0.204918</td>\n",
       "    </tr>\n",
       "    <tr>\n",
       "      <th>auc_score</th>\n",
       "      <td>0.583822</td>\n",
       "      <td>0.549118</td>\n",
       "    </tr>\n",
       "  </tbody>\n",
       "</table>\n",
       "</div>"
      ],
      "text/plain": [
       "              train      test\n",
       "metrics                      \n",
       "accuracy   0.838866  0.821198\n",
       "precision  0.602484  0.442478\n",
       "recall     0.194389  0.133333\n",
       "TPR        0.194389  0.133333\n",
       "FPR        0.026745  0.035097\n",
       "f1_ratio   0.293939  0.204918\n",
       "auc_score  0.583822  0.549118"
      ]
     },
     "execution_count": 84,
     "metadata": {},
     "output_type": "execute_result"
    }
   ],
   "source": [
    "ada_base=AdaBoostClassifier()\n",
    "ada_base.fit(X_train_pca,y_train)\n",
    "ada_base_score=scorecard(ada_base,X_train_pca,X_test_pca)\n",
    "ada_base_score"
   ]
  },
  {
   "cell_type": "markdown",
   "id": "c6d0a2d5",
   "metadata": {},
   "source": [
    "The above adaboost model shows 82.7% accuracy but next trying hyper parameter tuning to improve performance"
   ]
  },
  {
   "cell_type": "markdown",
   "id": "d7c7172c",
   "metadata": {
    "id": "d7c7172c"
   },
   "source": [
    "# 8.3.2 Hyper Parameter"
   ]
  },
  {
   "cell_type": "code",
   "execution_count": 85,
   "id": "d50abc5c",
   "metadata": {
    "colab": {
     "base_uri": "https://localhost:8080/"
    },
    "executionInfo": {
     "elapsed": 110941,
     "status": "ok",
     "timestamp": 1647328638916,
     "user": {
      "displayName": "Srikanth M Srikanth M",
      "photoUrl": "https://lh3.googleusercontent.com/a-/AOh14GharHiNxh1XG74YPXeNYjJSbcgfWzjyfo6t2d8NR94=s64",
      "userId": "07608372324138559378"
     },
     "user_tz": -330
    },
    "id": "d50abc5c",
    "outputId": "3dd90133-5ade-4805-f0e7-42b581cb20f5"
   },
   "outputs": [
    {
     "name": "stdout",
     "output_type": "stream",
     "text": [
      "Best parameters for ADABoost classifier:  {'learning_rate': 0.5, 'n_estimators': 50} \n",
      "\n"
     ]
    }
   ],
   "source": [
    "tuning_parameters = {'learning_rate': [0.1, 0.2, 0.3, 0.4, 0.5, 0.6],'n_estimators' : [10,20,30,40,50]}\n",
    "ada_model = AdaBoostClassifier()\n",
    "ada_grid = GridSearchCV(estimator = ada_model, param_grid = tuning_parameters, cv = 3, scoring = 'accuracy')\n",
    "ada_grid.fit(X_train_pca, y_train)\n",
    "print('Best parameters for ADABoost classifier: ', ada_grid.best_params_, '\\n')"
   ]
  },
  {
   "cell_type": "markdown",
   "id": "947d46b8",
   "metadata": {
    "id": "947d46b8"
   },
   "source": [
    "# 8.2.3 Final ada boost model"
   ]
  },
  {
   "cell_type": "code",
   "execution_count": 87,
   "id": "becbe9ac",
   "metadata": {
    "colab": {
     "base_uri": "https://localhost:8080/",
     "height": 352
    },
    "executionInfo": {
     "elapsed": 1053,
     "status": "ok",
     "timestamp": 1647328984389,
     "user": {
      "displayName": "Srikanth M Srikanth M",
      "photoUrl": "https://lh3.googleusercontent.com/a-/AOh14GharHiNxh1XG74YPXeNYjJSbcgfWzjyfo6t2d8NR94=s64",
      "userId": "07608372324138559378"
     },
     "user_tz": -330
    },
    "id": "becbe9ac",
    "outputId": "5aa5bc1c-e97a-4093-c8c0-c8246518f436"
   },
   "outputs": [
    {
     "data": {
      "text/html": [
       "<div>\n",
       "<style scoped>\n",
       "    .dataframe tbody tr th:only-of-type {\n",
       "        vertical-align: middle;\n",
       "    }\n",
       "\n",
       "    .dataframe tbody tr th {\n",
       "        vertical-align: top;\n",
       "    }\n",
       "\n",
       "    .dataframe thead th {\n",
       "        text-align: right;\n",
       "    }\n",
       "</style>\n",
       "<table border=\"1\" class=\"dataframe\">\n",
       "  <thead>\n",
       "    <tr style=\"text-align: right;\">\n",
       "      <th></th>\n",
       "      <th>train</th>\n",
       "      <th>test</th>\n",
       "    </tr>\n",
       "    <tr>\n",
       "      <th>metrics</th>\n",
       "      <th></th>\n",
       "      <th></th>\n",
       "    </tr>\n",
       "  </thead>\n",
       "  <tbody>\n",
       "    <tr>\n",
       "      <th>accuracy</th>\n",
       "      <td>0.831489</td>\n",
       "      <td>0.829032</td>\n",
       "    </tr>\n",
       "    <tr>\n",
       "      <th>precision</th>\n",
       "      <td>0.818182</td>\n",
       "      <td>0.600000</td>\n",
       "    </tr>\n",
       "    <tr>\n",
       "      <th>recall</th>\n",
       "      <td>0.030060</td>\n",
       "      <td>0.032000</td>\n",
       "    </tr>\n",
       "    <tr>\n",
       "      <th>TPR</th>\n",
       "      <td>0.030060</td>\n",
       "      <td>0.032000</td>\n",
       "    </tr>\n",
       "    <tr>\n",
       "      <th>FPR</th>\n",
       "      <td>0.001393</td>\n",
       "      <td>0.004457</td>\n",
       "    </tr>\n",
       "    <tr>\n",
       "      <th>f1_ratio</th>\n",
       "      <td>0.057990</td>\n",
       "      <td>0.060759</td>\n",
       "    </tr>\n",
       "    <tr>\n",
       "      <th>auc_score</th>\n",
       "      <td>0.514334</td>\n",
       "      <td>0.513772</td>\n",
       "    </tr>\n",
       "  </tbody>\n",
       "</table>\n",
       "</div>"
      ],
      "text/plain": [
       "              train      test\n",
       "metrics                      \n",
       "accuracy   0.831489  0.829032\n",
       "precision  0.818182  0.600000\n",
       "recall     0.030060  0.032000\n",
       "TPR        0.030060  0.032000\n",
       "FPR        0.001393  0.004457\n",
       "f1_ratio   0.057990  0.060759\n",
       "auc_score  0.514334  0.513772"
      ]
     },
     "execution_count": 87,
     "metadata": {},
     "output_type": "execute_result"
    }
   ],
   "source": [
    "ada_final=AdaBoostClassifier(learning_rate=0.5,n_estimators=50)\n",
    "ada_final.fit(X_train_pca,y_train)\n",
    "ada_final_score=scorecard(ada_final,X_train_pca,X_test_pca)\n",
    "ada_final_score"
   ]
  },
  {
   "cell_type": "markdown",
   "id": "4b964cc4",
   "metadata": {},
   "source": [
    "the adaboost is giving good performance with hyper parameter so checking adboost base model performance with confusion matrix"
   ]
  },
  {
   "cell_type": "code",
   "execution_count": 88,
   "id": "b-5hjepRe6vB",
   "metadata": {
    "colab": {
     "base_uri": "https://localhost:8080/",
     "height": 297
    },
    "executionInfo": {
     "elapsed": 475,
     "status": "ok",
     "timestamp": 1647335648855,
     "user": {
      "displayName": "Srikanth M Srikanth M",
      "photoUrl": "https://lh3.googleusercontent.com/a-/AOh14GharHiNxh1XG74YPXeNYjJSbcgfWzjyfo6t2d8NR94=s64",
      "userId": "07608372324138559378"
     },
     "user_tz": -330
    },
    "id": "b-5hjepRe6vB",
    "outputId": "a9f43de5-ab07-46bc-9395-926a318eee21"
   },
   "outputs": [
    {
     "name": "stdout",
     "output_type": "stream",
     "text": [
      "1 : bad customer\n",
      "0 : good customer\n"
     ]
    },
    {
     "data": {
      "image/png": "[encoded data removed]",
      "text/plain": [
       "<Figure size 576x288 with 1 Axes>"
      ]
     },
     "metadata": {
      "needs_background": "light"
     },
     "output_type": "display_data"
    }
   ],
   "source": [
    "print(1,': bad customer')\n",
    "print(0,': good customer')\n",
    "plot_confusion_matrix(ada_base)"
   ]
  },
  {
   "cell_type": "markdown",
   "id": "RND-NkoHZdsw",
   "metadata": {
    "id": "RND-NkoHZdsw"
   },
   "source": [
    "The adaboost base model is barely classifying bad customers so next trying with other boosting algorithms"
   ]
  },
  {
   "cell_type": "code",
   "execution_count": null,
   "id": "krmd3tqndEZt",
   "metadata": {
    "colab": {
     "base_uri": "https://localhost:8080/",
     "height": 112
    },
    "executionInfo": {
     "elapsed": 464,
     "status": "ok",
     "timestamp": 1647329438399,
     "user": {
      "displayName": "Srikanth M Srikanth M",
      "photoUrl": "https://lh3.googleusercontent.com/a-/AOh14GharHiNxh1XG74YPXeNYjJSbcgfWzjyfo6t2d8NR94=s64",
      "userId": "07608372324138559378"
     },
     "user_tz": -330
    },
    "id": "krmd3tqndEZt",
    "outputId": "4fbb160b-3e7d-4354-c374-8974b673c144"
   },
   "outputs": [],
   "source": [
    "score_card=update_score_card('adaboost model',ada_base)\n",
    "score_card"
   ]
  },
  {
   "cell_type": "markdown",
   "id": "d518dce8",
   "metadata": {
    "id": "d518dce8"
   },
   "source": [
    "# 8.4 GradientBoosting Classifier"
   ]
  },
  {
   "cell_type": "markdown",
   "id": "XogyNWQ5fKnR",
   "metadata": {
    "id": "XogyNWQ5fKnR"
   },
   "source": [
    "# 8.4.1 Base model"
   ]
  },
  {
   "cell_type": "code",
   "execution_count": 89,
   "id": "055d03da",
   "metadata": {
    "colab": {
     "base_uri": "https://localhost:8080/",
     "height": 300
    },
    "executionInfo": {
     "elapsed": 13461,
     "status": "ok",
     "timestamp": 1647329516782,
     "user": {
      "displayName": "Srikanth M Srikanth M",
      "photoUrl": "https://lh3.googleusercontent.com/a-/AOh14GharHiNxh1XG74YPXeNYjJSbcgfWzjyfo6t2d8NR94=s64",
      "userId": "07608372324138559378"
     },
     "user_tz": -330
    },
    "id": "055d03da",
    "outputId": "b28670c5-a698-42ac-a029-928d1f6c6244"
   },
   "outputs": [
    {
     "data": {
      "text/html": [
       "<div>\n",
       "<style scoped>\n",
       "    .dataframe tbody tr th:only-of-type {\n",
       "        vertical-align: middle;\n",
       "    }\n",
       "\n",
       "    .dataframe tbody tr th {\n",
       "        vertical-align: top;\n",
       "    }\n",
       "\n",
       "    .dataframe thead th {\n",
       "        text-align: right;\n",
       "    }\n",
       "</style>\n",
       "<table border=\"1\" class=\"dataframe\">\n",
       "  <thead>\n",
       "    <tr style=\"text-align: right;\">\n",
       "      <th></th>\n",
       "      <th>train</th>\n",
       "      <th>test</th>\n",
       "    </tr>\n",
       "    <tr>\n",
       "      <th>metrics</th>\n",
       "      <th></th>\n",
       "      <th></th>\n",
       "    </tr>\n",
       "  </thead>\n",
       "  <tbody>\n",
       "    <tr>\n",
       "      <th>accuracy</th>\n",
       "      <td>0.855694</td>\n",
       "      <td>0.822581</td>\n",
       "    </tr>\n",
       "    <tr>\n",
       "      <th>precision</th>\n",
       "      <td>0.972973</td>\n",
       "      <td>0.410714</td>\n",
       "    </tr>\n",
       "    <tr>\n",
       "      <th>recall</th>\n",
       "      <td>0.168337</td>\n",
       "      <td>0.061333</td>\n",
       "    </tr>\n",
       "    <tr>\n",
       "      <th>TPR</th>\n",
       "      <td>0.168337</td>\n",
       "      <td>0.061333</td>\n",
       "    </tr>\n",
       "    <tr>\n",
       "      <th>FPR</th>\n",
       "      <td>0.000975</td>\n",
       "      <td>0.018384</td>\n",
       "    </tr>\n",
       "    <tr>\n",
       "      <th>f1_ratio</th>\n",
       "      <td>0.287016</td>\n",
       "      <td>0.106729</td>\n",
       "    </tr>\n",
       "    <tr>\n",
       "      <th>auc_score</th>\n",
       "      <td>0.583681</td>\n",
       "      <td>0.521474</td>\n",
       "    </tr>\n",
       "  </tbody>\n",
       "</table>\n",
       "</div>"
      ],
      "text/plain": [
       "              train      test\n",
       "metrics                      \n",
       "accuracy   0.855694  0.822581\n",
       "precision  0.972973  0.410714\n",
       "recall     0.168337  0.061333\n",
       "TPR        0.168337  0.061333\n",
       "FPR        0.000975  0.018384\n",
       "f1_ratio   0.287016  0.106729\n",
       "auc_score  0.583681  0.521474"
      ]
     },
     "execution_count": 89,
     "metadata": {},
     "output_type": "execute_result"
    }
   ],
   "source": [
    "gbc=GradientBoostingClassifier()\n",
    "gbc.fit(X_train_pca,y_train)\n",
    "gbc_score=scorecard(gbc,X_train_pca,X_test_pca)\n",
    "gbc_score"
   ]
  },
  {
   "cell_type": "markdown",
   "id": "909bbd6b",
   "metadata": {},
   "source": [
    "the model is giving good accuracy but it is not able to classify bad customers"
   ]
  },
  {
   "cell_type": "markdown",
   "id": "I-NIoQ3EfiRH",
   "metadata": {
    "id": "I-NIoQ3EfiRH"
   },
   "source": [
    "# 8.4.2 Hyper parameter"
   ]
  },
  {
   "cell_type": "code",
   "execution_count": null,
   "id": "04bkYuu1fnXl",
   "metadata": {
    "id": "04bkYuu1fnXl"
   },
   "outputs": [],
   "source": [
    "tuning_parameters = {'learning_rate': [0.1, 0.2, 0.3, 0.4, 0.5, 0.6],'n_estimators':[30, 50, 70, 90],\n",
    "                     'max_depth': [2,6,10],'min_samples_split': [2,6,10],\n",
    "                     'min_samples_leaf': [2,6,10]}\n",
    "gboost_model = GradientBoostingClassifier()\n",
    "gb_grid = GridSearchCV(estimator = gboost_model, param_grid = tuning_parameters, cv = 3, scoring = 'accuracy')\n",
    "gb_grid.fit(X_train_pca, y_train) "
   ]
  },
  {
   "cell_type": "code",
   "execution_count": null,
   "id": "8baf4435",
   "metadata": {},
   "outputs": [],
   "source": [
    "print('Best parameters for GBoost classifier: ', gb_grid.best_params_, '\\n')  "
   ]
  },
  {
   "cell_type": "markdown",
   "id": "8-aTR7a8p_yL",
   "metadata": {
    "id": "8-aTR7a8p_yL"
   },
   "source": [
    "# 8.4.3 Final model"
   ]
  },
  {
   "cell_type": "code",
   "execution_count": 90,
   "id": "aS6VQBTbgdmK",
   "metadata": {
    "colab": {
     "base_uri": "https://localhost:8080/",
     "height": 300
    },
    "executionInfo": {
     "elapsed": 19869,
     "status": "ok",
     "timestamp": 1647335782937,
     "user": {
      "displayName": "Srikanth M Srikanth M",
      "photoUrl": "https://lh3.googleusercontent.com/a-/AOh14GharHiNxh1XG74YPXeNYjJSbcgfWzjyfo6t2d8NR94=s64",
      "userId": "07608372324138559378"
     },
     "user_tz": -330
    },
    "id": "aS6VQBTbgdmK",
    "outputId": "33ddbad3-61a1-40be-9bfc-3b91a21890fa"
   },
   "outputs": [
    {
     "data": {
      "text/html": [
       "<div>\n",
       "<style scoped>\n",
       "    .dataframe tbody tr th:only-of-type {\n",
       "        vertical-align: middle;\n",
       "    }\n",
       "\n",
       "    .dataframe tbody tr th {\n",
       "        vertical-align: top;\n",
       "    }\n",
       "\n",
       "    .dataframe thead th {\n",
       "        text-align: right;\n",
       "    }\n",
       "</style>\n",
       "<table border=\"1\" class=\"dataframe\">\n",
       "  <thead>\n",
       "    <tr style=\"text-align: right;\">\n",
       "      <th></th>\n",
       "      <th>train</th>\n",
       "      <th>test</th>\n",
       "    </tr>\n",
       "    <tr>\n",
       "      <th>metrics</th>\n",
       "      <th></th>\n",
       "      <th></th>\n",
       "    </tr>\n",
       "  </thead>\n",
       "  <tbody>\n",
       "    <tr>\n",
       "      <th>accuracy</th>\n",
       "      <td>0.903873</td>\n",
       "      <td>0.829032</td>\n",
       "    </tr>\n",
       "    <tr>\n",
       "      <th>precision</th>\n",
       "      <td>1.000000</td>\n",
       "      <td>0.566667</td>\n",
       "    </tr>\n",
       "    <tr>\n",
       "      <th>recall</th>\n",
       "      <td>0.442886</td>\n",
       "      <td>0.045333</td>\n",
       "    </tr>\n",
       "    <tr>\n",
       "      <th>TPR</th>\n",
       "      <td>0.442886</td>\n",
       "      <td>0.045333</td>\n",
       "    </tr>\n",
       "    <tr>\n",
       "      <th>FPR</th>\n",
       "      <td>0.000000</td>\n",
       "      <td>0.007242</td>\n",
       "    </tr>\n",
       "    <tr>\n",
       "      <th>f1_ratio</th>\n",
       "      <td>0.613889</td>\n",
       "      <td>0.083951</td>\n",
       "    </tr>\n",
       "    <tr>\n",
       "      <th>auc_score</th>\n",
       "      <td>0.721443</td>\n",
       "      <td>0.519045</td>\n",
       "    </tr>\n",
       "  </tbody>\n",
       "</table>\n",
       "</div>"
      ],
      "text/plain": [
       "              train      test\n",
       "metrics                      \n",
       "accuracy   0.903873  0.829032\n",
       "precision  1.000000  0.566667\n",
       "recall     0.442886  0.045333\n",
       "TPR        0.442886  0.045333\n",
       "FPR        0.000000  0.007242\n",
       "f1_ratio   0.613889  0.083951\n",
       "auc_score  0.721443  0.519045"
      ]
     },
     "execution_count": 90,
     "metadata": {},
     "output_type": "execute_result"
    }
   ],
   "source": [
    "gbc_final=GradientBoostingClassifier(learning_rate=0.1,max_depth=6,min_samples_leaf=10,min_samples_split=10,n_estimators=30)\n",
    "gbc_final.fit(X_train_pca,y_train)\n",
    "gbc_final_score=scorecard(gbc_final,X_train_pca,X_test_pca)\n",
    "gbc_final_score"
   ]
  },
  {
   "cell_type": "code",
   "execution_count": 91,
   "id": "ffc7a683",
   "metadata": {
    "colab": {
     "base_uri": "https://localhost:8080/",
     "height": 297
    },
    "executionInfo": {
     "elapsed": 427,
     "status": "ok",
     "timestamp": 1647335786538,
     "user": {
      "displayName": "Srikanth M Srikanth M",
      "photoUrl": "https://lh3.googleusercontent.com/a-/AOh14GharHiNxh1XG74YPXeNYjJSbcgfWzjyfo6t2d8NR94=s64",
      "userId": "07608372324138559378"
     },
     "user_tz": -330
    },
    "id": "ffc7a683",
    "outputId": "08ae6b9a-9e89-43f2-f85b-95d70372d0f6"
   },
   "outputs": [
    {
     "name": "stdout",
     "output_type": "stream",
     "text": [
      "1 : bad customer\n",
      "0 : good customer\n"
     ]
    },
    {
     "data": {
      "image/png": "[encoded data removed]",
      "text/plain": [
       "<Figure size 576x288 with 1 Axes>"
      ]
     },
     "metadata": {
      "needs_background": "light"
     },
     "output_type": "display_data"
    }
   ],
   "source": [
    "print(1,': bad customer')\n",
    "print(0,': good customer')\n",
    "plot_confusion_matrix(gbc_final)"
   ]
  },
  {
   "cell_type": "markdown",
   "id": "f112bdc4",
   "metadata": {},
   "source": [
    "The gbc model also has good accuracy but it is not classying bad customers, it has classified only 2 customer as bad"
   ]
  },
  {
   "cell_type": "markdown",
   "id": "9Mte5gDm3YB3",
   "metadata": {
    "id": "9Mte5gDm3YB3"
   },
   "source": [
    "# 8.5 XGBOOST CLASSIFIER"
   ]
  },
  {
   "cell_type": "markdown",
   "id": "G_e8d0Eg3dyW",
   "metadata": {
    "id": "G_e8d0Eg3dyW"
   },
   "source": [
    "# 8.5.1 Base model"
   ]
  },
  {
   "cell_type": "code",
   "execution_count": 92,
   "id": "1v9fhSd83Xwf",
   "metadata": {
    "colab": {
     "base_uri": "https://localhost:8080/",
     "height": 335
    },
    "executionInfo": {
     "elapsed": 4750,
     "status": "ok",
     "timestamp": 1647335986777,
     "user": {
      "displayName": "Srikanth M Srikanth M",
      "photoUrl": "https://lh3.googleusercontent.com/a-/AOh14GharHiNxh1XG74YPXeNYjJSbcgfWzjyfo6t2d8NR94=s64",
      "userId": "07608372324138559378"
     },
     "user_tz": -330
    },
    "id": "1v9fhSd83Xwf",
    "outputId": "9db9708a-2302-4202-ef01-ade427084261"
   },
   "outputs": [
    {
     "name": "stderr",
     "output_type": "stream",
     "text": [
      "C:\\ProgramData\\Anaconda3\\lib\\site-packages\\xgboost\\sklearn.py:1224: UserWarning: The use of label encoder in XGBClassifier is deprecated and will be removed in a future release. To remove this warning, do the following: 1) Pass option use_label_encoder=False when constructing XGBClassifier object; and 2) Encode your labels (y) as integers starting with 0, i.e. 0, 1, 2, ..., [num_class - 1].\n",
      "  warnings.warn(label_encoder_deprecation_msg, UserWarning)\n"
     ]
    },
    {
     "name": "stdout",
     "output_type": "stream",
     "text": [
      "[16:11:50] WARNING: C:/Users/Administrator/workspace/xgboost-win64_release_1.5.1/src/learner.cc:1115: Starting in XGBoost 1.3.0, the default evaluation metric used with the objective 'binary:logistic' was changed from 'error' to 'logloss'. Explicitly set eval_metric if you'd like to restore the old behavior.\n"
     ]
    },
    {
     "data": {
      "text/html": [
       "<div>\n",
       "<style scoped>\n",
       "    .dataframe tbody tr th:only-of-type {\n",
       "        vertical-align: middle;\n",
       "    }\n",
       "\n",
       "    .dataframe tbody tr th {\n",
       "        vertical-align: top;\n",
       "    }\n",
       "\n",
       "    .dataframe thead th {\n",
       "        text-align: right;\n",
       "    }\n",
       "</style>\n",
       "<table border=\"1\" class=\"dataframe\">\n",
       "  <thead>\n",
       "    <tr style=\"text-align: right;\">\n",
       "      <th></th>\n",
       "      <th>train</th>\n",
       "      <th>test</th>\n",
       "    </tr>\n",
       "    <tr>\n",
       "      <th>metrics</th>\n",
       "      <th></th>\n",
       "      <th></th>\n",
       "    </tr>\n",
       "  </thead>\n",
       "  <tbody>\n",
       "    <tr>\n",
       "      <th>accuracy</th>\n",
       "      <td>0.999885</td>\n",
       "      <td>0.829493</td>\n",
       "    </tr>\n",
       "    <tr>\n",
       "      <th>precision</th>\n",
       "      <td>1.000000</td>\n",
       "      <td>0.540984</td>\n",
       "    </tr>\n",
       "    <tr>\n",
       "      <th>recall</th>\n",
       "      <td>0.999332</td>\n",
       "      <td>0.088000</td>\n",
       "    </tr>\n",
       "    <tr>\n",
       "      <th>TPR</th>\n",
       "      <td>0.999332</td>\n",
       "      <td>0.088000</td>\n",
       "    </tr>\n",
       "    <tr>\n",
       "      <th>FPR</th>\n",
       "      <td>0.000000</td>\n",
       "      <td>0.015599</td>\n",
       "    </tr>\n",
       "    <tr>\n",
       "      <th>f1_ratio</th>\n",
       "      <td>0.999666</td>\n",
       "      <td>0.151376</td>\n",
       "    </tr>\n",
       "    <tr>\n",
       "      <th>auc_score</th>\n",
       "      <td>0.999666</td>\n",
       "      <td>0.536201</td>\n",
       "    </tr>\n",
       "  </tbody>\n",
       "</table>\n",
       "</div>"
      ],
      "text/plain": [
       "              train      test\n",
       "metrics                      \n",
       "accuracy   0.999885  0.829493\n",
       "precision  1.000000  0.540984\n",
       "recall     0.999332  0.088000\n",
       "TPR        0.999332  0.088000\n",
       "FPR        0.000000  0.015599\n",
       "f1_ratio   0.999666  0.151376\n",
       "auc_score  0.999666  0.536201"
      ]
     },
     "execution_count": 92,
     "metadata": {},
     "output_type": "execute_result"
    }
   ],
   "source": [
    "xgb_model = XGBClassifier()\n",
    "xgb_model.fit(X_train_pca, y_train)\n",
    "xgb_score=scorecard(xgb_model,X_train_pca,X_test_pca)\n",
    "xgb_score"
   ]
  },
  {
   "cell_type": "code",
   "execution_count": 93,
   "id": "1b9e7e3a",
   "metadata": {},
   "outputs": [
    {
     "name": "stdout",
     "output_type": "stream",
     "text": [
      "1 : bad customer\n",
      "0 : good customer\n"
     ]
    },
    {
     "data": {
      "image/png": "[encoded data removed]",
      "text/plain": [
       "<Figure size 576x288 with 1 Axes>"
      ]
     },
     "metadata": {
      "needs_background": "light"
     },
     "output_type": "display_data"
    }
   ],
   "source": [
    "print(1,': bad customer')\n",
    "print(0,': good customer')\n",
    "plot_confusion_matrix(xgb_model)"
   ]
  },
  {
   "cell_type": "markdown",
   "id": "2bb2fba4",
   "metadata": {},
   "source": [
    "the XGB model is able to classify bad customers compared to previous model but it is overfitting so trying hyper parameter tuning to reduce overfit"
   ]
  },
  {
   "cell_type": "markdown",
   "id": "0_2P9-9I4IEr",
   "metadata": {
    "id": "0_2P9-9I4IEr"
   },
   "source": [
    "# 8.5.2 Hyper parameter"
   ]
  },
  {
   "cell_type": "code",
   "execution_count": 95,
   "id": "rzrNw8D_3UPY",
   "metadata": {
    "colab": {
     "base_uri": "https://localhost:8080/",
     "height": 432
    },
    "executionInfo": {
     "elapsed": 579,
     "status": "error",
     "timestamp": 1647336071717,
     "user": {
      "displayName": "Srikanth M Srikanth M",
      "photoUrl": "https://lh3.googleusercontent.com/a-/AOh14GharHiNxh1XG74YPXeNYjJSbcgfWzjyfo6t2d8NR94=s64",
      "userId": "07608372324138559378"
     },
     "user_tz": -330
    },
    "id": "rzrNw8D_3UPY",
    "outputId": "56a4782a-40c0-4b11-8f37-e6880e9a186e"
   },
   "outputs": [
    {
     "name": "stderr",
     "output_type": "stream",
     "text": [
      "C:\\ProgramData\\Anaconda3\\lib\\site-packages\\xgboost\\sklearn.py:1224: UserWarning: The use of label encoder in XGBClassifier is deprecated and will be removed in a future release. To remove this warning, do the following: 1) Pass option use_label_encoder=False when constructing XGBClassifier object; and 2) Encode your labels (y) as integers starting with 0, i.e. 0, 1, 2, ..., [num_class - 1].\n",
      "  warnings.warn(label_encoder_deprecation_msg, UserWarning)\n"
     ]
    },
    {
     "name": "stdout",
     "output_type": "stream",
     "text": [
      "[16:24:21] WARNING: C:/Users/Administrator/workspace/xgboost-win64_release_1.5.1/src/learner.cc:1115: Starting in XGBoost 1.3.0, the default evaluation metric used with the objective 'binary:logistic' was changed from 'error' to 'logloss'. Explicitly set eval_metric if you'd like to restore the old behavior.\n"
     ]
    },
    {
     "name": "stderr",
     "output_type": "stream",
     "text": [
      "C:\\ProgramData\\Anaconda3\\lib\\site-packages\\xgboost\\sklearn.py:1224: UserWarning: The use of label encoder in XGBClassifier is deprecated and will be removed in a future release. To remove this warning, do the following: 1) Pass option use_label_encoder=False when constructing XGBClassifier object; and 2) Encode your labels (y) as integers starting with 0, i.e. 0, 1, 2, ..., [num_class - 1].\n",
      "  warnings.warn(label_encoder_deprecation_msg, UserWarning)\n"
     ]
    },
    {
     "name": "stdout",
     "output_type": "stream",
     "text": [
      "[16:25:09] WARNING: C:/Users/Administrator/workspace/xgboost-win64_release_1.5.1/src/learner.cc:1115: Starting in XGBoost 1.3.0, the default evaluation metric used with the objective 'binary:logistic' was changed from 'error' to 'logloss'. Explicitly set eval_metric if you'd like to restore the old behavior.\n"
     ]
    },
    {
     "name": "stderr",
     "output_type": "stream",
     "text": [
      "C:\\ProgramData\\Anaconda3\\lib\\site-packages\\xgboost\\sklearn.py:1224: UserWarning: The use of label encoder in XGBClassifier is deprecated and will be removed in a future release. To remove this warning, do the following: 1) Pass option use_label_encoder=False when constructing XGBClassifier object; and 2) Encode your labels (y) as integers starting with 0, i.e. 0, 1, 2, ..., [num_class - 1].\n",
      "  warnings.warn(label_encoder_deprecation_msg, UserWarning)\n"
     ]
    },
    {
     "name": "stdout",
     "output_type": "stream",
     "text": [
      "[16:25:44] WARNING: C:/Users/Administrator/workspace/xgboost-win64_release_1.5.1/src/learner.cc:1115: Starting in XGBoost 1.3.0, the default evaluation metric used with the objective 'binary:logistic' was changed from 'error' to 'logloss'. Explicitly set eval_metric if you'd like to restore the old behavior.\n"
     ]
    },
    {
     "name": "stderr",
     "output_type": "stream",
     "text": [
      "C:\\ProgramData\\Anaconda3\\lib\\site-packages\\xgboost\\sklearn.py:1224: UserWarning: The use of label encoder in XGBClassifier is deprecated and will be removed in a future release. To remove this warning, do the following: 1) Pass option use_label_encoder=False when constructing XGBClassifier object; and 2) Encode your labels (y) as integers starting with 0, i.e. 0, 1, 2, ..., [num_class - 1].\n",
      "  warnings.warn(label_encoder_deprecation_msg, UserWarning)\n"
     ]
    },
    {
     "name": "stdout",
     "output_type": "stream",
     "text": [
      "[16:26:16] WARNING: C:/Users/Administrator/workspace/xgboost-win64_release_1.5.1/src/learner.cc:1115: Starting in XGBoost 1.3.0, the default evaluation metric used with the objective 'binary:logistic' was changed from 'error' to 'logloss'. Explicitly set eval_metric if you'd like to restore the old behavior.\n"
     ]
    },
    {
     "name": "stderr",
     "output_type": "stream",
     "text": [
      "C:\\ProgramData\\Anaconda3\\lib\\site-packages\\xgboost\\sklearn.py:1224: UserWarning: The use of label encoder in XGBClassifier is deprecated and will be removed in a future release. To remove this warning, do the following: 1) Pass option use_label_encoder=False when constructing XGBClassifier object; and 2) Encode your labels (y) as integers starting with 0, i.e. 0, 1, 2, ..., [num_class - 1].\n",
      "  warnings.warn(label_encoder_deprecation_msg, UserWarning)\n"
     ]
    },
    {
     "name": "stdout",
     "output_type": "stream",
     "text": [
      "[16:27:48] WARNING: C:/Users/Administrator/workspace/xgboost-win64_release_1.5.1/src/learner.cc:1115: Starting in XGBoost 1.3.0, the default evaluation metric used with the objective 'binary:logistic' was changed from 'error' to 'logloss'. Explicitly set eval_metric if you'd like to restore the old behavior.\n"
     ]
    },
    {
     "name": "stderr",
     "output_type": "stream",
     "text": [
      "C:\\ProgramData\\Anaconda3\\lib\\site-packages\\xgboost\\sklearn.py:1224: UserWarning: The use of label encoder in XGBClassifier is deprecated and will be removed in a future release. To remove this warning, do the following: 1) Pass option use_label_encoder=False when constructing XGBClassifier object; and 2) Encode your labels (y) as integers starting with 0, i.e. 0, 1, 2, ..., [num_class - 1].\n",
      "  warnings.warn(label_encoder_deprecation_msg, UserWarning)\n"
     ]
    },
    {
     "name": "stdout",
     "output_type": "stream",
     "text": [
      "[16:29:23] WARNING: C:/Users/Administrator/workspace/xgboost-win64_release_1.5.1/src/learner.cc:1115: Starting in XGBoost 1.3.0, the default evaluation metric used with the objective 'binary:logistic' was changed from 'error' to 'logloss'. Explicitly set eval_metric if you'd like to restore the old behavior.\n"
     ]
    },
    {
     "name": "stderr",
     "output_type": "stream",
     "text": [
      "C:\\ProgramData\\Anaconda3\\lib\\site-packages\\xgboost\\sklearn.py:1224: UserWarning: The use of label encoder in XGBClassifier is deprecated and will be removed in a future release. To remove this warning, do the following: 1) Pass option use_label_encoder=False when constructing XGBClassifier object; and 2) Encode your labels (y) as integers starting with 0, i.e. 0, 1, 2, ..., [num_class - 1].\n",
      "  warnings.warn(label_encoder_deprecation_msg, UserWarning)\n"
     ]
    },
    {
     "name": "stdout",
     "output_type": "stream",
     "text": [
      "[16:30:57] WARNING: C:/Users/Administrator/workspace/xgboost-win64_release_1.5.1/src/learner.cc:1115: Starting in XGBoost 1.3.0, the default evaluation metric used with the objective 'binary:logistic' was changed from 'error' to 'logloss'. Explicitly set eval_metric if you'd like to restore the old behavior.\n"
     ]
    },
    {
     "name": "stderr",
     "output_type": "stream",
     "text": [
      "C:\\ProgramData\\Anaconda3\\lib\\site-packages\\xgboost\\sklearn.py:1224: UserWarning: The use of label encoder in XGBClassifier is deprecated and will be removed in a future release. To remove this warning, do the following: 1) Pass option use_label_encoder=False when constructing XGBClassifier object; and 2) Encode your labels (y) as integers starting with 0, i.e. 0, 1, 2, ..., [num_class - 1].\n",
      "  warnings.warn(label_encoder_deprecation_msg, UserWarning)\n"
     ]
    },
    {
     "name": "stdout",
     "output_type": "stream",
     "text": [
      "[16:33:32] WARNING: C:/Users/Administrator/workspace/xgboost-win64_release_1.5.1/src/learner.cc:1115: Starting in XGBoost 1.3.0, the default evaluation metric used with the objective 'binary:logistic' was changed from 'error' to 'logloss'. Explicitly set eval_metric if you'd like to restore the old behavior.\n"
     ]
    },
    {
     "name": "stderr",
     "output_type": "stream",
     "text": [
      "C:\\ProgramData\\Anaconda3\\lib\\site-packages\\xgboost\\sklearn.py:1224: UserWarning: The use of label encoder in XGBClassifier is deprecated and will be removed in a future release. To remove this warning, do the following: 1) Pass option use_label_encoder=False when constructing XGBClassifier object; and 2) Encode your labels (y) as integers starting with 0, i.e. 0, 1, 2, ..., [num_class - 1].\n",
      "  warnings.warn(label_encoder_deprecation_msg, UserWarning)\n"
     ]
    },
    {
     "name": "stdout",
     "output_type": "stream",
     "text": [
      "[16:36:09] WARNING: C:/Users/Administrator/workspace/xgboost-win64_release_1.5.1/src/learner.cc:1115: Starting in XGBoost 1.3.0, the default evaluation metric used with the objective 'binary:logistic' was changed from 'error' to 'logloss'. Explicitly set eval_metric if you'd like to restore the old behavior.\n"
     ]
    },
    {
     "name": "stderr",
     "output_type": "stream",
     "text": [
      "C:\\ProgramData\\Anaconda3\\lib\\site-packages\\xgboost\\sklearn.py:1224: UserWarning: The use of label encoder in XGBClassifier is deprecated and will be removed in a future release. To remove this warning, do the following: 1) Pass option use_label_encoder=False when constructing XGBClassifier object; and 2) Encode your labels (y) as integers starting with 0, i.e. 0, 1, 2, ..., [num_class - 1].\n",
      "  warnings.warn(label_encoder_deprecation_msg, UserWarning)\n"
     ]
    },
    {
     "name": "stdout",
     "output_type": "stream",
     "text": [
      "[16:38:42] WARNING: C:/Users/Administrator/workspace/xgboost-win64_release_1.5.1/src/learner.cc:1115: Starting in XGBoost 1.3.0, the default evaluation metric used with the objective 'binary:logistic' was changed from 'error' to 'logloss'. Explicitly set eval_metric if you'd like to restore the old behavior.\n"
     ]
    },
    {
     "name": "stderr",
     "output_type": "stream",
     "text": [
      "C:\\ProgramData\\Anaconda3\\lib\\site-packages\\xgboost\\sklearn.py:1224: UserWarning: The use of label encoder in XGBClassifier is deprecated and will be removed in a future release. To remove this warning, do the following: 1) Pass option use_label_encoder=False when constructing XGBClassifier object; and 2) Encode your labels (y) as integers starting with 0, i.e. 0, 1, 2, ..., [num_class - 1].\n",
      "  warnings.warn(label_encoder_deprecation_msg, UserWarning)\n"
     ]
    },
    {
     "name": "stdout",
     "output_type": "stream",
     "text": [
      "[16:42:11] WARNING: C:/Users/Administrator/workspace/xgboost-win64_release_1.5.1/src/learner.cc:1115: Starting in XGBoost 1.3.0, the default evaluation metric used with the objective 'binary:logistic' was changed from 'error' to 'logloss'. Explicitly set eval_metric if you'd like to restore the old behavior.\n"
     ]
    },
    {
     "name": "stderr",
     "output_type": "stream",
     "text": [
      "C:\\ProgramData\\Anaconda3\\lib\\site-packages\\xgboost\\sklearn.py:1224: UserWarning: The use of label encoder in XGBClassifier is deprecated and will be removed in a future release. To remove this warning, do the following: 1) Pass option use_label_encoder=False when constructing XGBClassifier object; and 2) Encode your labels (y) as integers starting with 0, i.e. 0, 1, 2, ..., [num_class - 1].\n",
      "  warnings.warn(label_encoder_deprecation_msg, UserWarning)\n"
     ]
    },
    {
     "name": "stdout",
     "output_type": "stream",
     "text": [
      "[16:45:39] WARNING: C:/Users/Administrator/workspace/xgboost-win64_release_1.5.1/src/learner.cc:1115: Starting in XGBoost 1.3.0, the default evaluation metric used with the objective 'binary:logistic' was changed from 'error' to 'logloss'. Explicitly set eval_metric if you'd like to restore the old behavior.\n"
     ]
    },
    {
     "name": "stderr",
     "output_type": "stream",
     "text": [
      "C:\\ProgramData\\Anaconda3\\lib\\site-packages\\xgboost\\sklearn.py:1224: UserWarning: The use of label encoder in XGBClassifier is deprecated and will be removed in a future release. To remove this warning, do the following: 1) Pass option use_label_encoder=False when constructing XGBClassifier object; and 2) Encode your labels (y) as integers starting with 0, i.e. 0, 1, 2, ..., [num_class - 1].\n",
      "  warnings.warn(label_encoder_deprecation_msg, UserWarning)\n"
     ]
    },
    {
     "name": "stdout",
     "output_type": "stream",
     "text": [
      "[16:49:07] WARNING: C:/Users/Administrator/workspace/xgboost-win64_release_1.5.1/src/learner.cc:1115: Starting in XGBoost 1.3.0, the default evaluation metric used with the objective 'binary:logistic' was changed from 'error' to 'logloss'. Explicitly set eval_metric if you'd like to restore the old behavior.\n"
     ]
    },
    {
     "name": "stderr",
     "output_type": "stream",
     "text": [
      "C:\\ProgramData\\Anaconda3\\lib\\site-packages\\xgboost\\sklearn.py:1224: UserWarning: The use of label encoder in XGBClassifier is deprecated and will be removed in a future release. To remove this warning, do the following: 1) Pass option use_label_encoder=False when constructing XGBClassifier object; and 2) Encode your labels (y) as integers starting with 0, i.e. 0, 1, 2, ..., [num_class - 1].\n",
      "  warnings.warn(label_encoder_deprecation_msg, UserWarning)\n"
     ]
    },
    {
     "name": "stdout",
     "output_type": "stream",
     "text": [
      "[16:53:14] WARNING: C:/Users/Administrator/workspace/xgboost-win64_release_1.5.1/src/learner.cc:1115: Starting in XGBoost 1.3.0, the default evaluation metric used with the objective 'binary:logistic' was changed from 'error' to 'logloss'. Explicitly set eval_metric if you'd like to restore the old behavior.\n"
     ]
    },
    {
     "name": "stderr",
     "output_type": "stream",
     "text": [
      "C:\\ProgramData\\Anaconda3\\lib\\site-packages\\xgboost\\sklearn.py:1224: UserWarning: The use of label encoder in XGBClassifier is deprecated and will be removed in a future release. To remove this warning, do the following: 1) Pass option use_label_encoder=False when constructing XGBClassifier object; and 2) Encode your labels (y) as integers starting with 0, i.e. 0, 1, 2, ..., [num_class - 1].\n",
      "  warnings.warn(label_encoder_deprecation_msg, UserWarning)\n"
     ]
    },
    {
     "name": "stdout",
     "output_type": "stream",
     "text": [
      "[16:58:14] WARNING: C:/Users/Administrator/workspace/xgboost-win64_release_1.5.1/src/learner.cc:1115: Starting in XGBoost 1.3.0, the default evaluation metric used with the objective 'binary:logistic' was changed from 'error' to 'logloss'. Explicitly set eval_metric if you'd like to restore the old behavior.\n"
     ]
    },
    {
     "name": "stderr",
     "output_type": "stream",
     "text": [
      "C:\\ProgramData\\Anaconda3\\lib\\site-packages\\xgboost\\sklearn.py:1224: UserWarning: The use of label encoder in XGBClassifier is deprecated and will be removed in a future release. To remove this warning, do the following: 1) Pass option use_label_encoder=False when constructing XGBClassifier object; and 2) Encode your labels (y) as integers starting with 0, i.e. 0, 1, 2, ..., [num_class - 1].\n",
      "  warnings.warn(label_encoder_deprecation_msg, UserWarning)\n"
     ]
    },
    {
     "name": "stdout",
     "output_type": "stream",
     "text": [
      "[17:02:02] WARNING: C:/Users/Administrator/workspace/xgboost-win64_release_1.5.1/src/learner.cc:1115: Starting in XGBoost 1.3.0, the default evaluation metric used with the objective 'binary:logistic' was changed from 'error' to 'logloss'. Explicitly set eval_metric if you'd like to restore the old behavior.\n"
     ]
    },
    {
     "name": "stderr",
     "output_type": "stream",
     "text": [
      "C:\\ProgramData\\Anaconda3\\lib\\site-packages\\xgboost\\sklearn.py:1224: UserWarning: The use of label encoder in XGBClassifier is deprecated and will be removed in a future release. To remove this warning, do the following: 1) Pass option use_label_encoder=False when constructing XGBClassifier object; and 2) Encode your labels (y) as integers starting with 0, i.e. 0, 1, 2, ..., [num_class - 1].\n",
      "  warnings.warn(label_encoder_deprecation_msg, UserWarning)\n"
     ]
    },
    {
     "name": "stdout",
     "output_type": "stream",
     "text": [
      "[17:02:36] WARNING: C:/Users/Administrator/workspace/xgboost-win64_release_1.5.1/src/learner.cc:1115: Starting in XGBoost 1.3.0, the default evaluation metric used with the objective 'binary:logistic' was changed from 'error' to 'logloss'. Explicitly set eval_metric if you'd like to restore the old behavior.\n"
     ]
    },
    {
     "name": "stderr",
     "output_type": "stream",
     "text": [
      "C:\\ProgramData\\Anaconda3\\lib\\site-packages\\xgboost\\sklearn.py:1224: UserWarning: The use of label encoder in XGBClassifier is deprecated and will be removed in a future release. To remove this warning, do the following: 1) Pass option use_label_encoder=False when constructing XGBClassifier object; and 2) Encode your labels (y) as integers starting with 0, i.e. 0, 1, 2, ..., [num_class - 1].\n",
      "  warnings.warn(label_encoder_deprecation_msg, UserWarning)\n"
     ]
    },
    {
     "name": "stdout",
     "output_type": "stream",
     "text": [
      "[17:03:13] WARNING: C:/Users/Administrator/workspace/xgboost-win64_release_1.5.1/src/learner.cc:1115: Starting in XGBoost 1.3.0, the default evaluation metric used with the objective 'binary:logistic' was changed from 'error' to 'logloss'. Explicitly set eval_metric if you'd like to restore the old behavior.\n"
     ]
    },
    {
     "name": "stderr",
     "output_type": "stream",
     "text": [
      "C:\\ProgramData\\Anaconda3\\lib\\site-packages\\xgboost\\sklearn.py:1224: UserWarning: The use of label encoder in XGBClassifier is deprecated and will be removed in a future release. To remove this warning, do the following: 1) Pass option use_label_encoder=False when constructing XGBClassifier object; and 2) Encode your labels (y) as integers starting with 0, i.e. 0, 1, 2, ..., [num_class - 1].\n",
      "  warnings.warn(label_encoder_deprecation_msg, UserWarning)\n"
     ]
    },
    {
     "name": "stdout",
     "output_type": "stream",
     "text": [
      "[17:04:22] WARNING: C:/Users/Administrator/workspace/xgboost-win64_release_1.5.1/src/learner.cc:1115: Starting in XGBoost 1.3.0, the default evaluation metric used with the objective 'binary:logistic' was changed from 'error' to 'logloss'. Explicitly set eval_metric if you'd like to restore the old behavior.\n"
     ]
    },
    {
     "name": "stderr",
     "output_type": "stream",
     "text": [
      "C:\\ProgramData\\Anaconda3\\lib\\site-packages\\xgboost\\sklearn.py:1224: UserWarning: The use of label encoder in XGBClassifier is deprecated and will be removed in a future release. To remove this warning, do the following: 1) Pass option use_label_encoder=False when constructing XGBClassifier object; and 2) Encode your labels (y) as integers starting with 0, i.e. 0, 1, 2, ..., [num_class - 1].\n",
      "  warnings.warn(label_encoder_deprecation_msg, UserWarning)\n"
     ]
    },
    {
     "name": "stdout",
     "output_type": "stream",
     "text": [
      "[17:07:44] WARNING: C:/Users/Administrator/workspace/xgboost-win64_release_1.5.1/src/learner.cc:1115: Starting in XGBoost 1.3.0, the default evaluation metric used with the objective 'binary:logistic' was changed from 'error' to 'logloss'. Explicitly set eval_metric if you'd like to restore the old behavior.\n"
     ]
    },
    {
     "name": "stderr",
     "output_type": "stream",
     "text": [
      "C:\\ProgramData\\Anaconda3\\lib\\site-packages\\xgboost\\sklearn.py:1224: UserWarning: The use of label encoder in XGBClassifier is deprecated and will be removed in a future release. To remove this warning, do the following: 1) Pass option use_label_encoder=False when constructing XGBClassifier object; and 2) Encode your labels (y) as integers starting with 0, i.e. 0, 1, 2, ..., [num_class - 1].\n",
      "  warnings.warn(label_encoder_deprecation_msg, UserWarning)\n"
     ]
    },
    {
     "name": "stdout",
     "output_type": "stream",
     "text": [
      "[17:09:51] WARNING: C:/Users/Administrator/workspace/xgboost-win64_release_1.5.1/src/learner.cc:1115: Starting in XGBoost 1.3.0, the default evaluation metric used with the objective 'binary:logistic' was changed from 'error' to 'logloss'. Explicitly set eval_metric if you'd like to restore the old behavior.\n"
     ]
    },
    {
     "name": "stderr",
     "output_type": "stream",
     "text": [
      "C:\\ProgramData\\Anaconda3\\lib\\site-packages\\xgboost\\sklearn.py:1224: UserWarning: The use of label encoder in XGBClassifier is deprecated and will be removed in a future release. To remove this warning, do the following: 1) Pass option use_label_encoder=False when constructing XGBClassifier object; and 2) Encode your labels (y) as integers starting with 0, i.e. 0, 1, 2, ..., [num_class - 1].\n",
      "  warnings.warn(label_encoder_deprecation_msg, UserWarning)\n"
     ]
    },
    {
     "name": "stdout",
     "output_type": "stream",
     "text": [
      "[17:11:43] WARNING: C:/Users/Administrator/workspace/xgboost-win64_release_1.5.1/src/learner.cc:1115: Starting in XGBoost 1.3.0, the default evaluation metric used with the objective 'binary:logistic' was changed from 'error' to 'logloss'. Explicitly set eval_metric if you'd like to restore the old behavior.\n"
     ]
    },
    {
     "name": "stderr",
     "output_type": "stream",
     "text": [
      "C:\\ProgramData\\Anaconda3\\lib\\site-packages\\xgboost\\sklearn.py:1224: UserWarning: The use of label encoder in XGBClassifier is deprecated and will be removed in a future release. To remove this warning, do the following: 1) Pass option use_label_encoder=False when constructing XGBClassifier object; and 2) Encode your labels (y) as integers starting with 0, i.e. 0, 1, 2, ..., [num_class - 1].\n",
      "  warnings.warn(label_encoder_deprecation_msg, UserWarning)\n"
     ]
    },
    {
     "name": "stdout",
     "output_type": "stream",
     "text": [
      "[17:14:45] WARNING: C:/Users/Administrator/workspace/xgboost-win64_release_1.5.1/src/learner.cc:1115: Starting in XGBoost 1.3.0, the default evaluation metric used with the objective 'binary:logistic' was changed from 'error' to 'logloss'. Explicitly set eval_metric if you'd like to restore the old behavior.\n"
     ]
    },
    {
     "name": "stderr",
     "output_type": "stream",
     "text": [
      "C:\\ProgramData\\Anaconda3\\lib\\site-packages\\xgboost\\sklearn.py:1224: UserWarning: The use of label encoder in XGBClassifier is deprecated and will be removed in a future release. To remove this warning, do the following: 1) Pass option use_label_encoder=False when constructing XGBClassifier object; and 2) Encode your labels (y) as integers starting with 0, i.e. 0, 1, 2, ..., [num_class - 1].\n",
      "  warnings.warn(label_encoder_deprecation_msg, UserWarning)\n"
     ]
    },
    {
     "name": "stdout",
     "output_type": "stream",
     "text": [
      "[17:17:39] WARNING: C:/Users/Administrator/workspace/xgboost-win64_release_1.5.1/src/learner.cc:1115: Starting in XGBoost 1.3.0, the default evaluation metric used with the objective 'binary:logistic' was changed from 'error' to 'logloss'. Explicitly set eval_metric if you'd like to restore the old behavior.\n"
     ]
    },
    {
     "name": "stderr",
     "output_type": "stream",
     "text": [
      "C:\\ProgramData\\Anaconda3\\lib\\site-packages\\xgboost\\sklearn.py:1224: UserWarning: The use of label encoder in XGBClassifier is deprecated and will be removed in a future release. To remove this warning, do the following: 1) Pass option use_label_encoder=False when constructing XGBClassifier object; and 2) Encode your labels (y) as integers starting with 0, i.e. 0, 1, 2, ..., [num_class - 1].\n",
      "  warnings.warn(label_encoder_deprecation_msg, UserWarning)\n"
     ]
    },
    {
     "name": "stdout",
     "output_type": "stream",
     "text": [
      "[17:20:16] WARNING: C:/Users/Administrator/workspace/xgboost-win64_release_1.5.1/src/learner.cc:1115: Starting in XGBoost 1.3.0, the default evaluation metric used with the objective 'binary:logistic' was changed from 'error' to 'logloss'. Explicitly set eval_metric if you'd like to restore the old behavior.\n"
     ]
    },
    {
     "name": "stderr",
     "output_type": "stream",
     "text": [
      "C:\\ProgramData\\Anaconda3\\lib\\site-packages\\xgboost\\sklearn.py:1224: UserWarning: The use of label encoder in XGBClassifier is deprecated and will be removed in a future release. To remove this warning, do the following: 1) Pass option use_label_encoder=False when constructing XGBClassifier object; and 2) Encode your labels (y) as integers starting with 0, i.e. 0, 1, 2, ..., [num_class - 1].\n",
      "  warnings.warn(label_encoder_deprecation_msg, UserWarning)\n"
     ]
    },
    {
     "name": "stdout",
     "output_type": "stream",
     "text": [
      "[17:23:23] WARNING: C:/Users/Administrator/workspace/xgboost-win64_release_1.5.1/src/learner.cc:1115: Starting in XGBoost 1.3.0, the default evaluation metric used with the objective 'binary:logistic' was changed from 'error' to 'logloss'. Explicitly set eval_metric if you'd like to restore the old behavior.\n"
     ]
    },
    {
     "name": "stderr",
     "output_type": "stream",
     "text": [
      "C:\\ProgramData\\Anaconda3\\lib\\site-packages\\xgboost\\sklearn.py:1224: UserWarning: The use of label encoder in XGBClassifier is deprecated and will be removed in a future release. To remove this warning, do the following: 1) Pass option use_label_encoder=False when constructing XGBClassifier object; and 2) Encode your labels (y) as integers starting with 0, i.e. 0, 1, 2, ..., [num_class - 1].\n",
      "  warnings.warn(label_encoder_deprecation_msg, UserWarning)\n"
     ]
    },
    {
     "name": "stdout",
     "output_type": "stream",
     "text": [
      "[17:26:32] WARNING: C:/Users/Administrator/workspace/xgboost-win64_release_1.5.1/src/learner.cc:1115: Starting in XGBoost 1.3.0, the default evaluation metric used with the objective 'binary:logistic' was changed from 'error' to 'logloss'. Explicitly set eval_metric if you'd like to restore the old behavior.\n"
     ]
    },
    {
     "name": "stderr",
     "output_type": "stream",
     "text": [
      "C:\\ProgramData\\Anaconda3\\lib\\site-packages\\xgboost\\sklearn.py:1224: UserWarning: The use of label encoder in XGBClassifier is deprecated and will be removed in a future release. To remove this warning, do the following: 1) Pass option use_label_encoder=False when constructing XGBClassifier object; and 2) Encode your labels (y) as integers starting with 0, i.e. 0, 1, 2, ..., [num_class - 1].\n",
      "  warnings.warn(label_encoder_deprecation_msg, UserWarning)\n"
     ]
    },
    {
     "name": "stdout",
     "output_type": "stream",
     "text": [
      "[17:29:42] WARNING: C:/Users/Administrator/workspace/xgboost-win64_release_1.5.1/src/learner.cc:1115: Starting in XGBoost 1.3.0, the default evaluation metric used with the objective 'binary:logistic' was changed from 'error' to 'logloss'. Explicitly set eval_metric if you'd like to restore the old behavior.\n"
     ]
    },
    {
     "name": "stderr",
     "output_type": "stream",
     "text": [
      "C:\\ProgramData\\Anaconda3\\lib\\site-packages\\xgboost\\sklearn.py:1224: UserWarning: The use of label encoder in XGBClassifier is deprecated and will be removed in a future release. To remove this warning, do the following: 1) Pass option use_label_encoder=False when constructing XGBClassifier object; and 2) Encode your labels (y) as integers starting with 0, i.e. 0, 1, 2, ..., [num_class - 1].\n",
      "  warnings.warn(label_encoder_deprecation_msg, UserWarning)\n"
     ]
    },
    {
     "name": "stdout",
     "output_type": "stream",
     "text": [
      "[17:33:01] WARNING: C:/Users/Administrator/workspace/xgboost-win64_release_1.5.1/src/learner.cc:1115: Starting in XGBoost 1.3.0, the default evaluation metric used with the objective 'binary:logistic' was changed from 'error' to 'logloss'. Explicitly set eval_metric if you'd like to restore the old behavior.\n"
     ]
    },
    {
     "name": "stderr",
     "output_type": "stream",
     "text": [
      "C:\\ProgramData\\Anaconda3\\lib\\site-packages\\xgboost\\sklearn.py:1224: UserWarning: The use of label encoder in XGBClassifier is deprecated and will be removed in a future release. To remove this warning, do the following: 1) Pass option use_label_encoder=False when constructing XGBClassifier object; and 2) Encode your labels (y) as integers starting with 0, i.e. 0, 1, 2, ..., [num_class - 1].\n",
      "  warnings.warn(label_encoder_deprecation_msg, UserWarning)\n"
     ]
    },
    {
     "name": "stdout",
     "output_type": "stream",
     "text": [
      "[10:23:39] WARNING: C:/Users/Administrator/workspace/xgboost-win64_release_1.5.1/src/learner.cc:1115: Starting in XGBoost 1.3.0, the default evaluation metric used with the objective 'binary:logistic' was changed from 'error' to 'logloss'. Explicitly set eval_metric if you'd like to restore the old behavior.\n"
     ]
    },
    {
     "name": "stderr",
     "output_type": "stream",
     "text": [
      "C:\\ProgramData\\Anaconda3\\lib\\site-packages\\xgboost\\sklearn.py:1224: UserWarning: The use of label encoder in XGBClassifier is deprecated and will be removed in a future release. To remove this warning, do the following: 1) Pass option use_label_encoder=False when constructing XGBClassifier object; and 2) Encode your labels (y) as integers starting with 0, i.e. 0, 1, 2, ..., [num_class - 1].\n",
      "  warnings.warn(label_encoder_deprecation_msg, UserWarning)\n"
     ]
    },
    {
     "name": "stdout",
     "output_type": "stream",
     "text": [
      "[10:28:39] WARNING: C:/Users/Administrator/workspace/xgboost-win64_release_1.5.1/src/learner.cc:1115: Starting in XGBoost 1.3.0, the default evaluation metric used with the objective 'binary:logistic' was changed from 'error' to 'logloss'. Explicitly set eval_metric if you'd like to restore the old behavior.\n"
     ]
    },
    {
     "name": "stderr",
     "output_type": "stream",
     "text": [
      "C:\\ProgramData\\Anaconda3\\lib\\site-packages\\xgboost\\sklearn.py:1224: UserWarning: The use of label encoder in XGBClassifier is deprecated and will be removed in a future release. To remove this warning, do the following: 1) Pass option use_label_encoder=False when constructing XGBClassifier object; and 2) Encode your labels (y) as integers starting with 0, i.e. 0, 1, 2, ..., [num_class - 1].\n",
      "  warnings.warn(label_encoder_deprecation_msg, UserWarning)\n"
     ]
    },
    {
     "name": "stdout",
     "output_type": "stream",
     "text": [
      "[10:29:22] WARNING: C:/Users/Administrator/workspace/xgboost-win64_release_1.5.1/src/learner.cc:1115: Starting in XGBoost 1.3.0, the default evaluation metric used with the objective 'binary:logistic' was changed from 'error' to 'logloss'. Explicitly set eval_metric if you'd like to restore the old behavior.\n"
     ]
    },
    {
     "name": "stderr",
     "output_type": "stream",
     "text": [
      "C:\\ProgramData\\Anaconda3\\lib\\site-packages\\xgboost\\sklearn.py:1224: UserWarning: The use of label encoder in XGBClassifier is deprecated and will be removed in a future release. To remove this warning, do the following: 1) Pass option use_label_encoder=False when constructing XGBClassifier object; and 2) Encode your labels (y) as integers starting with 0, i.e. 0, 1, 2, ..., [num_class - 1].\n",
      "  warnings.warn(label_encoder_deprecation_msg, UserWarning)\n"
     ]
    },
    {
     "name": "stdout",
     "output_type": "stream",
     "text": [
      "[10:30:06] WARNING: C:/Users/Administrator/workspace/xgboost-win64_release_1.5.1/src/learner.cc:1115: Starting in XGBoost 1.3.0, the default evaluation metric used with the objective 'binary:logistic' was changed from 'error' to 'logloss'. Explicitly set eval_metric if you'd like to restore the old behavior.\n"
     ]
    },
    {
     "name": "stderr",
     "output_type": "stream",
     "text": [
      "C:\\ProgramData\\Anaconda3\\lib\\site-packages\\xgboost\\sklearn.py:1224: UserWarning: The use of label encoder in XGBClassifier is deprecated and will be removed in a future release. To remove this warning, do the following: 1) Pass option use_label_encoder=False when constructing XGBClassifier object; and 2) Encode your labels (y) as integers starting with 0, i.e. 0, 1, 2, ..., [num_class - 1].\n",
      "  warnings.warn(label_encoder_deprecation_msg, UserWarning)\n"
     ]
    },
    {
     "name": "stdout",
     "output_type": "stream",
     "text": [
      "[10:30:47] WARNING: C:/Users/Administrator/workspace/xgboost-win64_release_1.5.1/src/learner.cc:1115: Starting in XGBoost 1.3.0, the default evaluation metric used with the objective 'binary:logistic' was changed from 'error' to 'logloss'. Explicitly set eval_metric if you'd like to restore the old behavior.\n"
     ]
    },
    {
     "name": "stderr",
     "output_type": "stream",
     "text": [
      "C:\\ProgramData\\Anaconda3\\lib\\site-packages\\xgboost\\sklearn.py:1224: UserWarning: The use of label encoder in XGBClassifier is deprecated and will be removed in a future release. To remove this warning, do the following: 1) Pass option use_label_encoder=False when constructing XGBClassifier object; and 2) Encode your labels (y) as integers starting with 0, i.e. 0, 1, 2, ..., [num_class - 1].\n",
      "  warnings.warn(label_encoder_deprecation_msg, UserWarning)\n"
     ]
    },
    {
     "name": "stdout",
     "output_type": "stream",
     "text": [
      "[10:32:52] WARNING: C:/Users/Administrator/workspace/xgboost-win64_release_1.5.1/src/learner.cc:1115: Starting in XGBoost 1.3.0, the default evaluation metric used with the objective 'binary:logistic' was changed from 'error' to 'logloss'. Explicitly set eval_metric if you'd like to restore the old behavior.\n"
     ]
    },
    {
     "name": "stderr",
     "output_type": "stream",
     "text": [
      "C:\\ProgramData\\Anaconda3\\lib\\site-packages\\xgboost\\sklearn.py:1224: UserWarning: The use of label encoder in XGBClassifier is deprecated and will be removed in a future release. To remove this warning, do the following: 1) Pass option use_label_encoder=False when constructing XGBClassifier object; and 2) Encode your labels (y) as integers starting with 0, i.e. 0, 1, 2, ..., [num_class - 1].\n",
      "  warnings.warn(label_encoder_deprecation_msg, UserWarning)\n"
     ]
    },
    {
     "name": "stdout",
     "output_type": "stream",
     "text": [
      "[10:34:51] WARNING: C:/Users/Administrator/workspace/xgboost-win64_release_1.5.1/src/learner.cc:1115: Starting in XGBoost 1.3.0, the default evaluation metric used with the objective 'binary:logistic' was changed from 'error' to 'logloss'. Explicitly set eval_metric if you'd like to restore the old behavior.\n"
     ]
    },
    {
     "name": "stderr",
     "output_type": "stream",
     "text": [
      "C:\\ProgramData\\Anaconda3\\lib\\site-packages\\xgboost\\sklearn.py:1224: UserWarning: The use of label encoder in XGBClassifier is deprecated and will be removed in a future release. To remove this warning, do the following: 1) Pass option use_label_encoder=False when constructing XGBClassifier object; and 2) Encode your labels (y) as integers starting with 0, i.e. 0, 1, 2, ..., [num_class - 1].\n",
      "  warnings.warn(label_encoder_deprecation_msg, UserWarning)\n"
     ]
    },
    {
     "name": "stdout",
     "output_type": "stream",
     "text": [
      "[10:36:50] WARNING: C:/Users/Administrator/workspace/xgboost-win64_release_1.5.1/src/learner.cc:1115: Starting in XGBoost 1.3.0, the default evaluation metric used with the objective 'binary:logistic' was changed from 'error' to 'logloss'. Explicitly set eval_metric if you'd like to restore the old behavior.\n"
     ]
    },
    {
     "name": "stderr",
     "output_type": "stream",
     "text": [
      "C:\\ProgramData\\Anaconda3\\lib\\site-packages\\xgboost\\sklearn.py:1224: UserWarning: The use of label encoder in XGBClassifier is deprecated and will be removed in a future release. To remove this warning, do the following: 1) Pass option use_label_encoder=False when constructing XGBClassifier object; and 2) Encode your labels (y) as integers starting with 0, i.e. 0, 1, 2, ..., [num_class - 1].\n",
      "  warnings.warn(label_encoder_deprecation_msg, UserWarning)\n"
     ]
    },
    {
     "name": "stdout",
     "output_type": "stream",
     "text": [
      "[10:40:17] WARNING: C:/Users/Administrator/workspace/xgboost-win64_release_1.5.1/src/learner.cc:1115: Starting in XGBoost 1.3.0, the default evaluation metric used with the objective 'binary:logistic' was changed from 'error' to 'logloss'. Explicitly set eval_metric if you'd like to restore the old behavior.\n"
     ]
    },
    {
     "name": "stderr",
     "output_type": "stream",
     "text": [
      "C:\\ProgramData\\Anaconda3\\lib\\site-packages\\xgboost\\sklearn.py:1224: UserWarning: The use of label encoder in XGBClassifier is deprecated and will be removed in a future release. To remove this warning, do the following: 1) Pass option use_label_encoder=False when constructing XGBClassifier object; and 2) Encode your labels (y) as integers starting with 0, i.e. 0, 1, 2, ..., [num_class - 1].\n",
      "  warnings.warn(label_encoder_deprecation_msg, UserWarning)\n"
     ]
    },
    {
     "name": "stdout",
     "output_type": "stream",
     "text": [
      "[10:43:40] WARNING: C:/Users/Administrator/workspace/xgboost-win64_release_1.5.1/src/learner.cc:1115: Starting in XGBoost 1.3.0, the default evaluation metric used with the objective 'binary:logistic' was changed from 'error' to 'logloss'. Explicitly set eval_metric if you'd like to restore the old behavior.\n"
     ]
    },
    {
     "name": "stderr",
     "output_type": "stream",
     "text": [
      "C:\\ProgramData\\Anaconda3\\lib\\site-packages\\xgboost\\sklearn.py:1224: UserWarning: The use of label encoder in XGBClassifier is deprecated and will be removed in a future release. To remove this warning, do the following: 1) Pass option use_label_encoder=False when constructing XGBClassifier object; and 2) Encode your labels (y) as integers starting with 0, i.e. 0, 1, 2, ..., [num_class - 1].\n",
      "  warnings.warn(label_encoder_deprecation_msg, UserWarning)\n"
     ]
    },
    {
     "name": "stdout",
     "output_type": "stream",
     "text": [
      "[10:47:04] WARNING: C:/Users/Administrator/workspace/xgboost-win64_release_1.5.1/src/learner.cc:1115: Starting in XGBoost 1.3.0, the default evaluation metric used with the objective 'binary:logistic' was changed from 'error' to 'logloss'. Explicitly set eval_metric if you'd like to restore the old behavior.\n"
     ]
    },
    {
     "name": "stderr",
     "output_type": "stream",
     "text": [
      "C:\\ProgramData\\Anaconda3\\lib\\site-packages\\xgboost\\sklearn.py:1224: UserWarning: The use of label encoder in XGBClassifier is deprecated and will be removed in a future release. To remove this warning, do the following: 1) Pass option use_label_encoder=False when constructing XGBClassifier object; and 2) Encode your labels (y) as integers starting with 0, i.e. 0, 1, 2, ..., [num_class - 1].\n",
      "  warnings.warn(label_encoder_deprecation_msg, UserWarning)\n"
     ]
    },
    {
     "name": "stdout",
     "output_type": "stream",
     "text": [
      "[10:50:34] WARNING: C:/Users/Administrator/workspace/xgboost-win64_release_1.5.1/src/learner.cc:1115: Starting in XGBoost 1.3.0, the default evaluation metric used with the objective 'binary:logistic' was changed from 'error' to 'logloss'. Explicitly set eval_metric if you'd like to restore the old behavior.\n"
     ]
    },
    {
     "name": "stderr",
     "output_type": "stream",
     "text": [
      "C:\\ProgramData\\Anaconda3\\lib\\site-packages\\xgboost\\sklearn.py:1224: UserWarning: The use of label encoder in XGBClassifier is deprecated and will be removed in a future release. To remove this warning, do the following: 1) Pass option use_label_encoder=False when constructing XGBClassifier object; and 2) Encode your labels (y) as integers starting with 0, i.e. 0, 1, 2, ..., [num_class - 1].\n",
      "  warnings.warn(label_encoder_deprecation_msg, UserWarning)\n"
     ]
    },
    {
     "name": "stdout",
     "output_type": "stream",
     "text": [
      "[10:54:26] WARNING: C:/Users/Administrator/workspace/xgboost-win64_release_1.5.1/src/learner.cc:1115: Starting in XGBoost 1.3.0, the default evaluation metric used with the objective 'binary:logistic' was changed from 'error' to 'logloss'. Explicitly set eval_metric if you'd like to restore the old behavior.\n"
     ]
    },
    {
     "name": "stderr",
     "output_type": "stream",
     "text": [
      "C:\\ProgramData\\Anaconda3\\lib\\site-packages\\xgboost\\sklearn.py:1224: UserWarning: The use of label encoder in XGBClassifier is deprecated and will be removed in a future release. To remove this warning, do the following: 1) Pass option use_label_encoder=False when constructing XGBClassifier object; and 2) Encode your labels (y) as integers starting with 0, i.e. 0, 1, 2, ..., [num_class - 1].\n",
      "  warnings.warn(label_encoder_deprecation_msg, UserWarning)\n"
     ]
    },
    {
     "name": "stdout",
     "output_type": "stream",
     "text": [
      "[10:58:01] WARNING: C:/Users/Administrator/workspace/xgboost-win64_release_1.5.1/src/learner.cc:1115: Starting in XGBoost 1.3.0, the default evaluation metric used with the objective 'binary:logistic' was changed from 'error' to 'logloss'. Explicitly set eval_metric if you'd like to restore the old behavior.\n"
     ]
    },
    {
     "name": "stderr",
     "output_type": "stream",
     "text": [
      "C:\\ProgramData\\Anaconda3\\lib\\site-packages\\xgboost\\sklearn.py:1224: UserWarning: The use of label encoder in XGBClassifier is deprecated and will be removed in a future release. To remove this warning, do the following: 1) Pass option use_label_encoder=False when constructing XGBClassifier object; and 2) Encode your labels (y) as integers starting with 0, i.e. 0, 1, 2, ..., [num_class - 1].\n",
      "  warnings.warn(label_encoder_deprecation_msg, UserWarning)\n"
     ]
    },
    {
     "name": "stdout",
     "output_type": "stream",
     "text": [
      "[11:01:28] WARNING: C:/Users/Administrator/workspace/xgboost-win64_release_1.5.1/src/learner.cc:1115: Starting in XGBoost 1.3.0, the default evaluation metric used with the objective 'binary:logistic' was changed from 'error' to 'logloss'. Explicitly set eval_metric if you'd like to restore the old behavior.\n"
     ]
    },
    {
     "name": "stderr",
     "output_type": "stream",
     "text": [
      "C:\\ProgramData\\Anaconda3\\lib\\site-packages\\xgboost\\sklearn.py:1224: UserWarning: The use of label encoder in XGBClassifier is deprecated and will be removed in a future release. To remove this warning, do the following: 1) Pass option use_label_encoder=False when constructing XGBClassifier object; and 2) Encode your labels (y) as integers starting with 0, i.e. 0, 1, 2, ..., [num_class - 1].\n",
      "  warnings.warn(label_encoder_deprecation_msg, UserWarning)\n"
     ]
    },
    {
     "name": "stdout",
     "output_type": "stream",
     "text": [
      "[11:05:00] WARNING: C:/Users/Administrator/workspace/xgboost-win64_release_1.5.1/src/learner.cc:1115: Starting in XGBoost 1.3.0, the default evaluation metric used with the objective 'binary:logistic' was changed from 'error' to 'logloss'. Explicitly set eval_metric if you'd like to restore the old behavior.\n"
     ]
    },
    {
     "name": "stderr",
     "output_type": "stream",
     "text": [
      "C:\\ProgramData\\Anaconda3\\lib\\site-packages\\xgboost\\sklearn.py:1224: UserWarning: The use of label encoder in XGBClassifier is deprecated and will be removed in a future release. To remove this warning, do the following: 1) Pass option use_label_encoder=False when constructing XGBClassifier object; and 2) Encode your labels (y) as integers starting with 0, i.e. 0, 1, 2, ..., [num_class - 1].\n",
      "  warnings.warn(label_encoder_deprecation_msg, UserWarning)\n"
     ]
    },
    {
     "name": "stdout",
     "output_type": "stream",
     "text": [
      "[11:08:27] WARNING: C:/Users/Administrator/workspace/xgboost-win64_release_1.5.1/src/learner.cc:1115: Starting in XGBoost 1.3.0, the default evaluation metric used with the objective 'binary:logistic' was changed from 'error' to 'logloss'. Explicitly set eval_metric if you'd like to restore the old behavior.\n"
     ]
    },
    {
     "name": "stderr",
     "output_type": "stream",
     "text": [
      "C:\\ProgramData\\Anaconda3\\lib\\site-packages\\xgboost\\sklearn.py:1224: UserWarning: The use of label encoder in XGBClassifier is deprecated and will be removed in a future release. To remove this warning, do the following: 1) Pass option use_label_encoder=False when constructing XGBClassifier object; and 2) Encode your labels (y) as integers starting with 0, i.e. 0, 1, 2, ..., [num_class - 1].\n",
      "  warnings.warn(label_encoder_deprecation_msg, UserWarning)\n"
     ]
    },
    {
     "name": "stdout",
     "output_type": "stream",
     "text": [
      "[11:09:10] WARNING: C:/Users/Administrator/workspace/xgboost-win64_release_1.5.1/src/learner.cc:1115: Starting in XGBoost 1.3.0, the default evaluation metric used with the objective 'binary:logistic' was changed from 'error' to 'logloss'. Explicitly set eval_metric if you'd like to restore the old behavior.\n"
     ]
    },
    {
     "name": "stderr",
     "output_type": "stream",
     "text": [
      "C:\\ProgramData\\Anaconda3\\lib\\site-packages\\xgboost\\sklearn.py:1224: UserWarning: The use of label encoder in XGBClassifier is deprecated and will be removed in a future release. To remove this warning, do the following: 1) Pass option use_label_encoder=False when constructing XGBClassifier object; and 2) Encode your labels (y) as integers starting with 0, i.e. 0, 1, 2, ..., [num_class - 1].\n",
      "  warnings.warn(label_encoder_deprecation_msg, UserWarning)\n"
     ]
    },
    {
     "name": "stdout",
     "output_type": "stream",
     "text": [
      "[11:09:51] WARNING: C:/Users/Administrator/workspace/xgboost-win64_release_1.5.1/src/learner.cc:1115: Starting in XGBoost 1.3.0, the default evaluation metric used with the objective 'binary:logistic' was changed from 'error' to 'logloss'. Explicitly set eval_metric if you'd like to restore the old behavior.\n"
     ]
    },
    {
     "name": "stderr",
     "output_type": "stream",
     "text": [
      "C:\\ProgramData\\Anaconda3\\lib\\site-packages\\xgboost\\sklearn.py:1224: UserWarning: The use of label encoder in XGBClassifier is deprecated and will be removed in a future release. To remove this warning, do the following: 1) Pass option use_label_encoder=False when constructing XGBClassifier object; and 2) Encode your labels (y) as integers starting with 0, i.e. 0, 1, 2, ..., [num_class - 1].\n",
      "  warnings.warn(label_encoder_deprecation_msg, UserWarning)\n"
     ]
    },
    {
     "name": "stdout",
     "output_type": "stream",
     "text": [
      "[11:10:25] WARNING: C:/Users/Administrator/workspace/xgboost-win64_release_1.5.1/src/learner.cc:1115: Starting in XGBoost 1.3.0, the default evaluation metric used with the objective 'binary:logistic' was changed from 'error' to 'logloss'. Explicitly set eval_metric if you'd like to restore the old behavior.\n"
     ]
    },
    {
     "name": "stderr",
     "output_type": "stream",
     "text": [
      "C:\\ProgramData\\Anaconda3\\lib\\site-packages\\xgboost\\sklearn.py:1224: UserWarning: The use of label encoder in XGBClassifier is deprecated and will be removed in a future release. To remove this warning, do the following: 1) Pass option use_label_encoder=False when constructing XGBClassifier object; and 2) Encode your labels (y) as integers starting with 0, i.e. 0, 1, 2, ..., [num_class - 1].\n",
      "  warnings.warn(label_encoder_deprecation_msg, UserWarning)\n"
     ]
    },
    {
     "name": "stdout",
     "output_type": "stream",
     "text": [
      "[11:12:25] WARNING: C:/Users/Administrator/workspace/xgboost-win64_release_1.5.1/src/learner.cc:1115: Starting in XGBoost 1.3.0, the default evaluation metric used with the objective 'binary:logistic' was changed from 'error' to 'logloss'. Explicitly set eval_metric if you'd like to restore the old behavior.\n"
     ]
    },
    {
     "name": "stderr",
     "output_type": "stream",
     "text": [
      "C:\\ProgramData\\Anaconda3\\lib\\site-packages\\xgboost\\sklearn.py:1224: UserWarning: The use of label encoder in XGBClassifier is deprecated and will be removed in a future release. To remove this warning, do the following: 1) Pass option use_label_encoder=False when constructing XGBClassifier object; and 2) Encode your labels (y) as integers starting with 0, i.e. 0, 1, 2, ..., [num_class - 1].\n",
      "  warnings.warn(label_encoder_deprecation_msg, UserWarning)\n"
     ]
    },
    {
     "name": "stdout",
     "output_type": "stream",
     "text": [
      "[11:14:27] WARNING: C:/Users/Administrator/workspace/xgboost-win64_release_1.5.1/src/learner.cc:1115: Starting in XGBoost 1.3.0, the default evaluation metric used with the objective 'binary:logistic' was changed from 'error' to 'logloss'. Explicitly set eval_metric if you'd like to restore the old behavior.\n"
     ]
    },
    {
     "name": "stderr",
     "output_type": "stream",
     "text": [
      "C:\\ProgramData\\Anaconda3\\lib\\site-packages\\xgboost\\sklearn.py:1224: UserWarning: The use of label encoder in XGBClassifier is deprecated and will be removed in a future release. To remove this warning, do the following: 1) Pass option use_label_encoder=False when constructing XGBClassifier object; and 2) Encode your labels (y) as integers starting with 0, i.e. 0, 1, 2, ..., [num_class - 1].\n",
      "  warnings.warn(label_encoder_deprecation_msg, UserWarning)\n"
     ]
    },
    {
     "name": "stdout",
     "output_type": "stream",
     "text": [
      "[11:16:29] WARNING: C:/Users/Administrator/workspace/xgboost-win64_release_1.5.1/src/learner.cc:1115: Starting in XGBoost 1.3.0, the default evaluation metric used with the objective 'binary:logistic' was changed from 'error' to 'logloss'. Explicitly set eval_metric if you'd like to restore the old behavior.\n"
     ]
    },
    {
     "name": "stderr",
     "output_type": "stream",
     "text": [
      "C:\\ProgramData\\Anaconda3\\lib\\site-packages\\xgboost\\sklearn.py:1224: UserWarning: The use of label encoder in XGBClassifier is deprecated and will be removed in a future release. To remove this warning, do the following: 1) Pass option use_label_encoder=False when constructing XGBClassifier object; and 2) Encode your labels (y) as integers starting with 0, i.e. 0, 1, 2, ..., [num_class - 1].\n",
      "  warnings.warn(label_encoder_deprecation_msg, UserWarning)\n"
     ]
    },
    {
     "name": "stdout",
     "output_type": "stream",
     "text": [
      "[11:19:27] WARNING: C:/Users/Administrator/workspace/xgboost-win64_release_1.5.1/src/learner.cc:1115: Starting in XGBoost 1.3.0, the default evaluation metric used with the objective 'binary:logistic' was changed from 'error' to 'logloss'. Explicitly set eval_metric if you'd like to restore the old behavior.\n"
     ]
    },
    {
     "name": "stderr",
     "output_type": "stream",
     "text": [
      "C:\\ProgramData\\Anaconda3\\lib\\site-packages\\xgboost\\sklearn.py:1224: UserWarning: The use of label encoder in XGBClassifier is deprecated and will be removed in a future release. To remove this warning, do the following: 1) Pass option use_label_encoder=False when constructing XGBClassifier object; and 2) Encode your labels (y) as integers starting with 0, i.e. 0, 1, 2, ..., [num_class - 1].\n",
      "  warnings.warn(label_encoder_deprecation_msg, UserWarning)\n"
     ]
    },
    {
     "name": "stdout",
     "output_type": "stream",
     "text": [
      "[11:22:16] WARNING: C:/Users/Administrator/workspace/xgboost-win64_release_1.5.1/src/learner.cc:1115: Starting in XGBoost 1.3.0, the default evaluation metric used with the objective 'binary:logistic' was changed from 'error' to 'logloss'. Explicitly set eval_metric if you'd like to restore the old behavior.\n"
     ]
    },
    {
     "name": "stderr",
     "output_type": "stream",
     "text": [
      "C:\\ProgramData\\Anaconda3\\lib\\site-packages\\xgboost\\sklearn.py:1224: UserWarning: The use of label encoder in XGBClassifier is deprecated and will be removed in a future release. To remove this warning, do the following: 1) Pass option use_label_encoder=False when constructing XGBClassifier object; and 2) Encode your labels (y) as integers starting with 0, i.e. 0, 1, 2, ..., [num_class - 1].\n",
      "  warnings.warn(label_encoder_deprecation_msg, UserWarning)\n"
     ]
    },
    {
     "name": "stdout",
     "output_type": "stream",
     "text": [
      "[11:25:08] WARNING: C:/Users/Administrator/workspace/xgboost-win64_release_1.5.1/src/learner.cc:1115: Starting in XGBoost 1.3.0, the default evaluation metric used with the objective 'binary:logistic' was changed from 'error' to 'logloss'. Explicitly set eval_metric if you'd like to restore the old behavior.\n"
     ]
    },
    {
     "name": "stderr",
     "output_type": "stream",
     "text": [
      "C:\\ProgramData\\Anaconda3\\lib\\site-packages\\xgboost\\sklearn.py:1224: UserWarning: The use of label encoder in XGBClassifier is deprecated and will be removed in a future release. To remove this warning, do the following: 1) Pass option use_label_encoder=False when constructing XGBClassifier object; and 2) Encode your labels (y) as integers starting with 0, i.e. 0, 1, 2, ..., [num_class - 1].\n",
      "  warnings.warn(label_encoder_deprecation_msg, UserWarning)\n"
     ]
    },
    {
     "name": "stdout",
     "output_type": "stream",
     "text": [
      "[11:28:27] WARNING: C:/Users/Administrator/workspace/xgboost-win64_release_1.5.1/src/learner.cc:1115: Starting in XGBoost 1.3.0, the default evaluation metric used with the objective 'binary:logistic' was changed from 'error' to 'logloss'. Explicitly set eval_metric if you'd like to restore the old behavior.\n"
     ]
    },
    {
     "ename": "KeyboardInterrupt",
     "evalue": "",
     "output_type": "error",
     "traceback": [
      "\u001b[1;31m---------------------------------------------------------------------------\u001b[0m",
      "\u001b[1;31mKeyboardInterrupt\u001b[0m                         Traceback (most recent call last)",
      "\u001b[1;32m~\\AppData\\Local\\Temp/ipykernel_10120/842046791.py\u001b[0m in \u001b[0;36m<module>\u001b[1;34m\u001b[0m\n\u001b[0;32m      4\u001b[0m \u001b[0mxgb_model\u001b[0m \u001b[1;33m=\u001b[0m \u001b[0mXGBClassifier\u001b[0m\u001b[1;33m(\u001b[0m\u001b[1;33m)\u001b[0m\u001b[1;33m\u001b[0m\u001b[1;33m\u001b[0m\u001b[0m\n\u001b[0;32m      5\u001b[0m \u001b[0mxgb_grid\u001b[0m \u001b[1;33m=\u001b[0m \u001b[0mGridSearchCV\u001b[0m\u001b[1;33m(\u001b[0m\u001b[0mestimator\u001b[0m \u001b[1;33m=\u001b[0m \u001b[0mxgb_model\u001b[0m\u001b[1;33m,\u001b[0m \u001b[0mparam_grid\u001b[0m \u001b[1;33m=\u001b[0m \u001b[0mtuning_parameters\u001b[0m\u001b[1;33m,\u001b[0m \u001b[0mcv\u001b[0m \u001b[1;33m=\u001b[0m \u001b[1;36m3\u001b[0m\u001b[1;33m,\u001b[0m \u001b[0mscoring\u001b[0m \u001b[1;33m=\u001b[0m \u001b[1;34m'accuracy'\u001b[0m\u001b[1;33m,\u001b[0m\u001b[0mverbose\u001b[0m\u001b[1;33m=\u001b[0m\u001b[1;36m0\u001b[0m\u001b[1;33m)\u001b[0m\u001b[1;33m\u001b[0m\u001b[1;33m\u001b[0m\u001b[0m\n\u001b[1;32m----> 6\u001b[1;33m \u001b[0mxgb_grid\u001b[0m\u001b[1;33m.\u001b[0m\u001b[0mfit\u001b[0m\u001b[1;33m(\u001b[0m\u001b[0mX_train_pca\u001b[0m\u001b[1;33m,\u001b[0m \u001b[0my_train\u001b[0m\u001b[1;33m)\u001b[0m\u001b[1;33m\u001b[0m\u001b[1;33m\u001b[0m\u001b[0m\n\u001b[0m",
      "\u001b[1;32mC:\\ProgramData\\Anaconda3\\lib\\site-packages\\sklearn\\utils\\validation.py\u001b[0m in \u001b[0;36minner_f\u001b[1;34m(*args, **kwargs)\u001b[0m\n\u001b[0;32m     61\u001b[0m             \u001b[0mextra_args\u001b[0m \u001b[1;33m=\u001b[0m \u001b[0mlen\u001b[0m\u001b[1;33m(\u001b[0m\u001b[0margs\u001b[0m\u001b[1;33m)\u001b[0m \u001b[1;33m-\u001b[0m \u001b[0mlen\u001b[0m\u001b[1;33m(\u001b[0m\u001b[0mall_args\u001b[0m\u001b[1;33m)\u001b[0m\u001b[1;33m\u001b[0m\u001b[1;33m\u001b[0m\u001b[0m\n\u001b[0;32m     62\u001b[0m             \u001b[1;32mif\u001b[0m \u001b[0mextra_args\u001b[0m \u001b[1;33m<=\u001b[0m \u001b[1;36m0\u001b[0m\u001b[1;33m:\u001b[0m\u001b[1;33m\u001b[0m\u001b[1;33m\u001b[0m\u001b[0m\n\u001b[1;32m---> 63\u001b[1;33m                 \u001b[1;32mreturn\u001b[0m \u001b[0mf\u001b[0m\u001b[1;33m(\u001b[0m\u001b[1;33m*\u001b[0m\u001b[0margs\u001b[0m\u001b[1;33m,\u001b[0m \u001b[1;33m**\u001b[0m\u001b[0mkwargs\u001b[0m\u001b[1;33m)\u001b[0m\u001b[1;33m\u001b[0m\u001b[1;33m\u001b[0m\u001b[0m\n\u001b[0m\u001b[0;32m     64\u001b[0m \u001b[1;33m\u001b[0m\u001b[0m\n\u001b[0;32m     65\u001b[0m             \u001b[1;31m# extra_args > 0\u001b[0m\u001b[1;33m\u001b[0m\u001b[1;33m\u001b[0m\u001b[0m\n",
      "\u001b[1;32mC:\\ProgramData\\Anaconda3\\lib\\site-packages\\sklearn\\model_selection\\_search.py\u001b[0m in \u001b[0;36mfit\u001b[1;34m(self, X, y, groups, **fit_params)\u001b[0m\n\u001b[0;32m    839\u001b[0m                 \u001b[1;32mreturn\u001b[0m \u001b[0mresults\u001b[0m\u001b[1;33m\u001b[0m\u001b[1;33m\u001b[0m\u001b[0m\n\u001b[0;32m    840\u001b[0m \u001b[1;33m\u001b[0m\u001b[0m\n\u001b[1;32m--> 841\u001b[1;33m             \u001b[0mself\u001b[0m\u001b[1;33m.\u001b[0m\u001b[0m_run_search\u001b[0m\u001b[1;33m(\u001b[0m\u001b[0mevaluate_candidates\u001b[0m\u001b[1;33m)\u001b[0m\u001b[1;33m\u001b[0m\u001b[1;33m\u001b[0m\u001b[0m\n\u001b[0m\u001b[0;32m    842\u001b[0m \u001b[1;33m\u001b[0m\u001b[0m\n\u001b[0;32m    843\u001b[0m             \u001b[1;31m# multimetric is determined here because in the case of a callable\u001b[0m\u001b[1;33m\u001b[0m\u001b[1;33m\u001b[0m\u001b[0m\n",
      "\u001b[1;32mC:\\ProgramData\\Anaconda3\\lib\\site-packages\\sklearn\\model_selection\\_search.py\u001b[0m in \u001b[0;36m_run_search\u001b[1;34m(self, evaluate_candidates)\u001b[0m\n\u001b[0;32m   1294\u001b[0m     \u001b[1;32mdef\u001b[0m \u001b[0m_run_search\u001b[0m\u001b[1;33m(\u001b[0m\u001b[0mself\u001b[0m\u001b[1;33m,\u001b[0m \u001b[0mevaluate_candidates\u001b[0m\u001b[1;33m)\u001b[0m\u001b[1;33m:\u001b[0m\u001b[1;33m\u001b[0m\u001b[1;33m\u001b[0m\u001b[0m\n\u001b[0;32m   1295\u001b[0m         \u001b[1;34m\"\"\"Search all candidates in param_grid\"\"\"\u001b[0m\u001b[1;33m\u001b[0m\u001b[1;33m\u001b[0m\u001b[0m\n\u001b[1;32m-> 1296\u001b[1;33m         \u001b[0mevaluate_candidates\u001b[0m\u001b[1;33m(\u001b[0m\u001b[0mParameterGrid\u001b[0m\u001b[1;33m(\u001b[0m\u001b[0mself\u001b[0m\u001b[1;33m.\u001b[0m\u001b[0mparam_grid\u001b[0m\u001b[1;33m)\u001b[0m\u001b[1;33m)\u001b[0m\u001b[1;33m\u001b[0m\u001b[1;33m\u001b[0m\u001b[0m\n\u001b[0m\u001b[0;32m   1297\u001b[0m \u001b[1;33m\u001b[0m\u001b[0m\n\u001b[0;32m   1298\u001b[0m \u001b[1;33m\u001b[0m\u001b[0m\n",
      "\u001b[1;32mC:\\ProgramData\\Anaconda3\\lib\\site-packages\\sklearn\\model_selection\\_search.py\u001b[0m in \u001b[0;36mevaluate_candidates\u001b[1;34m(candidate_params, cv, more_results)\u001b[0m\n\u001b[0;32m    793\u001b[0m                               n_splits, n_candidates, n_candidates * n_splits))\n\u001b[0;32m    794\u001b[0m \u001b[1;33m\u001b[0m\u001b[0m\n\u001b[1;32m--> 795\u001b[1;33m                 out = parallel(delayed(_fit_and_score)(clone(base_estimator),\n\u001b[0m\u001b[0;32m    796\u001b[0m                                                        \u001b[0mX\u001b[0m\u001b[1;33m,\u001b[0m \u001b[0my\u001b[0m\u001b[1;33m,\u001b[0m\u001b[1;33m\u001b[0m\u001b[1;33m\u001b[0m\u001b[0m\n\u001b[0;32m    797\u001b[0m                                                        \u001b[0mtrain\u001b[0m\u001b[1;33m=\u001b[0m\u001b[0mtrain\u001b[0m\u001b[1;33m,\u001b[0m \u001b[0mtest\u001b[0m\u001b[1;33m=\u001b[0m\u001b[0mtest\u001b[0m\u001b[1;33m,\u001b[0m\u001b[1;33m\u001b[0m\u001b[1;33m\u001b[0m\u001b[0m\n",
      "\u001b[1;32mC:\\ProgramData\\Anaconda3\\lib\\site-packages\\joblib\\parallel.py\u001b[0m in \u001b[0;36m__call__\u001b[1;34m(self, iterable)\u001b[0m\n\u001b[0;32m   1044\u001b[0m                 \u001b[0mself\u001b[0m\u001b[1;33m.\u001b[0m\u001b[0m_iterating\u001b[0m \u001b[1;33m=\u001b[0m \u001b[0mself\u001b[0m\u001b[1;33m.\u001b[0m\u001b[0m_original_iterator\u001b[0m \u001b[1;32mis\u001b[0m \u001b[1;32mnot\u001b[0m \u001b[1;32mNone\u001b[0m\u001b[1;33m\u001b[0m\u001b[1;33m\u001b[0m\u001b[0m\n\u001b[0;32m   1045\u001b[0m \u001b[1;33m\u001b[0m\u001b[0m\n\u001b[1;32m-> 1046\u001b[1;33m             \u001b[1;32mwhile\u001b[0m \u001b[0mself\u001b[0m\u001b[1;33m.\u001b[0m\u001b[0mdispatch_one_batch\u001b[0m\u001b[1;33m(\u001b[0m\u001b[0miterator\u001b[0m\u001b[1;33m)\u001b[0m\u001b[1;33m:\u001b[0m\u001b[1;33m\u001b[0m\u001b[1;33m\u001b[0m\u001b[0m\n\u001b[0m\u001b[0;32m   1047\u001b[0m                 \u001b[1;32mpass\u001b[0m\u001b[1;33m\u001b[0m\u001b[1;33m\u001b[0m\u001b[0m\n\u001b[0;32m   1048\u001b[0m \u001b[1;33m\u001b[0m\u001b[0m\n",
      "\u001b[1;32mC:\\ProgramData\\Anaconda3\\lib\\site-packages\\joblib\\parallel.py\u001b[0m in \u001b[0;36mdispatch_one_batch\u001b[1;34m(self, iterator)\u001b[0m\n\u001b[0;32m    859\u001b[0m                 \u001b[1;32mreturn\u001b[0m \u001b[1;32mFalse\u001b[0m\u001b[1;33m\u001b[0m\u001b[1;33m\u001b[0m\u001b[0m\n\u001b[0;32m    860\u001b[0m             \u001b[1;32melse\u001b[0m\u001b[1;33m:\u001b[0m\u001b[1;33m\u001b[0m\u001b[1;33m\u001b[0m\u001b[0m\n\u001b[1;32m--> 861\u001b[1;33m                 \u001b[0mself\u001b[0m\u001b[1;33m.\u001b[0m\u001b[0m_dispatch\u001b[0m\u001b[1;33m(\u001b[0m\u001b[0mtasks\u001b[0m\u001b[1;33m)\u001b[0m\u001b[1;33m\u001b[0m\u001b[1;33m\u001b[0m\u001b[0m\n\u001b[0m\u001b[0;32m    862\u001b[0m                 \u001b[1;32mreturn\u001b[0m \u001b[1;32mTrue\u001b[0m\u001b[1;33m\u001b[0m\u001b[1;33m\u001b[0m\u001b[0m\n\u001b[0;32m    863\u001b[0m \u001b[1;33m\u001b[0m\u001b[0m\n",
      "\u001b[1;32mC:\\ProgramData\\Anaconda3\\lib\\site-packages\\joblib\\parallel.py\u001b[0m in \u001b[0;36m_dispatch\u001b[1;34m(self, batch)\u001b[0m\n\u001b[0;32m    777\u001b[0m         \u001b[1;32mwith\u001b[0m \u001b[0mself\u001b[0m\u001b[1;33m.\u001b[0m\u001b[0m_lock\u001b[0m\u001b[1;33m:\u001b[0m\u001b[1;33m\u001b[0m\u001b[1;33m\u001b[0m\u001b[0m\n\u001b[0;32m    778\u001b[0m             \u001b[0mjob_idx\u001b[0m \u001b[1;33m=\u001b[0m \u001b[0mlen\u001b[0m\u001b[1;33m(\u001b[0m\u001b[0mself\u001b[0m\u001b[1;33m.\u001b[0m\u001b[0m_jobs\u001b[0m\u001b[1;33m)\u001b[0m\u001b[1;33m\u001b[0m\u001b[1;33m\u001b[0m\u001b[0m\n\u001b[1;32m--> 779\u001b[1;33m             \u001b[0mjob\u001b[0m \u001b[1;33m=\u001b[0m \u001b[0mself\u001b[0m\u001b[1;33m.\u001b[0m\u001b[0m_backend\u001b[0m\u001b[1;33m.\u001b[0m\u001b[0mapply_async\u001b[0m\u001b[1;33m(\u001b[0m\u001b[0mbatch\u001b[0m\u001b[1;33m,\u001b[0m \u001b[0mcallback\u001b[0m\u001b[1;33m=\u001b[0m\u001b[0mcb\u001b[0m\u001b[1;33m)\u001b[0m\u001b[1;33m\u001b[0m\u001b[1;33m\u001b[0m\u001b[0m\n\u001b[0m\u001b[0;32m    780\u001b[0m             \u001b[1;31m# A job can complete so quickly than its callback is\u001b[0m\u001b[1;33m\u001b[0m\u001b[1;33m\u001b[0m\u001b[0m\n\u001b[0;32m    781\u001b[0m             \u001b[1;31m# called before we get here, causing self._jobs to\u001b[0m\u001b[1;33m\u001b[0m\u001b[1;33m\u001b[0m\u001b[0m\n",
      "\u001b[1;32mC:\\ProgramData\\Anaconda3\\lib\\site-packages\\joblib\\_parallel_backends.py\u001b[0m in \u001b[0;36mapply_async\u001b[1;34m(self, func, callback)\u001b[0m\n\u001b[0;32m    206\u001b[0m     \u001b[1;32mdef\u001b[0m \u001b[0mapply_async\u001b[0m\u001b[1;33m(\u001b[0m\u001b[0mself\u001b[0m\u001b[1;33m,\u001b[0m \u001b[0mfunc\u001b[0m\u001b[1;33m,\u001b[0m \u001b[0mcallback\u001b[0m\u001b[1;33m=\u001b[0m\u001b[1;32mNone\u001b[0m\u001b[1;33m)\u001b[0m\u001b[1;33m:\u001b[0m\u001b[1;33m\u001b[0m\u001b[1;33m\u001b[0m\u001b[0m\n\u001b[0;32m    207\u001b[0m         \u001b[1;34m\"\"\"Schedule a func to be run\"\"\"\u001b[0m\u001b[1;33m\u001b[0m\u001b[1;33m\u001b[0m\u001b[0m\n\u001b[1;32m--> 208\u001b[1;33m         \u001b[0mresult\u001b[0m \u001b[1;33m=\u001b[0m \u001b[0mImmediateResult\u001b[0m\u001b[1;33m(\u001b[0m\u001b[0mfunc\u001b[0m\u001b[1;33m)\u001b[0m\u001b[1;33m\u001b[0m\u001b[1;33m\u001b[0m\u001b[0m\n\u001b[0m\u001b[0;32m    209\u001b[0m         \u001b[1;32mif\u001b[0m \u001b[0mcallback\u001b[0m\u001b[1;33m:\u001b[0m\u001b[1;33m\u001b[0m\u001b[1;33m\u001b[0m\u001b[0m\n\u001b[0;32m    210\u001b[0m             \u001b[0mcallback\u001b[0m\u001b[1;33m(\u001b[0m\u001b[0mresult\u001b[0m\u001b[1;33m)\u001b[0m\u001b[1;33m\u001b[0m\u001b[1;33m\u001b[0m\u001b[0m\n",
      "\u001b[1;32mC:\\ProgramData\\Anaconda3\\lib\\site-packages\\joblib\\_parallel_backends.py\u001b[0m in \u001b[0;36m__init__\u001b[1;34m(self, batch)\u001b[0m\n\u001b[0;32m    570\u001b[0m         \u001b[1;31m# Don't delay the application, to avoid keeping the input\u001b[0m\u001b[1;33m\u001b[0m\u001b[1;33m\u001b[0m\u001b[0m\n\u001b[0;32m    571\u001b[0m         \u001b[1;31m# arguments in memory\u001b[0m\u001b[1;33m\u001b[0m\u001b[1;33m\u001b[0m\u001b[0m\n\u001b[1;32m--> 572\u001b[1;33m         \u001b[0mself\u001b[0m\u001b[1;33m.\u001b[0m\u001b[0mresults\u001b[0m \u001b[1;33m=\u001b[0m \u001b[0mbatch\u001b[0m\u001b[1;33m(\u001b[0m\u001b[1;33m)\u001b[0m\u001b[1;33m\u001b[0m\u001b[1;33m\u001b[0m\u001b[0m\n\u001b[0m\u001b[0;32m    573\u001b[0m \u001b[1;33m\u001b[0m\u001b[0m\n\u001b[0;32m    574\u001b[0m     \u001b[1;32mdef\u001b[0m \u001b[0mget\u001b[0m\u001b[1;33m(\u001b[0m\u001b[0mself\u001b[0m\u001b[1;33m)\u001b[0m\u001b[1;33m:\u001b[0m\u001b[1;33m\u001b[0m\u001b[1;33m\u001b[0m\u001b[0m\n",
      "\u001b[1;32mC:\\ProgramData\\Anaconda3\\lib\\site-packages\\joblib\\parallel.py\u001b[0m in \u001b[0;36m__call__\u001b[1;34m(self)\u001b[0m\n\u001b[0;32m    260\u001b[0m         \u001b[1;31m# change the default number of processes to -1\u001b[0m\u001b[1;33m\u001b[0m\u001b[1;33m\u001b[0m\u001b[0m\n\u001b[0;32m    261\u001b[0m         \u001b[1;32mwith\u001b[0m \u001b[0mparallel_backend\u001b[0m\u001b[1;33m(\u001b[0m\u001b[0mself\u001b[0m\u001b[1;33m.\u001b[0m\u001b[0m_backend\u001b[0m\u001b[1;33m,\u001b[0m \u001b[0mn_jobs\u001b[0m\u001b[1;33m=\u001b[0m\u001b[0mself\u001b[0m\u001b[1;33m.\u001b[0m\u001b[0m_n_jobs\u001b[0m\u001b[1;33m)\u001b[0m\u001b[1;33m:\u001b[0m\u001b[1;33m\u001b[0m\u001b[1;33m\u001b[0m\u001b[0m\n\u001b[1;32m--> 262\u001b[1;33m             return [func(*args, **kwargs)\n\u001b[0m\u001b[0;32m    263\u001b[0m                     for func, args, kwargs in self.items]\n\u001b[0;32m    264\u001b[0m \u001b[1;33m\u001b[0m\u001b[0m\n",
      "\u001b[1;32mC:\\ProgramData\\Anaconda3\\lib\\site-packages\\joblib\\parallel.py\u001b[0m in \u001b[0;36m<listcomp>\u001b[1;34m(.0)\u001b[0m\n\u001b[0;32m    260\u001b[0m         \u001b[1;31m# change the default number of processes to -1\u001b[0m\u001b[1;33m\u001b[0m\u001b[1;33m\u001b[0m\u001b[0m\n\u001b[0;32m    261\u001b[0m         \u001b[1;32mwith\u001b[0m \u001b[0mparallel_backend\u001b[0m\u001b[1;33m(\u001b[0m\u001b[0mself\u001b[0m\u001b[1;33m.\u001b[0m\u001b[0m_backend\u001b[0m\u001b[1;33m,\u001b[0m \u001b[0mn_jobs\u001b[0m\u001b[1;33m=\u001b[0m\u001b[0mself\u001b[0m\u001b[1;33m.\u001b[0m\u001b[0m_n_jobs\u001b[0m\u001b[1;33m)\u001b[0m\u001b[1;33m:\u001b[0m\u001b[1;33m\u001b[0m\u001b[1;33m\u001b[0m\u001b[0m\n\u001b[1;32m--> 262\u001b[1;33m             return [func(*args, **kwargs)\n\u001b[0m\u001b[0;32m    263\u001b[0m                     for func, args, kwargs in self.items]\n\u001b[0;32m    264\u001b[0m \u001b[1;33m\u001b[0m\u001b[0m\n",
      "\u001b[1;32mC:\\ProgramData\\Anaconda3\\lib\\site-packages\\sklearn\\utils\\fixes.py\u001b[0m in \u001b[0;36m__call__\u001b[1;34m(self, *args, **kwargs)\u001b[0m\n\u001b[0;32m    220\u001b[0m     \u001b[1;32mdef\u001b[0m \u001b[0m__call__\u001b[0m\u001b[1;33m(\u001b[0m\u001b[0mself\u001b[0m\u001b[1;33m,\u001b[0m \u001b[1;33m*\u001b[0m\u001b[0margs\u001b[0m\u001b[1;33m,\u001b[0m \u001b[1;33m**\u001b[0m\u001b[0mkwargs\u001b[0m\u001b[1;33m)\u001b[0m\u001b[1;33m:\u001b[0m\u001b[1;33m\u001b[0m\u001b[1;33m\u001b[0m\u001b[0m\n\u001b[0;32m    221\u001b[0m         \u001b[1;32mwith\u001b[0m \u001b[0mconfig_context\u001b[0m\u001b[1;33m(\u001b[0m\u001b[1;33m**\u001b[0m\u001b[0mself\u001b[0m\u001b[1;33m.\u001b[0m\u001b[0mconfig\u001b[0m\u001b[1;33m)\u001b[0m\u001b[1;33m:\u001b[0m\u001b[1;33m\u001b[0m\u001b[1;33m\u001b[0m\u001b[0m\n\u001b[1;32m--> 222\u001b[1;33m             \u001b[1;32mreturn\u001b[0m \u001b[0mself\u001b[0m\u001b[1;33m.\u001b[0m\u001b[0mfunction\u001b[0m\u001b[1;33m(\u001b[0m\u001b[1;33m*\u001b[0m\u001b[0margs\u001b[0m\u001b[1;33m,\u001b[0m \u001b[1;33m**\u001b[0m\u001b[0mkwargs\u001b[0m\u001b[1;33m)\u001b[0m\u001b[1;33m\u001b[0m\u001b[1;33m\u001b[0m\u001b[0m\n\u001b[0m",
      "\u001b[1;32mC:\\ProgramData\\Anaconda3\\lib\\site-packages\\sklearn\\model_selection\\_validation.py\u001b[0m in \u001b[0;36m_fit_and_score\u001b[1;34m(estimator, X, y, scorer, train, test, verbose, parameters, fit_params, return_train_score, return_parameters, return_n_test_samples, return_times, return_estimator, split_progress, candidate_progress, error_score)\u001b[0m\n\u001b[0;32m    596\u001b[0m             \u001b[0mestimator\u001b[0m\u001b[1;33m.\u001b[0m\u001b[0mfit\u001b[0m\u001b[1;33m(\u001b[0m\u001b[0mX_train\u001b[0m\u001b[1;33m,\u001b[0m \u001b[1;33m**\u001b[0m\u001b[0mfit_params\u001b[0m\u001b[1;33m)\u001b[0m\u001b[1;33m\u001b[0m\u001b[1;33m\u001b[0m\u001b[0m\n\u001b[0;32m    597\u001b[0m         \u001b[1;32melse\u001b[0m\u001b[1;33m:\u001b[0m\u001b[1;33m\u001b[0m\u001b[1;33m\u001b[0m\u001b[0m\n\u001b[1;32m--> 598\u001b[1;33m             \u001b[0mestimator\u001b[0m\u001b[1;33m.\u001b[0m\u001b[0mfit\u001b[0m\u001b[1;33m(\u001b[0m\u001b[0mX_train\u001b[0m\u001b[1;33m,\u001b[0m \u001b[0my_train\u001b[0m\u001b[1;33m,\u001b[0m \u001b[1;33m**\u001b[0m\u001b[0mfit_params\u001b[0m\u001b[1;33m)\u001b[0m\u001b[1;33m\u001b[0m\u001b[1;33m\u001b[0m\u001b[0m\n\u001b[0m\u001b[0;32m    599\u001b[0m \u001b[1;33m\u001b[0m\u001b[0m\n\u001b[0;32m    600\u001b[0m     \u001b[1;32mexcept\u001b[0m \u001b[0mException\u001b[0m \u001b[1;32mas\u001b[0m \u001b[0me\u001b[0m\u001b[1;33m:\u001b[0m\u001b[1;33m\u001b[0m\u001b[1;33m\u001b[0m\u001b[0m\n",
      "\u001b[1;32mC:\\ProgramData\\Anaconda3\\lib\\site-packages\\xgboost\\core.py\u001b[0m in \u001b[0;36minner_f\u001b[1;34m(*args, **kwargs)\u001b[0m\n\u001b[0;32m    504\u001b[0m         \u001b[1;32mfor\u001b[0m \u001b[0mk\u001b[0m\u001b[1;33m,\u001b[0m \u001b[0marg\u001b[0m \u001b[1;32min\u001b[0m \u001b[0mzip\u001b[0m\u001b[1;33m(\u001b[0m\u001b[0msig\u001b[0m\u001b[1;33m.\u001b[0m\u001b[0mparameters\u001b[0m\u001b[1;33m,\u001b[0m \u001b[0margs\u001b[0m\u001b[1;33m)\u001b[0m\u001b[1;33m:\u001b[0m\u001b[1;33m\u001b[0m\u001b[1;33m\u001b[0m\u001b[0m\n\u001b[0;32m    505\u001b[0m             \u001b[0mkwargs\u001b[0m\u001b[1;33m[\u001b[0m\u001b[0mk\u001b[0m\u001b[1;33m]\u001b[0m \u001b[1;33m=\u001b[0m \u001b[0marg\u001b[0m\u001b[1;33m\u001b[0m\u001b[1;33m\u001b[0m\u001b[0m\n\u001b[1;32m--> 506\u001b[1;33m         \u001b[1;32mreturn\u001b[0m \u001b[0mf\u001b[0m\u001b[1;33m(\u001b[0m\u001b[1;33m**\u001b[0m\u001b[0mkwargs\u001b[0m\u001b[1;33m)\u001b[0m\u001b[1;33m\u001b[0m\u001b[1;33m\u001b[0m\u001b[0m\n\u001b[0m\u001b[0;32m    507\u001b[0m \u001b[1;33m\u001b[0m\u001b[0m\n\u001b[0;32m    508\u001b[0m     \u001b[1;32mreturn\u001b[0m \u001b[0minner_f\u001b[0m\u001b[1;33m\u001b[0m\u001b[1;33m\u001b[0m\u001b[0m\n",
      "\u001b[1;32mC:\\ProgramData\\Anaconda3\\lib\\site-packages\\xgboost\\sklearn.py\u001b[0m in \u001b[0;36mfit\u001b[1;34m(self, X, y, sample_weight, base_margin, eval_set, eval_metric, early_stopping_rounds, verbose, xgb_model, sample_weight_eval_set, base_margin_eval_set, feature_weights, callbacks)\u001b[0m\n\u001b[0;32m   1248\u001b[0m         )\n\u001b[0;32m   1249\u001b[0m \u001b[1;33m\u001b[0m\u001b[0m\n\u001b[1;32m-> 1250\u001b[1;33m         self._Booster = train(\n\u001b[0m\u001b[0;32m   1251\u001b[0m             \u001b[0mparams\u001b[0m\u001b[1;33m,\u001b[0m\u001b[1;33m\u001b[0m\u001b[1;33m\u001b[0m\u001b[0m\n\u001b[0;32m   1252\u001b[0m             \u001b[0mtrain_dmatrix\u001b[0m\u001b[1;33m,\u001b[0m\u001b[1;33m\u001b[0m\u001b[1;33m\u001b[0m\u001b[0m\n",
      "\u001b[1;32mC:\\ProgramData\\Anaconda3\\lib\\site-packages\\xgboost\\training.py\u001b[0m in \u001b[0;36mtrain\u001b[1;34m(params, dtrain, num_boost_round, evals, obj, feval, maximize, early_stopping_rounds, evals_result, verbose_eval, xgb_model, callbacks)\u001b[0m\n\u001b[0;32m    186\u001b[0m     \u001b[0mBooster\u001b[0m \u001b[1;33m:\u001b[0m \u001b[0ma\u001b[0m \u001b[0mtrained\u001b[0m \u001b[0mbooster\u001b[0m \u001b[0mmodel\u001b[0m\u001b[1;33m\u001b[0m\u001b[1;33m\u001b[0m\u001b[0m\n\u001b[0;32m    187\u001b[0m     \"\"\"\n\u001b[1;32m--> 188\u001b[1;33m     bst = _train_internal(params, dtrain,\n\u001b[0m\u001b[0;32m    189\u001b[0m                           \u001b[0mnum_boost_round\u001b[0m\u001b[1;33m=\u001b[0m\u001b[0mnum_boost_round\u001b[0m\u001b[1;33m,\u001b[0m\u001b[1;33m\u001b[0m\u001b[1;33m\u001b[0m\u001b[0m\n\u001b[0;32m    190\u001b[0m                           \u001b[0mevals\u001b[0m\u001b[1;33m=\u001b[0m\u001b[0mevals\u001b[0m\u001b[1;33m,\u001b[0m\u001b[1;33m\u001b[0m\u001b[1;33m\u001b[0m\u001b[0m\n",
      "\u001b[1;32mC:\\ProgramData\\Anaconda3\\lib\\site-packages\\xgboost\\training.py\u001b[0m in \u001b[0;36m_train_internal\u001b[1;34m(params, dtrain, num_boost_round, evals, obj, feval, xgb_model, callbacks, evals_result, maximize, verbose_eval, early_stopping_rounds)\u001b[0m\n\u001b[0;32m     79\u001b[0m         \u001b[1;32mif\u001b[0m \u001b[0mcallbacks\u001b[0m\u001b[1;33m.\u001b[0m\u001b[0mbefore_iteration\u001b[0m\u001b[1;33m(\u001b[0m\u001b[0mbst\u001b[0m\u001b[1;33m,\u001b[0m \u001b[0mi\u001b[0m\u001b[1;33m,\u001b[0m \u001b[0mdtrain\u001b[0m\u001b[1;33m,\u001b[0m \u001b[0mevals\u001b[0m\u001b[1;33m)\u001b[0m\u001b[1;33m:\u001b[0m\u001b[1;33m\u001b[0m\u001b[1;33m\u001b[0m\u001b[0m\n\u001b[0;32m     80\u001b[0m             \u001b[1;32mbreak\u001b[0m\u001b[1;33m\u001b[0m\u001b[1;33m\u001b[0m\u001b[0m\n\u001b[1;32m---> 81\u001b[1;33m         \u001b[0mbst\u001b[0m\u001b[1;33m.\u001b[0m\u001b[0mupdate\u001b[0m\u001b[1;33m(\u001b[0m\u001b[0mdtrain\u001b[0m\u001b[1;33m,\u001b[0m \u001b[0mi\u001b[0m\u001b[1;33m,\u001b[0m \u001b[0mobj\u001b[0m\u001b[1;33m)\u001b[0m\u001b[1;33m\u001b[0m\u001b[1;33m\u001b[0m\u001b[0m\n\u001b[0m\u001b[0;32m     82\u001b[0m         \u001b[1;32mif\u001b[0m \u001b[0mcallbacks\u001b[0m\u001b[1;33m.\u001b[0m\u001b[0mafter_iteration\u001b[0m\u001b[1;33m(\u001b[0m\u001b[0mbst\u001b[0m\u001b[1;33m,\u001b[0m \u001b[0mi\u001b[0m\u001b[1;33m,\u001b[0m \u001b[0mdtrain\u001b[0m\u001b[1;33m,\u001b[0m \u001b[0mevals\u001b[0m\u001b[1;33m)\u001b[0m\u001b[1;33m:\u001b[0m\u001b[1;33m\u001b[0m\u001b[1;33m\u001b[0m\u001b[0m\n\u001b[0;32m     83\u001b[0m             \u001b[1;32mbreak\u001b[0m\u001b[1;33m\u001b[0m\u001b[1;33m\u001b[0m\u001b[0m\n",
      "\u001b[1;32mC:\\ProgramData\\Anaconda3\\lib\\site-packages\\xgboost\\core.py\u001b[0m in \u001b[0;36mupdate\u001b[1;34m(self, dtrain, iteration, fobj)\u001b[0m\n\u001b[0;32m   1678\u001b[0m \u001b[1;33m\u001b[0m\u001b[0m\n\u001b[0;32m   1679\u001b[0m         \u001b[1;32mif\u001b[0m \u001b[0mfobj\u001b[0m \u001b[1;32mis\u001b[0m \u001b[1;32mNone\u001b[0m\u001b[1;33m:\u001b[0m\u001b[1;33m\u001b[0m\u001b[1;33m\u001b[0m\u001b[0m\n\u001b[1;32m-> 1680\u001b[1;33m             _check_call(_LIB.XGBoosterUpdateOneIter(self.handle,\n\u001b[0m\u001b[0;32m   1681\u001b[0m                                                     \u001b[0mctypes\u001b[0m\u001b[1;33m.\u001b[0m\u001b[0mc_int\u001b[0m\u001b[1;33m(\u001b[0m\u001b[0miteration\u001b[0m\u001b[1;33m)\u001b[0m\u001b[1;33m,\u001b[0m\u001b[1;33m\u001b[0m\u001b[1;33m\u001b[0m\u001b[0m\n\u001b[0;32m   1682\u001b[0m                                                     dtrain.handle))\n",
      "\u001b[1;31mKeyboardInterrupt\u001b[0m: "
     ]
    }
   ],
   "source": [
    "tuning_parameters = {'learning_rate': [0.1, 0.2, 0.3, 0.4, 0.5, 0.6],\n",
    "                     'max_depth': [1,3,5,7,9],\n",
    "                     'gamma': [0, 1, 2, 3, 4]}\n",
    "xgb_model = XGBClassifier()\n",
    "xgb_grid = GridSearchCV(estimator = xgb_model, param_grid = tuning_parameters, cv = 3, scoring = 'accuracy',verbose=0)\n",
    "xgb_grid.fit(X_train_pca, y_train)"
   ]
  },
  {
   "cell_type": "code",
   "execution_count": 96,
   "id": "d3abd037",
   "metadata": {},
   "outputs": [
    {
     "ename": "AttributeError",
     "evalue": "'GridSearchCV' object has no attribute 'best_params_'",
     "output_type": "error",
     "traceback": [
      "\u001b[1;31m---------------------------------------------------------------------------\u001b[0m",
      "\u001b[1;31mAttributeError\u001b[0m                            Traceback (most recent call last)",
      "\u001b[1;32m~\\AppData\\Local\\Temp/ipykernel_10120/3685199600.py\u001b[0m in \u001b[0;36m<module>\u001b[1;34m\u001b[0m\n\u001b[1;32m----> 1\u001b[1;33m \u001b[0mprint\u001b[0m\u001b[1;33m(\u001b[0m\u001b[1;34m'Best parameters for XGBoost classifier: '\u001b[0m\u001b[1;33m,\u001b[0m \u001b[0mxgb_grid\u001b[0m\u001b[1;33m.\u001b[0m\u001b[0mbest_params_\u001b[0m\u001b[1;33m,\u001b[0m \u001b[1;34m'\\n'\u001b[0m\u001b[1;33m)\u001b[0m\u001b[1;33m\u001b[0m\u001b[1;33m\u001b[0m\u001b[0m\n\u001b[0m",
      "\u001b[1;31mAttributeError\u001b[0m: 'GridSearchCV' object has no attribute 'best_params_'"
     ]
    }
   ],
   "source": [
    "print('Best parameters for XGBoost classifier: ', xgb_grid.best_params_, '\\n')"
   ]
  },
  {
   "cell_type": "markdown",
   "id": "sckRiasu4fSj",
   "metadata": {
    "id": "sckRiasu4fSj"
   },
   "source": [
    "# 8.5.3 Final xgb model"
   ]
  },
  {
   "cell_type": "code",
   "execution_count": 99,
   "id": "Y0B_S0o34Wm8",
   "metadata": {
    "colab": {
     "base_uri": "https://localhost:8080/",
     "height": 335
    },
    "executionInfo": {
     "elapsed": 5434,
     "status": "ok",
     "timestamp": 1647336158030,
     "user": {
      "displayName": "Srikanth M Srikanth M",
      "photoUrl": "https://lh3.googleusercontent.com/a-/AOh14GharHiNxh1XG74YPXeNYjJSbcgfWzjyfo6t2d8NR94=s64",
      "userId": "07608372324138559378"
     },
     "user_tz": -330
    },
    "id": "Y0B_S0o34Wm8",
    "outputId": "8a686811-2370-42ce-ebeb-6dbfe33c4703"
   },
   "outputs": [
    {
     "name": "stderr",
     "output_type": "stream",
     "text": [
      "C:\\ProgramData\\Anaconda3\\lib\\site-packages\\xgboost\\sklearn.py:1224: UserWarning: The use of label encoder in XGBClassifier is deprecated and will be removed in a future release. To remove this warning, do the following: 1) Pass option use_label_encoder=False when constructing XGBClassifier object; and 2) Encode your labels (y) as integers starting with 0, i.e. 0, 1, 2, ..., [num_class - 1].\n",
      "  warnings.warn(label_encoder_deprecation_msg, UserWarning)\n"
     ]
    },
    {
     "name": "stdout",
     "output_type": "stream",
     "text": [
      "[11:39:24] WARNING: C:/Users/Administrator/workspace/xgboost-win64_release_1.5.1/src/learner.cc:1115: Starting in XGBoost 1.3.0, the default evaluation metric used with the objective 'binary:logistic' was changed from 'error' to 'logloss'. Explicitly set eval_metric if you'd like to restore the old behavior.\n"
     ]
    },
    {
     "data": {
      "text/html": [
       "<div>\n",
       "<style scoped>\n",
       "    .dataframe tbody tr th:only-of-type {\n",
       "        vertical-align: middle;\n",
       "    }\n",
       "\n",
       "    .dataframe tbody tr th {\n",
       "        vertical-align: top;\n",
       "    }\n",
       "\n",
       "    .dataframe thead th {\n",
       "        text-align: right;\n",
       "    }\n",
       "</style>\n",
       "<table border=\"1\" class=\"dataframe\">\n",
       "  <thead>\n",
       "    <tr style=\"text-align: right;\">\n",
       "      <th></th>\n",
       "      <th>train</th>\n",
       "      <th>test</th>\n",
       "    </tr>\n",
       "    <tr>\n",
       "      <th>metrics</th>\n",
       "      <th></th>\n",
       "      <th></th>\n",
       "    </tr>\n",
       "  </thead>\n",
       "  <tbody>\n",
       "    <tr>\n",
       "      <th>accuracy</th>\n",
       "      <td>0.999885</td>\n",
       "      <td>0.829493</td>\n",
       "    </tr>\n",
       "    <tr>\n",
       "      <th>precision</th>\n",
       "      <td>1.000000</td>\n",
       "      <td>0.580645</td>\n",
       "    </tr>\n",
       "    <tr>\n",
       "      <th>recall</th>\n",
       "      <td>0.999332</td>\n",
       "      <td>0.048000</td>\n",
       "    </tr>\n",
       "    <tr>\n",
       "      <th>TPR</th>\n",
       "      <td>0.999332</td>\n",
       "      <td>0.048000</td>\n",
       "    </tr>\n",
       "    <tr>\n",
       "      <th>FPR</th>\n",
       "      <td>0.000000</td>\n",
       "      <td>0.007242</td>\n",
       "    </tr>\n",
       "    <tr>\n",
       "      <th>f1_ratio</th>\n",
       "      <td>0.999666</td>\n",
       "      <td>0.088670</td>\n",
       "    </tr>\n",
       "    <tr>\n",
       "      <th>auc_score</th>\n",
       "      <td>0.999666</td>\n",
       "      <td>0.520379</td>\n",
       "    </tr>\n",
       "  </tbody>\n",
       "</table>\n",
       "</div>"
      ],
      "text/plain": [
       "              train      test\n",
       "metrics                      \n",
       "accuracy   0.999885  0.829493\n",
       "precision  1.000000  0.580645\n",
       "recall     0.999332  0.048000\n",
       "TPR        0.999332  0.048000\n",
       "FPR        0.000000  0.007242\n",
       "f1_ratio   0.999666  0.088670\n",
       "auc_score  0.999666  0.520379"
      ]
     },
     "execution_count": 99,
     "metadata": {},
     "output_type": "execute_result"
    }
   ],
   "source": [
    "xgb_final = XGBClassifier(gamma=1,learning_rate=0.1,max_depth=8)\n",
    "xgb_final.fit(X_train_pca, y_train)\n",
    "xgb_score=scorecard(xgb_final,X_train_pca,X_test_pca)\n",
    "xgb_score"
   ]
  },
  {
   "cell_type": "code",
   "execution_count": 98,
   "id": "BlEphSh74trn",
   "metadata": {
    "colab": {
     "base_uri": "https://localhost:8080/",
     "height": 297
    },
    "executionInfo": {
     "elapsed": 767,
     "status": "ok",
     "timestamp": 1647336174647,
     "user": {
      "displayName": "Srikanth M Srikanth M",
      "photoUrl": "https://lh3.googleusercontent.com/a-/AOh14GharHiNxh1XG74YPXeNYjJSbcgfWzjyfo6t2d8NR94=s64",
      "userId": "07608372324138559378"
     },
     "user_tz": -330
    },
    "id": "BlEphSh74trn",
    "outputId": "8b3bcd67-1818-4d40-9ab5-d4e6abc45c2d"
   },
   "outputs": [
    {
     "name": "stdout",
     "output_type": "stream",
     "text": [
      "1 : bad customer\n",
      "0 : good customer\n"
     ]
    },
    {
     "data": {
      "image/png": "[encoded data removed]",
      "text/plain": [
       "<Figure size 576x288 with 1 Axes>"
      ]
     },
     "metadata": {
      "needs_background": "light"
     },
     "output_type": "display_data"
    }
   ],
   "source": [
    "print(1,': bad customer')\n",
    "print(0,': good customer')\n",
    "plot_confusion_matrix(xgb_final)"
   ]
  },
  {
   "cell_type": "markdown",
   "id": "81563576",
   "metadata": {
    "id": "EEdtvKPa4y3E"
   },
   "source": [
    "The xgb model with hyper parameters overfit is reduced but the model is calssifying all customers as good"
   ]
  },
  {
   "cell_type": "markdown",
   "id": "cc79022c",
   "metadata": {
    "id": "cc79022c"
   },
   "source": [
    "# 8.6 LightGBM"
   ]
  },
  {
   "cell_type": "markdown",
   "id": "185329cd",
   "metadata": {
    "id": "185329cd"
   },
   "source": [
    "# 8.6.1 Base Model"
   ]
  },
  {
   "cell_type": "code",
   "execution_count": null,
   "id": "34233037",
   "metadata": {
    "colab": {
     "base_uri": "https://localhost:8080/",
     "height": 300
    },
    "executionInfo": {
     "elapsed": 2721,
     "status": "ok",
     "timestamp": 1647322013738,
     "user": {
      "displayName": "Srikanth M Srikanth M",
      "photoUrl": "https://lh3.googleusercontent.com/a-/AOh14GharHiNxh1XG74YPXeNYjJSbcgfWzjyfo6t2d8NR94=s64",
      "userId": "07608372324138559378"
     },
     "user_tz": -330
    },
    "id": "34233037",
    "outputId": "13a928d4-bae1-4894-b300-7dbcfcf2e071"
   },
   "outputs": [],
   "source": [
    "lgbm1=LGBMClassifier()\n",
    "lgbm1.fit(X_train_pca,y_train)\n",
    "lgbm1_score=scorecard(lgbm1,X_train_pca,X_test_pca)\n",
    "lgbm1_score"
   ]
  },
  {
   "cell_type": "code",
   "execution_count": null,
   "id": "646ff355",
   "metadata": {
    "id": "z3bego9db2z_"
   },
   "outputs": [],
   "source": [
    "print(1,': bad customer')\n",
    "print(0,': good customer')\n",
    "plot_confusion_matrix(lgbm1)"
   ]
  },
  {
   "cell_type": "markdown",
   "id": "83529ef2",
   "metadata": {},
   "source": [
    "the lgbm model is classifying bad customers and still need to improve and reduce overfitting"
   ]
  },
  {
   "cell_type": "markdown",
   "id": "I7ogNOyWb3Sg",
   "metadata": {
    "id": "I7ogNOyWb3Sg"
   },
   "source": [
    "# 8.6.2 droping variables Which has zero feature importance "
   ]
  },
  {
   "cell_type": "code",
   "execution_count": null,
   "id": "0Y692825b3Sh",
   "metadata": {
    "colab": {
     "base_uri": "https://localhost:8080/",
     "height": 602
    },
    "executionInfo": {
     "elapsed": 159,
     "status": "ok",
     "timestamp": 1647322013744,
     "user": {
      "displayName": "Srikanth M Srikanth M",
      "photoUrl": "https://lh3.googleusercontent.com/a-/AOh14GharHiNxh1XG74YPXeNYjJSbcgfWzjyfo6t2d8NR94=s64",
      "userId": "07608372324138559378"
     },
     "user_tz": -330
    },
    "id": "0Y692825b3Sh",
    "outputId": "b0fe8184-1caa-4892-ac5d-5c02082fbd13"
   },
   "outputs": [],
   "source": [
    "plot_importance(lgbm1)"
   ]
  },
  {
   "cell_type": "code",
   "execution_count": null,
   "id": "bwYQuxOXb3Si",
   "metadata": {
    "colab": {
     "base_uri": "https://localhost:8080/",
     "height": 1000
    },
    "executionInfo": {
     "elapsed": 147,
     "status": "ok",
     "timestamp": 1647322013746,
     "user": {
      "displayName": "Srikanth M Srikanth M",
      "photoUrl": "https://lh3.googleusercontent.com/a-/AOh14GharHiNxh1XG74YPXeNYjJSbcgfWzjyfo6t2d8NR94=s64",
      "userId": "07608372324138559378"
     },
     "user_tz": -330
    },
    "id": "bwYQuxOXb3Si",
    "outputId": "243d6e79-c859-434b-da93-b3220eca5786"
   },
   "outputs": [],
   "source": [
    "imp=pd.DataFrame({'variables':X_train_pca.columns,'importance':lgbm1.feature_importances_})\n",
    "imp"
   ]
  },
  {
   "cell_type": "markdown",
   "id": "dHQv1AEmb3Si",
   "metadata": {
    "id": "dHQv1AEmb3Si"
   },
   "source": [
    "The above plot shows that all the pcs have importance in the model"
   ]
  },
  {
   "cell_type": "markdown",
   "id": "Ncfyle2zb3Sj",
   "metadata": {
    "id": "Ncfyle2zb3Sj"
   },
   "source": [
    "# 8.6.3 Checking for correlation between variables"
   ]
  },
  {
   "cell_type": "markdown",
   "id": "uAcNgF4gb3Sj",
   "metadata": {
    "id": "uAcNgF4gb3Sj"
   },
   "source": [
    "if the correlation is high between two variables then both the variables will give same meaning or influence on target variable. so we can drop one of them this will reduce complexity of model as well as chance of overfitting. "
   ]
  },
  {
   "cell_type": "code",
   "execution_count": null,
   "id": "I8STgj9Tb3Sk",
   "metadata": {
    "colab": {
     "base_uri": "https://localhost:8080/",
     "height": 49
    },
    "executionInfo": {
     "elapsed": 638,
     "status": "ok",
     "timestamp": 1647322014240,
     "user": {
      "displayName": "Srikanth M Srikanth M",
      "photoUrl": "https://lh3.googleusercontent.com/a-/AOh14GharHiNxh1XG74YPXeNYjJSbcgfWzjyfo6t2d8NR94=s64",
      "userId": "07608372324138559378"
     },
     "user_tz": -330
    },
    "id": "I8STgj9Tb3Sk",
    "outputId": "20da3074-3bef-4783-cbc6-c996f640023e"
   },
   "outputs": [],
   "source": [
    "corr=correlation(X_train_pca,0.65,-0.65)\n",
    "corr"
   ]
  },
  {
   "cell_type": "markdown",
   "id": "dqMAh1jKb3Sl",
   "metadata": {
    "id": "dqMAh1jKb3Sl"
   },
   "source": [
    "The variables does not have high correlation"
   ]
  },
  {
   "cell_type": "markdown",
   "id": "A6jrthIJb3Sl",
   "metadata": {
    "id": "A6jrthIJb3Sl"
   },
   "source": [
    "# 8.6.4 Checking for vif values of variables"
   ]
  },
  {
   "cell_type": "markdown",
   "id": "iCrQXqlFb3Sm",
   "metadata": {
    "id": "iCrQXqlFb3Sm"
   },
   "source": [
    "if vif is high then variables are highly correlated with each other this leads to the overfitting of model. to avoid overfitting we remove variables having vif values.\n",
    "\n",
    "Considering variables with vif less than or equal to 10\n"
   ]
  },
  {
   "cell_type": "code",
   "execution_count": null,
   "id": "RHLVBCUXb3Sm",
   "metadata": {
    "id": "RHLVBCUXb3Sm"
   },
   "outputs": [],
   "source": [
    "z=X_train_pca.fillna(0)\n",
    "vif_data = pd.DataFrame()\n",
    "vif_data[\"feature\"] = z.columns\n",
    "vif_data[\"VIF\"] = [variance_inflation_factor(z.values, i)\n",
    "                          for i in range(len(z.columns))]"
   ]
  },
  {
   "cell_type": "code",
   "execution_count": null,
   "id": "eMbxGOfub3Sn",
   "metadata": {
    "colab": {
     "base_uri": "https://localhost:8080/"
    },
    "executionInfo": {
     "elapsed": 18,
     "status": "ok",
     "timestamp": 1647322016158,
     "user": {
      "displayName": "Srikanth M Srikanth M",
      "photoUrl": "https://lh3.googleusercontent.com/a-/AOh14GharHiNxh1XG74YPXeNYjJSbcgfWzjyfo6t2d8NR94=s64",
      "userId": "07608372324138559378"
     },
     "user_tz": -330
    },
    "id": "eMbxGOfub3Sn",
    "outputId": "3e1c82fb-c1bc-4c8c-be7c-6c9e56e25440"
   },
   "outputs": [],
   "source": [
    "vif_data.max()"
   ]
  },
  {
   "cell_type": "markdown",
   "id": "eZPXwzaXb3Sn",
   "metadata": {
    "id": "eZPXwzaXb3Sn"
   },
   "source": [
    "The variables does not have vif values >1.0"
   ]
  },
  {
   "cell_type": "markdown",
   "id": "paZMGzvab3Sp",
   "metadata": {
    "id": "paZMGzvab3Sp"
   },
   "source": [
    "# 8.6.5 Hyper parameter"
   ]
  },
  {
   "cell_type": "markdown",
   "id": "xljcbBXfb3Sq",
   "metadata": {
    "id": "xljcbBXfb3Sq"
   },
   "source": [
    "Checking for the parameter which gives best result"
   ]
  },
  {
   "cell_type": "code",
   "execution_count": null,
   "id": "nNDuQitcb3Sq",
   "metadata": {
    "colab": {
     "base_uri": "https://localhost:8080/"
    },
    "executionInfo": {
     "elapsed": 79929,
     "status": "ok",
     "timestamp": 1647322096078,
     "user": {
      "displayName": "Srikanth M Srikanth M",
      "photoUrl": "https://lh3.googleusercontent.com/a-/AOh14GharHiNxh1XG74YPXeNYjJSbcgfWzjyfo6t2d8NR94=s64",
      "userId": "07608372324138559378"
     },
     "user_tz": -330
    },
    "id": "nNDuQitcb3Sq",
    "outputId": "bc15c41a-9943-46d6-9524-1c49b5e58494"
   },
   "outputs": [],
   "source": [
    "param={'boosting_type':['dart','gbdt',],\n",
    "       'max_depth':[4,8,12],'n_estimators':[75,100,150,200],\n",
    "       'min_child_samples':[300,400,450,500,550]\n",
    "        }\n",
    "grid=GridSearchCV(estimator=LGBMClassifier(),param_grid=param,cv=2,scoring='accuracy')\n",
    "grid.fit(X_train_pca,y_train)"
   ]
  },
  {
   "cell_type": "code",
   "execution_count": null,
   "id": "lTsa3pdMb3Sr",
   "metadata": {
    "colab": {
     "base_uri": "https://localhost:8080/"
    },
    "executionInfo": {
     "elapsed": 28,
     "status": "ok",
     "timestamp": 1647322096079,
     "user": {
      "displayName": "Srikanth M Srikanth M",
      "photoUrl": "https://lh3.googleusercontent.com/a-/AOh14GharHiNxh1XG74YPXeNYjJSbcgfWzjyfo6t2d8NR94=s64",
      "userId": "07608372324138559378"
     },
     "user_tz": -330
    },
    "id": "lTsa3pdMb3Sr",
    "outputId": "223f0e82-d8ac-4182-ef0d-d2787725c771"
   },
   "outputs": [],
   "source": [
    "print('Best params','\\n',grid.best_params_)"
   ]
  },
  {
   "cell_type": "markdown",
   "id": "WsRphr6xb3Sr",
   "metadata": {
    "id": "WsRphr6xb3Sr"
   },
   "source": [
    "# 8.5.6 Final Model by best parameter"
   ]
  },
  {
   "cell_type": "code",
   "execution_count": null,
   "id": "Vd3ANusDb3Ss",
   "metadata": {
    "colab": {
     "base_uri": "https://localhost:8080/",
     "height": 300
    },
    "executionInfo": {
     "elapsed": 1697,
     "status": "ok",
     "timestamp": 1647322097767,
     "user": {
      "displayName": "Srikanth M Srikanth M",
      "photoUrl": "https://lh3.googleusercontent.com/a-/AOh14GharHiNxh1XG74YPXeNYjJSbcgfWzjyfo6t2d8NR94=s64",
      "userId": "07608372324138559378"
     },
     "user_tz": -330
    },
    "id": "Vd3ANusDb3Ss",
    "outputId": "2e86e225-488d-4944-d643-f570603b38d7"
   },
   "outputs": [],
   "source": [
    "lgbm4=LGBMClassifier(min_child_samples=450,max_depth=8,n_estimators=75,boosting_type='gbdt')\n",
    "lgbm4.fit(X_train_pca,y_train)\n",
    "lgbm_score=scorecard(lgbm4,X_train_pca,X_test_pca)\n",
    "lgbm_score"
   ]
  },
  {
   "cell_type": "markdown",
   "id": "bb59e38f",
   "metadata": {},
   "source": [
    "the above model metrics shows that overfitting is reduced"
   ]
  },
  {
   "cell_type": "code",
   "execution_count": null,
   "id": "hxDLXPq5dTiI",
   "metadata": {
    "id": "hxDLXPq5dTiI"
   },
   "outputs": [],
   "source": [
    "print(1,': bad customer')\n",
    "print(0,': good customer')\n",
    "plot_confusion_matrix(lgbm4)"
   ]
  },
  {
   "cell_type": "markdown",
   "id": "33403b0b",
   "metadata": {
    "id": "xfHjk2vPdZGl"
   },
   "source": [
    "The lgbm model is classifying the bad customer barely but it is good compared to others"
   ]
  },
  {
   "cell_type": "markdown",
   "id": "b3207421",
   "metadata": {},
   "source": [
    "# Next"
   ]
  },
  {
   "cell_type": "markdown",
   "id": "4813ad08",
   "metadata": {},
   "source": [
    "By observing all the model performance we can see the models are giving good accuracy but not able to classify customers properly. and there is conversion of data into PC components this approach will be difficulty in deploying the model so next trying industrial approaches to build a model and evaluate a model."
   ]
  },
  {
   "cell_type": "markdown",
   "id": "199505ec",
   "metadata": {},
   "source": [
    "# 9 Understanding industrial approach"
   ]
  },
  {
   "cell_type": "markdown",
   "id": "d07ce28f",
   "metadata": {},
   "source": [
    "# 9.1 Metrics"
   ]
  },
  {
   "cell_type": "markdown",
   "id": "a2ea3575",
   "metadata": {},
   "source": [
    "Defining a functions to calculate all metrics and trying on a trial data"
   ]
  },
  {
   "cell_type": "code",
   "execution_count": null,
   "id": "6e71e283",
   "metadata": {
    "scrolled": true
   },
   "outputs": [],
   "source": [
    "trial_data=data3.iloc[0:100,0:20]\n",
    "trial_data['Event']=data3['Event'].iloc[0:100]\n",
    "trial_data"
   ]
  },
  {
   "cell_type": "markdown",
   "id": "795bd2f5",
   "metadata": {},
   "source": [
    "# 9.1.1 Fill Rate analysis "
   ]
  },
  {
   "cell_type": "markdown",
   "id": "1215c4f7",
   "metadata": {},
   "source": [
    "Fill rate : ratio of number of non null data points to the total number of data points.\n",
    "    \n",
    "Fill rate is useful for the Feature selection, because fill rate tells how much percentage of data a particular variable has.\n",
    "\n",
    "defining a function and trying it on trial data\n"
   ]
  },
  {
   "cell_type": "code",
   "execution_count": null,
   "id": "376f50f9",
   "metadata": {},
   "outputs": [],
   "source": [
    "def fillrate(df):\n",
    "    data=pd.DataFrame(columns=['variable','unique_values','count','mean','median','mode','max','min',\n",
    "                               'fill rate'])\n",
    "    for var in df.columns:\n",
    "        if ((df[var].dtype!='object') and (df[var].dtype!='datetime64[ns]')):\n",
    "            fill_rate=np.round((1-(df[var].isnull().sum()/len(df[var])))*100,3)\n",
    "            data=data.append({'variable':var,'unique_values':len(df[var].value_counts()),'count':len(df[var]),\n",
    "                         'mean':np.round(df[var].mean(),3),'median':np.round(df[var].median(),3),'mode':np.NAN,'max':df[var].max(),\n",
    "                          'min':df[var].min(),'fill rate':fill_rate},ignore_index=True)\n",
    "        else:\n",
    "            fill_rate=np.round((1-(df[var].isnull().sum()/len(df[var])))*100,3)\n",
    "            data=data.append({'variable':var,'unique_values':len(df[var].value_counts()),'count':len(df[var]),\n",
    "                         'mean':np.NAN,'median':np.NAN,'mode':df[var].mode()[0],'max':np.NAN,\n",
    "                          'min':np.NAN,'fill rate':fill_rate},ignore_index=True)                      \n",
    "\n",
    "    return data"
   ]
  },
  {
   "cell_type": "code",
   "execution_count": null,
   "id": "b4f79185",
   "metadata": {},
   "outputs": [],
   "source": [
    "# fill rate for all variables in trial data\n",
    "df_fr=fillrate(trial_data)\n",
    "df_fr.head()"
   ]
  },
  {
   "cell_type": "markdown",
   "id": "5a74782b",
   "metadata": {},
   "source": [
    "# 9.1.2 WOE (Weight of evidence)  & IV (Information Value)"
   ]
  },
  {
   "cell_type": "markdown",
   "id": "63206392",
   "metadata": {},
   "source": [
    "WOE  (Weight of Evaluation) : the WOE tells the predictive power of an independent variable in relation to dependent variable. or it measure of seperation of good and bad customers.\n",
    "\n",
    "                                 WOE = In(% of non-events ➗ % of events)\n"
   ]
  },
  {
   "cell_type": "markdown",
   "id": "9d1c09f1",
   "metadata": {},
   "source": [
    "IV (Information value) : Information value is the single value representing the entire features predictive power. This will be useful during the feature selection.  \n",
    "\n",
    "                                 IV = ∑ (% of non-events - % of events) * WOE\n",
    "                                 \n",
    "based on IV values we can select Variables with higher information\n"
   ]
  },
  {
   "cell_type": "markdown",
   "id": "312c0f40",
   "metadata": {},
   "source": [
    "Defining a function to calculate Woe and Iv for all the variables"
   ]
  },
  {
   "cell_type": "code",
   "execution_count": null,
   "id": "ce745f8c",
   "metadata": {},
   "outputs": [],
   "source": [
    "def iv_woe(data, target, bins=10):\n",
    "    \n",
    "    newDF = pd.DataFrame()\n",
    "    \n",
    "    #Extract Column Names\n",
    "    cols = data.columns\n",
    "    \n",
    "    #Run WOE and IV on all the independent variables\n",
    "    for ivars in cols[~cols.isin([target])]:\n",
    "        if (data[ivars].dtype.kind in 'bifc') and (len(np.unique(data[ivars]))>10):\n",
    "            binned_x = pd.qcut(data[ivars], bins,  duplicates='drop')\n",
    "            d0 = pd.DataFrame({'x': binned_x, 'y': data[target]})\n",
    "        else:\n",
    "            d0 = pd.DataFrame({'x': data[ivars], 'y': data[target]})\n",
    "        d = d0.groupby(\"x\", as_index=False).agg({\"y\": [\"count\", \"sum\"]})\n",
    "        d.columns = ['Cutoff', 'N', 'Events']\n",
    "        d['% of Events'] =np.maximum(d['Events'],1) / d['Events'].sum()\n",
    "        d['Non-Events'] = d['N'] - d['Events']\n",
    "        d['% of Non-Events'] = np.maximum(d['Non-Events'],1) / d['Non-Events'].sum()\n",
    "        d['WoE'] = np.log(d['% of Events']/d['% of Non-Events'])\n",
    "        d['IV'] = d['WoE'] * (d['% of Events'] - d['% of Non-Events'])\n",
    "        temp =pd.DataFrame({\"Variable\" : [ivars], \"IV\" : [d['IV'].sum()]}, columns = [\"Variable\", \"IV\"])\n",
    "        newDF=pd.concat([newDF,temp], axis=0)\n",
    "        if ivars=='var_1':\n",
    "            a=d\n",
    "        \n",
    "    return newDF,a"
   ]
  },
  {
   "cell_type": "code",
   "execution_count": null,
   "id": "c5c37d2e",
   "metadata": {},
   "outputs": [],
   "source": [
    "df,a=iv_woe(trial_data,target='Event')"
   ]
  },
  {
   "cell_type": "code",
   "execution_count": null,
   "id": "2f7d75ba",
   "metadata": {},
   "outputs": [],
   "source": [
    "# Example table for woe and iv calculation for a single variable i,e var_1\n",
    "print('IV value for var_1 is ',a.IV.sum())\n",
    "a"
   ]
  },
  {
   "cell_type": "code",
   "execution_count": null,
   "id": "8d4a1fab",
   "metadata": {},
   "outputs": [],
   "source": [
    "#Iv values for all variables \n",
    "df.head()"
   ]
  },
  {
   "cell_type": "markdown",
   "id": "2a93c89f",
   "metadata": {},
   "source": [
    "# 9.2 Converting raw data to woe values"
   ]
  },
  {
   "cell_type": "code",
   "execution_count": null,
   "id": "32655090",
   "metadata": {},
   "outputs": [],
   "source": []
  },
  {
   "cell_type": "markdown",
   "id": "92d61b3d",
   "metadata": {},
   "source": [
    "The variables in the dataset has a different scales (eg, var1 has values 0 to 1 but var2 has 1000 to 50000), so the raw data is replaced by woe values (with corresponding woe bins) now the variables in the dataset are almost in a same scale. now the training of model will be better without any misleading in learning of model. \n"
   ]
  },
  {
   "cell_type": "code",
   "execution_count": null,
   "id": "fa4fe4ef",
   "metadata": {},
   "outputs": [],
   "source": [
    "# defining function to replace raw data by woe values\n",
    "def raw_to_woe_values(data, target, bins=10):\n",
    "    \n",
    "    df = data.copy()\n",
    "    \n",
    "    #Extract Column Names\n",
    "    cols = data.columns\n",
    "    \n",
    "    #Run WOE and IV on all the independent variables\n",
    "    for ivars in cols:\n",
    "        if (data[ivars].dtype.kind in 'bifc') and (len(np.unique(data[ivars]))>10):\n",
    "            binned_x = pd.qcut(data[ivars], bins,  duplicates='drop')\n",
    "            d0 = pd.DataFrame({'x': binned_x, 'y': target})\n",
    "        else:\n",
    "            d0 = pd.DataFrame({'x': data[ivars], 'y': target})\n",
    "        d = d0.groupby(\"x\", as_index=False).agg({\"y\": [\"count\", \"sum\"]})\n",
    "        d.columns = ['Cutoff', 'N', 'Events']\n",
    "        d['% of Events'] =np.maximum(d['Events'],1) / d['Events'].sum()\n",
    "        d['Non-Events'] = d['N'] - d['Events']\n",
    "        d['% of Non-Events'] = np.maximum(d['Non-Events'],1) / d['Non-Events'].sum()\n",
    "        d['WoE'] = np.log(d['% of Events']/d['% of Non-Events'])\n",
    "        z=list(d['Cutoff'])\n",
    "        j=list(d['WoE'])\n",
    "        dic={z[i]:j[i] for i in range(len(d))}\n",
    "        df[ivars]=d0['x'].map(dic)       \n",
    "    return df"
   ]
  },
  {
   "cell_type": "code",
   "execution_count": null,
   "id": "0ac64fdd",
   "metadata": {},
   "outputs": [],
   "source": [
    "a"
   ]
  },
  {
   "cell_type": "code",
   "execution_count": null,
   "id": "4eff0619",
   "metadata": {},
   "outputs": [],
   "source": [
    "y=trial_data['Event']\n",
    "df_woe=raw_to_woe_values(trial_data,y)\n",
    "df_woe.head()"
   ]
  },
  {
   "cell_type": "markdown",
   "id": "c659bd8f",
   "metadata": {},
   "source": [
    "the above user defined function able to replace entire data with woe values succesfully"
   ]
  },
  {
   "cell_type": "markdown",
   "id": "5259bc0d",
   "metadata": {},
   "source": [
    "# 9.3 Correlation and VIF"
   ]
  },
  {
   "cell_type": "markdown",
   "id": "6663f5e8",
   "metadata": {},
   "source": [
    "CORRELATION  between independent variables is very important to reduce multicollinearity or overfitting, if the correlation is high between two variables then both the variables will give same meaning or influence on target variable.\n",
    "\n",
    "so we can drop one of them this will reduce complexity of model as well as chance of overfitting. \n",
    "\n",
    "VIF value tells about the multicollinearity between variables. if vif is high then variables are highly correlated with each other this leads to the overfitting of model. to avoid overfitting we remove variables having vif values.\n",
    "\n",
    "vif is useful to reduce multicollinearity of model.\n"
   ]
  },
  {
   "cell_type": "code",
   "execution_count": null,
   "id": "34c55f20",
   "metadata": {},
   "outputs": [],
   "source": [
    "# defining function to return all variables with correlation > cutoff\n",
    "def correlation(d,poscutoff,negcutoff):\n",
    "    v1=[]\n",
    "    v2=[]\n",
    "    corr=[]\n",
    "    for a in d.columns:\n",
    "        for b in d.drop(labels=a,axis=1).columns:\n",
    "            if d[a].corr(d[b])>poscutoff:\n",
    "                v1.append(a)\n",
    "                v2.append(b)\n",
    "                corr.append(d[a].corr(d[b]))\n",
    "            elif d[a].corr(d[b])<negcutoff:\n",
    "                v1.append(a)\n",
    "                v2.append(b)\n",
    "                corr.append(d[a].corr(d[b]))\n",
    "    df=pd.DataFrame({'v1':v1,'v2':v2,'corr':corr})    \n",
    "    return df"
   ]
  },
  {
   "cell_type": "code",
   "execution_count": null,
   "id": "cf5baa08",
   "metadata": {},
   "outputs": [],
   "source": [
    "df_corr=correlation(trial_data,0.85,-0.85)\n",
    "df_corr.head()"
   ]
  },
  {
   "cell_type": "code",
   "execution_count": null,
   "id": "65338c96",
   "metadata": {},
   "outputs": [],
   "source": [
    "# defining a function to return vif value for each variable\n",
    "def VIf_value(data):\n",
    "    z=data\n",
    "    vif_data = pd.DataFrame()\n",
    "    vif_data[\"feature\"] = z.columns\n",
    "    vif_data[\"VIF\"] = [variance_inflation_factor(z.values, i) for i in range(len(z.columns))]\n",
    "    vif_data=vif_data.set_index('feature')\n",
    "    return vif_data    "
   ]
  },
  {
   "cell_type": "code",
   "execution_count": null,
   "id": "4e591712",
   "metadata": {},
   "outputs": [],
   "source": [
    "df_vif=VIf_value(trial_data)\n",
    "df_vif.head()"
   ]
  },
  {
   "cell_type": "markdown",
   "id": "a7371b61",
   "metadata": {},
   "source": [
    "# 9.4 model evaluation metrics"
   ]
  },
  {
   "cell_type": "markdown",
   "id": "c7545e73",
   "metadata": {},
   "source": [
    "# 9.4.1 Scorecard"
   ]
  },
  {
   "cell_type": "code",
   "execution_count": null,
   "id": "6f42d61b",
   "metadata": {},
   "outputs": [],
   "source": [
    "# defining function to return all model metrics\n",
    "def scorecard(model,X_train,X_test):\n",
    "    y_pred=model.predict(X_test)\n",
    "    y_prob=model.predict_proba(X_test)[:,1]\n",
    "    cc=confusion_matrix(y_test,y_pred)\n",
    "    TN=cc[0,0]\n",
    "    TP=cc[1,1]\n",
    "    FP=cc[0,1]\n",
    "    FN=cc[1,0]\n",
    "    accuracy=(TP+TN)/(TP+TN+FP+FN)\n",
    "    precision=TP/(TP+FP)\n",
    "    recall=TP/(TP+FN)\n",
    "    Tpr=TP/(TP+FN)\n",
    "    Fpr=FP/(FP+TN)\n",
    "    f1_ratio=2*((recall*precision)/(precision+recall))\n",
    "    auc_test=roc_auc_score(y_test,y_pred)\n",
    "    a,ks_test=ks(model,X_test,y_test)\n",
    "    y_pred_tr=model.predict(X_train)\n",
    "    y_prob_tr=model.predict_proba(X_train)[:,1]\n",
    "    cctrain=confusion_matrix(y_train,y_pred_tr)\n",
    "    TN=cctrain[0,0]\n",
    "    TP=cctrain[1,1]\n",
    "    FP=cctrain[0,1]\n",
    "    FN=cctrain[1,0]\n",
    "    accuracy_tr=(TP+TN)/(TP+TN+FP+FN)\n",
    "    precision_tr=TP/(TP+FP)\n",
    "    recall_tr=TP/(TP+FN)\n",
    "    Tpr_tr=TP/(TP+FN)\n",
    "    Fpr_tr=FP/(FP+TN)\n",
    "    f1_ratio_tr=2*((recall_tr*precision_tr)/(precision_tr+recall_tr))\n",
    "    auc_tr=roc_auc_score(y_train,y_pred_tr)\n",
    "    a,ks_train=ks(model,X_train,y_train)\n",
    "    df=pd.DataFrame({'metrics':['accuracy','precision','recall','TPR','FPR','f1_ratio','auc_score','ks statistics'],\n",
    "                     'train':[accuracy_tr,precision_tr,recall_tr,Tpr_tr,Fpr_tr,f1_ratio_tr,auc_tr,ks_train],\n",
    "                      'test':[accuracy,precision,recall,Tpr,Fpr,f1_ratio,auc_test,ks_test]})\n",
    "    df=df.set_index('metrics')\n",
    "    return df"
   ]
  },
  {
   "cell_type": "code",
   "execution_count": null,
   "id": "966f9e48",
   "metadata": {},
   "outputs": [],
   "source": [
    "X=trial_data.drop(labels=['Event'],axis=1)\n",
    "y=trial_data['Event']\n",
    "X_train, X_test, y_train, y_test = train_test_split(X, y, test_size=0.2, random_state=42,stratify=y)\n",
    "lr=LogisticRegression()\n",
    "lr.fit(X_train,y_train)"
   ]
  },
  {
   "cell_type": "code",
   "execution_count": null,
   "id": "093c2bc9",
   "metadata": {},
   "outputs": [],
   "source": [
    "lr_score=scorecard(lr,X_train,X_test)\n",
    "lr_score"
   ]
  },
  {
   "cell_type": "markdown",
   "id": "06c8db6d",
   "metadata": {},
   "source": [
    "# 9.4.2 Ks table"
   ]
  },
  {
   "cell_type": "markdown",
   "id": "684d60a5",
   "metadata": {},
   "source": [
    "KS Statistics : Measure the Discriminatory power of a model.\n",
    "\n",
    "it is the maximum difference between distribution of cumulative events and cumulative non events.\n",
    "\n",
    "good ks statistics value is between 40 to 70\n",
    "\n",
    "if value is greater than 70 than model is overfitting\n"
   ]
  },
  {
   "cell_type": "code",
   "execution_count": null,
   "id": "552c30ec",
   "metadata": {},
   "outputs": [],
   "source": [
    "# defining function to create Ks table for a given model\n",
    "def ks(model,X_test,y_test):\n",
    "    y_prob=model.predict_proba(X_test)[:,1]\n",
    "    data=pd.DataFrame({'target':y_test,'prob':y_prob})    \n",
    "    data['target0'] = 1 - data['target']\n",
    "    data['bucket'] = pd.qcut(data['prob'], 10)\n",
    "    grouped = data.groupby('bucket', as_index = False)\n",
    "    kstable = pd.DataFrame()\n",
    "    kstable['min_prob'] = grouped.min()['prob']\n",
    "    kstable['max_prob'] = grouped.max()['prob']\n",
    "    kstable['events']   = grouped.sum()['target']\n",
    "    kstable['nonevents'] = grouped.sum()['target0']\n",
    "    kstable = kstable.sort_values(by=\"min_prob\", ascending=False).reset_index(drop = True)\n",
    "    kstable['event_rate'] = (kstable.events / data['target'].sum()).apply('{0:.2%}'.format)\n",
    "    kstable['nonevent_rate'] = (kstable.nonevents / data['target0'].sum()).apply('{0:.2%}'.format)\n",
    "    kstable['cum_eventrate']=(kstable.events / data['target'].sum()).cumsum()\n",
    "    kstable['cum_noneventrate']=(kstable.nonevents / data['target0'].sum()).cumsum()\n",
    "    kstable['KS'] = np.round(kstable['cum_eventrate']-kstable['cum_noneventrate'], 3) * 100\n",
    "    kstable['cum_eventrate']= kstable['cum_eventrate'].apply('{0:.2%}'.format)\n",
    "    kstable['cum_noneventrate']= kstable['cum_noneventrate'].apply('{0:.2%}'.format)\n",
    "    kstable.index = range(1,11)\n",
    "    kstable.index.rename('Decile', inplace=True)\n",
    "    pd.set_option('display.max_columns', 9)\n",
    "    ks=np.round(kstable.KS.max(),2)\n",
    "    return kstable,ks\n"
   ]
  },
  {
   "cell_type": "code",
   "execution_count": null,
   "id": "b156e0cd",
   "metadata": {},
   "outputs": [],
   "source": [
    "ks_table,ks_value=ks(lr,X_train,y_train)\n",
    "print('ks value of lr model is ',ks_value)"
   ]
  },
  {
   "cell_type": "code",
   "execution_count": null,
   "id": "909ac2ee",
   "metadata": {},
   "outputs": [],
   "source": [
    "ks_table"
   ]
  },
  {
   "cell_type": "code",
   "execution_count": null,
   "id": "892f61b0",
   "metadata": {},
   "outputs": [],
   "source": []
  }
 ],
 "metadata": {
  "colab": {
   "collapsed_sections": [
    "74326ee0",
    "d3f213aa",
    "cc79022c"
   ],
   "name": "Mtech project phase 1.ipynb",
   "provenance": []
  },
  "kernelspec": {
   "display_name": "Python 3 (ipykernel)",
   "language": "python",
   "name": "python3"
  },
  "language_info": {
   "codemirror_mode": {
    "name": "ipython",
    "version": 3
   },
   "file_extension": ".py",
   "mimetype": "text/x-python",
   "name": "python",
   "nbconvert_exporter": "python",
   "pygments_lexer": "ipython3",
   "version": "3.9.7"
  }
 },
 "nbformat": 4,
 "nbformat_minor": 5
}
